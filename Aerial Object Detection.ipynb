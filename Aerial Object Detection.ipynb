{
 "cells": [
  {
   "cell_type": "code",
   "execution_count": 4,
   "id": "2ade2ca9-f915-436a-9717-a5b8c5601636",
   "metadata": {},
   "outputs": [
    {
     "name": "stdout",
     "output_type": "stream",
     "text": [
      "YOLOv8 imported successfully!\n"
     ]
    }
   ],
   "source": [
    "#📌 Optional: Object Detection with YOLOv8\n",
    "#Steps:\n",
    "#1. Install YOLOv8.\n",
    "#2. Prepare dataset (images and YOLOv8-format .txt labels — already done).\n",
    "#3. Create a data.yaml configuration file for YOLOv8.\n",
    "\n",
    "from ultralytics import YOLO\n",
    "print(\"YOLOv8 imported successfully!\")"
   ]
  },
  {
   "cell_type": "code",
   "execution_count": 3,
   "id": "98eab8c8-1733-4174-87db-3958da14e4ec",
   "metadata": {},
   "outputs": [],
   "source": [
    "import zipfile\n",
    "with zipfile.ZipFile(\"object_detection_Dataset.zip\", 'r') as zip_ref:\n",
    "    zip_ref.extractall(\"object_detection_Dataset\")"
   ]
  },
  {
   "cell_type": "code",
   "execution_count": 5,
   "id": "39d20336-12f2-4c8d-9034-ca57dffa5f32",
   "metadata": {
    "scrolled": true
   },
   "outputs": [
    {
     "name": "stdout",
     "output_type": "stream",
     "text": [
      "Downloading https://github.com/ultralytics/assets/releases/download/v0.0.0/yolov8n.pt to 'yolov8n.pt'...\n"
     ]
    },
    {
     "name": "stderr",
     "output_type": "stream",
     "text": [
      "100%|█████████████████████████████████████████████████████████████████████████████| 6.23M/6.23M [00:03<00:00, 1.97MB/s]\n"
     ]
    },
    {
     "name": "stdout",
     "output_type": "stream",
     "text": [
      "New https://pypi.org/project/ultralytics/8.3.220 available 😃 Update with 'pip install -U ultralytics'\n",
      "Ultralytics YOLOv8.0.230 🚀 Python-3.10.11 torch-2.2.0+cpu CPU (Intel Core(TM) i3-6006U 2.00GHz)\n",
      "\u001b[34m\u001b[1mengine\\trainer: \u001b[0mtask=detect, mode=train, model=yolov8n.pt, data=C:\\Users\\vidya\\Desktop\\Jupyter Notebook\\Aerial Object Classification & Detection\\object_detection_Dataset\\data.yaml, epochs=20, time=None, patience=10, batch=2, imgsz=320, save=True, save_period=5, cache=False, device=cpu, workers=0, project=runs, name=yolov8_cpu_training, exist_ok=False, pretrained=True, optimizer=auto, verbose=True, seed=0, deterministic=True, single_cls=False, rect=False, cos_lr=False, close_mosaic=10, resume=False, amp=True, fraction=1.0, profile=False, freeze=None, overlap_mask=True, mask_ratio=4, dropout=0.0, val=True, split=val, save_json=False, save_hybrid=False, conf=None, iou=0.7, max_det=300, half=False, dnn=False, plots=True, source=None, vid_stride=1, stream_buffer=False, visualize=False, augment=False, agnostic_nms=False, classes=None, retina_masks=False, embed=None, show=False, save_frames=False, save_txt=False, save_conf=False, save_crop=False, show_labels=True, show_conf=True, show_boxes=True, line_width=None, format=torchscript, keras=False, optimize=False, int8=False, dynamic=False, simplify=False, opset=None, workspace=4, nms=False, lr0=0.01, lrf=0.01, momentum=0.937, weight_decay=0.0005, warmup_epochs=3.0, warmup_momentum=0.8, warmup_bias_lr=0.1, box=7.5, cls=0.5, dfl=1.5, pose=12.0, kobj=1.0, label_smoothing=0.0, nbs=64, hsv_h=0.015, hsv_s=0.7, hsv_v=0.4, degrees=0.0, translate=0.1, scale=0.5, shear=0.0, perspective=0.0, flipud=0.0, fliplr=0.5, mosaic=1.0, mixup=0.0, copy_paste=0.0, cfg=None, tracker=botsort.yaml, save_dir=runs\\yolov8_cpu_training\n",
      "Overriding model.yaml nc=80 with nc=2\n",
      "\n",
      "                   from  n    params  module                                       arguments                     \n",
      "  0                  -1  1       464  ultralytics.nn.modules.conv.Conv             [3, 16, 3, 2]                 \n",
      "  1                  -1  1      4672  ultralytics.nn.modules.conv.Conv             [16, 32, 3, 2]                \n",
      "  2                  -1  1      7360  ultralytics.nn.modules.block.C2f             [32, 32, 1, True]             \n",
      "  3                  -1  1     18560  ultralytics.nn.modules.conv.Conv             [32, 64, 3, 2]                \n",
      "  4                  -1  2     49664  ultralytics.nn.modules.block.C2f             [64, 64, 2, True]             \n",
      "  5                  -1  1     73984  ultralytics.nn.modules.conv.Conv             [64, 128, 3, 2]               \n",
      "  6                  -1  2    197632  ultralytics.nn.modules.block.C2f             [128, 128, 2, True]           \n",
      "  7                  -1  1    295424  ultralytics.nn.modules.conv.Conv             [128, 256, 3, 2]              \n",
      "  8                  -1  1    460288  ultralytics.nn.modules.block.C2f             [256, 256, 1, True]           \n",
      "  9                  -1  1    164608  ultralytics.nn.modules.block.SPPF            [256, 256, 5]                 \n",
      " 10                  -1  1         0  torch.nn.modules.upsampling.Upsample         [None, 2, 'nearest']          \n",
      " 11             [-1, 6]  1         0  ultralytics.nn.modules.conv.Concat           [1]                           \n",
      " 12                  -1  1    148224  ultralytics.nn.modules.block.C2f             [384, 128, 1]                 \n",
      " 13                  -1  1         0  torch.nn.modules.upsampling.Upsample         [None, 2, 'nearest']          \n",
      " 14             [-1, 4]  1         0  ultralytics.nn.modules.conv.Concat           [1]                           \n",
      " 15                  -1  1     37248  ultralytics.nn.modules.block.C2f             [192, 64, 1]                  \n",
      " 16                  -1  1     36992  ultralytics.nn.modules.conv.Conv             [64, 64, 3, 2]                \n",
      " 17            [-1, 12]  1         0  ultralytics.nn.modules.conv.Concat           [1]                           \n",
      " 18                  -1  1    123648  ultralytics.nn.modules.block.C2f             [192, 128, 1]                 \n",
      " 19                  -1  1    147712  ultralytics.nn.modules.conv.Conv             [128, 128, 3, 2]              \n",
      " 20             [-1, 9]  1         0  ultralytics.nn.modules.conv.Concat           [1]                           \n",
      " 21                  -1  1    493056  ultralytics.nn.modules.block.C2f             [384, 256, 1]                 \n",
      " 22        [15, 18, 21]  1    751702  ultralytics.nn.modules.head.Detect           [2, [64, 128, 256]]           \n",
      "Model summary: 225 layers, 3011238 parameters, 3011222 gradients, 8.2 GFLOPs\n",
      "\n",
      "Transferred 319/355 items from pretrained weights\n",
      "\u001b[34m\u001b[1mTensorBoard: \u001b[0mStart with 'tensorboard --logdir runs\\yolov8_cpu_training', view at http://localhost:6006/\n",
      "Freezing layer 'model.22.dfl.conv.weight'\n"
     ]
    },
    {
     "name": "stderr",
     "output_type": "stream",
     "text": [
      "\u001b[34m\u001b[1mtrain: \u001b[0mScanning C:\\Users\\vidya\\Desktop\\Jupyter Notebook\\Aerial Object Classification & Detection\\object_detection_Datas\u001b[0m\n"
     ]
    },
    {
     "name": "stdout",
     "output_type": "stream",
     "text": [
      "\u001b[34m\u001b[1mtrain: \u001b[0mNew cache created: C:\\Users\\vidya\\Desktop\\Jupyter Notebook\\Aerial Object Classification & Detection\\object_detection_Dataset\\train\\labels.cache\n"
     ]
    },
    {
     "name": "stderr",
     "output_type": "stream",
     "text": [
      "\u001b[34m\u001b[1mval: \u001b[0mScanning C:\\Users\\vidya\\Desktop\\Jupyter Notebook\\Aerial Object Classification & Detection\\object_detection_Dataset\u001b[0m\n"
     ]
    },
    {
     "name": "stdout",
     "output_type": "stream",
     "text": [
      "\u001b[34m\u001b[1mval: \u001b[0mNew cache created: C:\\Users\\vidya\\Desktop\\Jupyter Notebook\\Aerial Object Classification & Detection\\object_detection_Dataset\\valid\\labels.cache\n",
      "Plotting labels to runs\\yolov8_cpu_training\\labels.jpg... \n",
      "\u001b[34m\u001b[1moptimizer:\u001b[0m 'optimizer=auto' found, ignoring 'lr0=0.01' and 'momentum=0.937' and determining best 'optimizer', 'lr0' and 'momentum' automatically... \n",
      "\u001b[34m\u001b[1moptimizer:\u001b[0m AdamW(lr=0.001667, momentum=0.9) with parameter groups 57 weight(decay=0.0), 64 weight(decay=0.0005), 63 bias(decay=0.0)\n",
      "20 epochs...\n",
      "\n",
      "      Epoch    GPU_mem   box_loss   cls_loss   dfl_loss  Instances       Size\n"
     ]
    },
    {
     "name": "stderr",
     "output_type": "stream",
     "text": [
      "       1/20         0G      1.651       2.39      1.599          5        320: 100%|██████████| 1364/1364 [14:57<00:00,\n",
      "                 Class     Images  Instances      Box(P          R      mAP50  mAP50-95): 100%|██████████| 112/112 [00:"
     ]
    },
    {
     "name": "stdout",
     "output_type": "stream",
     "text": [
      "                   all        448        663      0.503      0.479      0.469      0.248\n"
     ]
    },
    {
     "name": "stderr",
     "output_type": "stream",
     "text": [
      "\n"
     ]
    },
    {
     "name": "stdout",
     "output_type": "stream",
     "text": [
      "\n",
      "      Epoch    GPU_mem   box_loss   cls_loss   dfl_loss  Instances       Size\n"
     ]
    },
    {
     "name": "stderr",
     "output_type": "stream",
     "text": [
      "       2/20         0G      1.746      2.283      1.683          6        320: 100%|██████████| 1364/1364 [15:19<00:00,\n",
      "                 Class     Images  Instances      Box(P          R      mAP50  mAP50-95): 100%|██████████| 112/112 [00:"
     ]
    },
    {
     "name": "stdout",
     "output_type": "stream",
     "text": [
      "                   all        448        663      0.513      0.443      0.452      0.216\n"
     ]
    },
    {
     "name": "stderr",
     "output_type": "stream",
     "text": [
      "\n"
     ]
    },
    {
     "name": "stdout",
     "output_type": "stream",
     "text": [
      "\n",
      "      Epoch    GPU_mem   box_loss   cls_loss   dfl_loss  Instances       Size\n"
     ]
    },
    {
     "name": "stderr",
     "output_type": "stream",
     "text": [
      "       3/20         0G      1.743      2.223      1.686         10        320: 100%|██████████| 1364/1364 [13:55<00:00,\n",
      "                 Class     Images  Instances      Box(P          R      mAP50  mAP50-95): 100%|██████████| 112/112 [00:"
     ]
    },
    {
     "name": "stdout",
     "output_type": "stream",
     "text": [
      "                   all        448        663      0.501      0.464      0.461      0.228\n"
     ]
    },
    {
     "name": "stderr",
     "output_type": "stream",
     "text": [
      "\n"
     ]
    },
    {
     "name": "stdout",
     "output_type": "stream",
     "text": [
      "\n",
      "      Epoch    GPU_mem   box_loss   cls_loss   dfl_loss  Instances       Size\n"
     ]
    },
    {
     "name": "stderr",
     "output_type": "stream",
     "text": [
      "       4/20         0G      1.746      2.182      1.693          8        320: 100%|██████████| 1364/1364 [14:42<00:00,\n",
      "                 Class     Images  Instances      Box(P          R      mAP50  mAP50-95): 100%|██████████| 112/112 [01:"
     ]
    },
    {
     "name": "stdout",
     "output_type": "stream",
     "text": [
      "                   all        448        663      0.483      0.516      0.445      0.209\n"
     ]
    },
    {
     "name": "stderr",
     "output_type": "stream",
     "text": [
      "\n"
     ]
    },
    {
     "name": "stdout",
     "output_type": "stream",
     "text": [
      "\n",
      "      Epoch    GPU_mem   box_loss   cls_loss   dfl_loss  Instances       Size\n"
     ]
    },
    {
     "name": "stderr",
     "output_type": "stream",
     "text": [
      "       5/20         0G        1.7      2.066       1.65          7        320: 100%|██████████| 1364/1364 [17:09<00:00,\n",
      "                 Class     Images  Instances      Box(P          R      mAP50  mAP50-95): 100%|██████████| 112/112 [01:\n"
     ]
    },
    {
     "name": "stdout",
     "output_type": "stream",
     "text": [
      "                   all        448        663      0.412       0.47      0.395       0.21\n",
      "\n",
      "      Epoch    GPU_mem   box_loss   cls_loss   dfl_loss  Instances       Size\n"
     ]
    },
    {
     "name": "stderr",
     "output_type": "stream",
     "text": [
      "       6/20         0G      1.645      1.956      1.634          4        320: 100%|██████████| 1364/1364 [18:10<00:00,\n",
      "                 Class     Images  Instances      Box(P          R      mAP50  mAP50-95): 100%|██████████| 112/112 [01:"
     ]
    },
    {
     "name": "stdout",
     "output_type": "stream",
     "text": [
      "                   all        448        663      0.544      0.518      0.506      0.278\n"
     ]
    },
    {
     "name": "stderr",
     "output_type": "stream",
     "text": [
      "\n"
     ]
    },
    {
     "name": "stdout",
     "output_type": "stream",
     "text": [
      "\n",
      "      Epoch    GPU_mem   box_loss   cls_loss   dfl_loss  Instances       Size\n"
     ]
    },
    {
     "name": "stderr",
     "output_type": "stream",
     "text": [
      "       7/20         0G      1.588      1.955      1.598          5        320: 100%|██████████| 1364/1364 [13:29<00:00,\n",
      "                 Class     Images  Instances      Box(P          R      mAP50  mAP50-95): 100%|██████████| 112/112 [00:"
     ]
    },
    {
     "name": "stdout",
     "output_type": "stream",
     "text": [
      "                   all        448        663      0.477      0.596      0.506      0.266\n"
     ]
    },
    {
     "name": "stderr",
     "output_type": "stream",
     "text": [
      "\n"
     ]
    },
    {
     "name": "stdout",
     "output_type": "stream",
     "text": [
      "\n",
      "      Epoch    GPU_mem   box_loss   cls_loss   dfl_loss  Instances       Size\n"
     ]
    },
    {
     "name": "stderr",
     "output_type": "stream",
     "text": [
      "       8/20         0G      1.563      1.828      1.558          3        320: 100%|██████████| 1364/1364 [12:45<00:00,\n",
      "                 Class     Images  Instances      Box(P          R      mAP50  mAP50-95): 100%|██████████| 112/112 [00:"
     ]
    },
    {
     "name": "stdout",
     "output_type": "stream",
     "text": [
      "                   all        448        663      0.658      0.584      0.611      0.345\n"
     ]
    },
    {
     "name": "stderr",
     "output_type": "stream",
     "text": [
      "\n"
     ]
    },
    {
     "name": "stdout",
     "output_type": "stream",
     "text": [
      "\n",
      "      Epoch    GPU_mem   box_loss   cls_loss   dfl_loss  Instances       Size\n"
     ]
    },
    {
     "name": "stderr",
     "output_type": "stream",
     "text": [
      "       9/20         0G      1.536      1.768       1.56          7        320: 100%|██████████| 1364/1364 [12:40<00:00,\n",
      "                 Class     Images  Instances      Box(P          R      mAP50  mAP50-95): 100%|██████████| 112/112 [00:"
     ]
    },
    {
     "name": "stdout",
     "output_type": "stream",
     "text": [
      "                   all        448        663      0.677      0.543      0.581      0.298\n"
     ]
    },
    {
     "name": "stderr",
     "output_type": "stream",
     "text": [
      "\n"
     ]
    },
    {
     "name": "stdout",
     "output_type": "stream",
     "text": [
      "\n",
      "      Epoch    GPU_mem   box_loss   cls_loss   dfl_loss  Instances       Size\n"
     ]
    },
    {
     "name": "stderr",
     "output_type": "stream",
     "text": [
      "      10/20         0G      1.518      1.718      1.545          3        320: 100%|██████████| 1364/1364 [15:19<00:00,\n",
      "                 Class     Images  Instances      Box(P          R      mAP50  mAP50-95): 100%|██████████| 112/112 [00:"
     ]
    },
    {
     "name": "stdout",
     "output_type": "stream",
     "text": [
      "                   all        448        663       0.58      0.575      0.574       0.34\n"
     ]
    },
    {
     "name": "stderr",
     "output_type": "stream",
     "text": [
      "\n"
     ]
    },
    {
     "name": "stdout",
     "output_type": "stream",
     "text": [
      "Closing dataloader mosaic\n",
      "\n",
      "      Epoch    GPU_mem   box_loss   cls_loss   dfl_loss  Instances       Size\n"
     ]
    },
    {
     "name": "stderr",
     "output_type": "stream",
     "text": [
      "      11/20         0G      1.438      1.471      1.482          2        320: 100%|██████████| 1364/1364 [16:52<00:00,\n",
      "                 Class     Images  Instances      Box(P          R      mAP50  mAP50-95): 100%|██████████| 112/112 [01:"
     ]
    },
    {
     "name": "stdout",
     "output_type": "stream",
     "text": [
      "                   all        448        663      0.669       0.62      0.619      0.354\n"
     ]
    },
    {
     "name": "stderr",
     "output_type": "stream",
     "text": [
      "\n"
     ]
    },
    {
     "name": "stdout",
     "output_type": "stream",
     "text": [
      "\n",
      "      Epoch    GPU_mem   box_loss   cls_loss   dfl_loss  Instances       Size\n"
     ]
    },
    {
     "name": "stderr",
     "output_type": "stream",
     "text": [
      "      12/20         0G       1.38      1.337      1.427          2        320: 100%|██████████| 1364/1364 [15:43<00:00,\n",
      "                 Class     Images  Instances      Box(P          R      mAP50  mAP50-95): 100%|██████████| 112/112 [01:"
     ]
    },
    {
     "name": "stdout",
     "output_type": "stream",
     "text": [
      "                   all        448        663      0.674      0.632      0.647       0.37\n"
     ]
    },
    {
     "name": "stderr",
     "output_type": "stream",
     "text": [
      "\n"
     ]
    },
    {
     "name": "stdout",
     "output_type": "stream",
     "text": [
      "\n",
      "      Epoch    GPU_mem   box_loss   cls_loss   dfl_loss  Instances       Size\n"
     ]
    },
    {
     "name": "stderr",
     "output_type": "stream",
     "text": [
      "      13/20         0G      1.342      1.257      1.403          4        320: 100%|██████████| 1364/1364 [15:36<00:00,\n",
      "                 Class     Images  Instances      Box(P          R      mAP50  mAP50-95): 100%|██████████| 112/112 [01:"
     ]
    },
    {
     "name": "stdout",
     "output_type": "stream",
     "text": [
      "                   all        448        663      0.744      0.617      0.669      0.399\n"
     ]
    },
    {
     "name": "stderr",
     "output_type": "stream",
     "text": [
      "\n"
     ]
    },
    {
     "name": "stdout",
     "output_type": "stream",
     "text": [
      "\n",
      "      Epoch    GPU_mem   box_loss   cls_loss   dfl_loss  Instances       Size\n"
     ]
    },
    {
     "name": "stderr",
     "output_type": "stream",
     "text": [
      "      14/20         0G      1.308      1.191      1.367          2        320: 100%|██████████| 1364/1364 [12:43<00:00,\n",
      "                 Class     Images  Instances      Box(P          R      mAP50  mAP50-95): 100%|██████████| 112/112 [00:"
     ]
    },
    {
     "name": "stdout",
     "output_type": "stream",
     "text": [
      "                   all        448        663      0.764      0.618      0.669      0.394\n"
     ]
    },
    {
     "name": "stderr",
     "output_type": "stream",
     "text": [
      "\n"
     ]
    },
    {
     "name": "stdout",
     "output_type": "stream",
     "text": [
      "\n",
      "      Epoch    GPU_mem   box_loss   cls_loss   dfl_loss  Instances       Size\n"
     ]
    },
    {
     "name": "stderr",
     "output_type": "stream",
     "text": [
      "      15/20         0G      1.251      1.115      1.336          2        320: 100%|██████████| 1364/1364 [12:26<00:00,\n",
      "                 Class     Images  Instances      Box(P          R      mAP50  mAP50-95): 100%|██████████| 112/112 [00:"
     ]
    },
    {
     "name": "stdout",
     "output_type": "stream",
     "text": [
      "                   all        448        663      0.802       0.57      0.664      0.414\n"
     ]
    },
    {
     "name": "stderr",
     "output_type": "stream",
     "text": [
      "\n"
     ]
    },
    {
     "name": "stdout",
     "output_type": "stream",
     "text": [
      "\n",
      "      Epoch    GPU_mem   box_loss   cls_loss   dfl_loss  Instances       Size\n"
     ]
    },
    {
     "name": "stderr",
     "output_type": "stream",
     "text": [
      "      16/20         0G      1.245      1.093      1.327          2        320: 100%|██████████| 1364/1364 [12:18<00:00,\n",
      "                 Class     Images  Instances      Box(P          R      mAP50  mAP50-95): 100%|██████████| 112/112 [00:"
     ]
    },
    {
     "name": "stdout",
     "output_type": "stream",
     "text": [
      "                   all        448        663      0.802      0.634      0.695      0.422\n"
     ]
    },
    {
     "name": "stderr",
     "output_type": "stream",
     "text": [
      "\n"
     ]
    },
    {
     "name": "stdout",
     "output_type": "stream",
     "text": [
      "\n",
      "      Epoch    GPU_mem   box_loss   cls_loss   dfl_loss  Instances       Size\n"
     ]
    },
    {
     "name": "stderr",
     "output_type": "stream",
     "text": [
      "      17/20         0G      1.213      1.049      1.312          2        320: 100%|██████████| 1364/1364 [12:21<00:00,\n",
      "                 Class     Images  Instances      Box(P          R      mAP50  mAP50-95): 100%|██████████| 112/112 [01:"
     ]
    },
    {
     "name": "stdout",
     "output_type": "stream",
     "text": [
      "                   all        448        663      0.752      0.658      0.695      0.436\n"
     ]
    },
    {
     "name": "stderr",
     "output_type": "stream",
     "text": [
      "\n"
     ]
    },
    {
     "name": "stdout",
     "output_type": "stream",
     "text": [
      "\n",
      "      Epoch    GPU_mem   box_loss   cls_loss   dfl_loss  Instances       Size\n"
     ]
    },
    {
     "name": "stderr",
     "output_type": "stream",
     "text": [
      "      18/20         0G      1.176      0.995      1.285          3        320: 100%|██████████| 1364/1364 [14:05<00:00,\n",
      "                 Class     Images  Instances      Box(P          R      mAP50  mAP50-95): 100%|██████████| 112/112 [00:"
     ]
    },
    {
     "name": "stdout",
     "output_type": "stream",
     "text": [
      "                   all        448        663      0.792      0.644      0.698      0.438\n"
     ]
    },
    {
     "name": "stderr",
     "output_type": "stream",
     "text": [
      "\n"
     ]
    },
    {
     "name": "stdout",
     "output_type": "stream",
     "text": [
      "\n",
      "      Epoch    GPU_mem   box_loss   cls_loss   dfl_loss  Instances       Size\n"
     ]
    },
    {
     "name": "stderr",
     "output_type": "stream",
     "text": [
      "      19/20         0G      1.143     0.9536       1.26          2        320: 100%|██████████| 1364/1364 [13:53<00:00,\n",
      "                 Class     Images  Instances      Box(P          R      mAP50  mAP50-95): 100%|██████████| 112/112 [00:"
     ]
    },
    {
     "name": "stdout",
     "output_type": "stream",
     "text": [
      "                   all        448        663      0.794      0.671      0.707      0.445\n"
     ]
    },
    {
     "name": "stderr",
     "output_type": "stream",
     "text": [
      "\n"
     ]
    },
    {
     "name": "stdout",
     "output_type": "stream",
     "text": [
      "\n",
      "      Epoch    GPU_mem   box_loss   cls_loss   dfl_loss  Instances       Size\n"
     ]
    },
    {
     "name": "stderr",
     "output_type": "stream",
     "text": [
      "      20/20         0G       1.12     0.9198      1.241          2        320: 100%|██████████| 1364/1364 [13:23<00:00,\n",
      "                 Class     Images  Instances      Box(P          R      mAP50  mAP50-95): 100%|██████████| 112/112 [00:"
     ]
    },
    {
     "name": "stdout",
     "output_type": "stream",
     "text": [
      "                   all        448        663      0.753      0.674      0.703      0.437\n"
     ]
    },
    {
     "name": "stderr",
     "output_type": "stream",
     "text": [
      "\n"
     ]
    },
    {
     "name": "stdout",
     "output_type": "stream",
     "text": [
      "\n",
      "20 epochs completed in 5.136 hours.\n",
      "Optimizer stripped from runs\\yolov8_cpu_training\\weights\\last.pt, 6.2MB\n",
      "Optimizer stripped from runs\\yolov8_cpu_training\\weights\\best.pt, 6.2MB\n",
      "\n",
      "Validating runs\\yolov8_cpu_training\\weights\\best.pt...\n",
      "Ultralytics YOLOv8.0.230 🚀 Python-3.10.11 torch-2.2.0+cpu CPU (Intel Core(TM) i3-6006U 2.00GHz)\n",
      "Model summary (fused): 168 layers, 3006038 parameters, 0 gradients, 8.1 GFLOPs\n"
     ]
    },
    {
     "name": "stderr",
     "output_type": "stream",
     "text": [
      "                 Class     Images  Instances      Box(P          R      mAP50  mAP50-95): 100%|██████████| 112/112 [00:\n"
     ]
    },
    {
     "name": "stdout",
     "output_type": "stream",
     "text": [
      "                   all        448        663      0.793      0.671      0.707      0.444\n",
      "                  Bird        448        414      0.713      0.502      0.545      0.314\n",
      "                 drone        448        249      0.874      0.839      0.869      0.575\n",
      "Speed: 1.2ms preprocess, 100.8ms inference, 0.0ms loss, 0.8ms postprocess per image\n",
      "Results saved to \u001b[1mruns\\yolov8_cpu_training\u001b[0m\n"
     ]
    },
    {
     "data": {
      "text/plain": [
       "ultralytics.utils.metrics.DetMetrics object with attributes:\n",
       "\n",
       "ap_class_index: array([0, 1])\n",
       "box: ultralytics.utils.metrics.Metric object\n",
       "confusion_matrix: <ultralytics.utils.metrics.ConfusionMatrix object at 0x0000029A9AEB7EE0>\n",
       "curves: ['Precision-Recall(B)', 'F1-Confidence(B)', 'Precision-Confidence(B)', 'Recall-Confidence(B)']\n",
       "curves_results: [[array([          0,    0.001001,    0.002002,    0.003003,    0.004004,    0.005005,    0.006006,    0.007007,    0.008008,    0.009009,     0.01001,    0.011011,    0.012012,    0.013013,    0.014014,    0.015015,    0.016016,    0.017017,    0.018018,    0.019019,     0.02002,    0.021021,    0.022022,    0.023023,\n",
       "          0.024024,    0.025025,    0.026026,    0.027027,    0.028028,    0.029029,     0.03003,    0.031031,    0.032032,    0.033033,    0.034034,    0.035035,    0.036036,    0.037037,    0.038038,    0.039039,     0.04004,    0.041041,    0.042042,    0.043043,    0.044044,    0.045045,    0.046046,    0.047047,\n",
       "          0.048048,    0.049049,     0.05005,    0.051051,    0.052052,    0.053053,    0.054054,    0.055055,    0.056056,    0.057057,    0.058058,    0.059059,     0.06006,    0.061061,    0.062062,    0.063063,    0.064064,    0.065065,    0.066066,    0.067067,    0.068068,    0.069069,     0.07007,    0.071071,\n",
       "          0.072072,    0.073073,    0.074074,    0.075075,    0.076076,    0.077077,    0.078078,    0.079079,     0.08008,    0.081081,    0.082082,    0.083083,    0.084084,    0.085085,    0.086086,    0.087087,    0.088088,    0.089089,     0.09009,    0.091091,    0.092092,    0.093093,    0.094094,    0.095095,\n",
       "          0.096096,    0.097097,    0.098098,    0.099099,      0.1001,      0.1011,      0.1021,      0.1031,      0.1041,     0.10511,     0.10611,     0.10711,     0.10811,     0.10911,     0.11011,     0.11111,     0.11211,     0.11311,     0.11411,     0.11512,     0.11612,     0.11712,     0.11812,     0.11912,\n",
       "           0.12012,     0.12112,     0.12212,     0.12312,     0.12412,     0.12513,     0.12613,     0.12713,     0.12813,     0.12913,     0.13013,     0.13113,     0.13213,     0.13313,     0.13413,     0.13514,     0.13614,     0.13714,     0.13814,     0.13914,     0.14014,     0.14114,     0.14214,     0.14314,\n",
       "           0.14414,     0.14515,     0.14615,     0.14715,     0.14815,     0.14915,     0.15015,     0.15115,     0.15215,     0.15315,     0.15415,     0.15516,     0.15616,     0.15716,     0.15816,     0.15916,     0.16016,     0.16116,     0.16216,     0.16316,     0.16416,     0.16517,     0.16617,     0.16717,\n",
       "           0.16817,     0.16917,     0.17017,     0.17117,     0.17217,     0.17317,     0.17417,     0.17518,     0.17618,     0.17718,     0.17818,     0.17918,     0.18018,     0.18118,     0.18218,     0.18318,     0.18418,     0.18519,     0.18619,     0.18719,     0.18819,     0.18919,     0.19019,     0.19119,\n",
       "           0.19219,     0.19319,     0.19419,      0.1952,      0.1962,      0.1972,      0.1982,      0.1992,      0.2002,      0.2012,      0.2022,      0.2032,      0.2042,     0.20521,     0.20621,     0.20721,     0.20821,     0.20921,     0.21021,     0.21121,     0.21221,     0.21321,     0.21421,     0.21522,\n",
       "           0.21622,     0.21722,     0.21822,     0.21922,     0.22022,     0.22122,     0.22222,     0.22322,     0.22422,     0.22523,     0.22623,     0.22723,     0.22823,     0.22923,     0.23023,     0.23123,     0.23223,     0.23323,     0.23423,     0.23524,     0.23624,     0.23724,     0.23824,     0.23924,\n",
       "           0.24024,     0.24124,     0.24224,     0.24324,     0.24424,     0.24525,     0.24625,     0.24725,     0.24825,     0.24925,     0.25025,     0.25125,     0.25225,     0.25325,     0.25425,     0.25526,     0.25626,     0.25726,     0.25826,     0.25926,     0.26026,     0.26126,     0.26226,     0.26326,\n",
       "           0.26426,     0.26527,     0.26627,     0.26727,     0.26827,     0.26927,     0.27027,     0.27127,     0.27227,     0.27327,     0.27427,     0.27528,     0.27628,     0.27728,     0.27828,     0.27928,     0.28028,     0.28128,     0.28228,     0.28328,     0.28428,     0.28529,     0.28629,     0.28729,\n",
       "           0.28829,     0.28929,     0.29029,     0.29129,     0.29229,     0.29329,     0.29429,      0.2953,      0.2963,      0.2973,      0.2983,      0.2993,      0.3003,      0.3013,      0.3023,      0.3033,      0.3043,     0.30531,     0.30631,     0.30731,     0.30831,     0.30931,     0.31031,     0.31131,\n",
       "           0.31231,     0.31331,     0.31431,     0.31532,     0.31632,     0.31732,     0.31832,     0.31932,     0.32032,     0.32132,     0.32232,     0.32332,     0.32432,     0.32533,     0.32633,     0.32733,     0.32833,     0.32933,     0.33033,     0.33133,     0.33233,     0.33333,     0.33433,     0.33534,\n",
       "           0.33634,     0.33734,     0.33834,     0.33934,     0.34034,     0.34134,     0.34234,     0.34334,     0.34434,     0.34535,     0.34635,     0.34735,     0.34835,     0.34935,     0.35035,     0.35135,     0.35235,     0.35335,     0.35435,     0.35536,     0.35636,     0.35736,     0.35836,     0.35936,\n",
       "           0.36036,     0.36136,     0.36236,     0.36336,     0.36436,     0.36537,     0.36637,     0.36737,     0.36837,     0.36937,     0.37037,     0.37137,     0.37237,     0.37337,     0.37437,     0.37538,     0.37638,     0.37738,     0.37838,     0.37938,     0.38038,     0.38138,     0.38238,     0.38338,\n",
       "           0.38438,     0.38539,     0.38639,     0.38739,     0.38839,     0.38939,     0.39039,     0.39139,     0.39239,     0.39339,     0.39439,      0.3954,      0.3964,      0.3974,      0.3984,      0.3994,      0.4004,      0.4014,      0.4024,      0.4034,      0.4044,     0.40541,     0.40641,     0.40741,\n",
       "           0.40841,     0.40941,     0.41041,     0.41141,     0.41241,     0.41341,     0.41441,     0.41542,     0.41642,     0.41742,     0.41842,     0.41942,     0.42042,     0.42142,     0.42242,     0.42342,     0.42442,     0.42543,     0.42643,     0.42743,     0.42843,     0.42943,     0.43043,     0.43143,\n",
       "           0.43243,     0.43343,     0.43443,     0.43544,     0.43644,     0.43744,     0.43844,     0.43944,     0.44044,     0.44144,     0.44244,     0.44344,     0.44444,     0.44545,     0.44645,     0.44745,     0.44845,     0.44945,     0.45045,     0.45145,     0.45245,     0.45345,     0.45445,     0.45546,\n",
       "           0.45646,     0.45746,     0.45846,     0.45946,     0.46046,     0.46146,     0.46246,     0.46346,     0.46446,     0.46547,     0.46647,     0.46747,     0.46847,     0.46947,     0.47047,     0.47147,     0.47247,     0.47347,     0.47447,     0.47548,     0.47648,     0.47748,     0.47848,     0.47948,\n",
       "           0.48048,     0.48148,     0.48248,     0.48348,     0.48448,     0.48549,     0.48649,     0.48749,     0.48849,     0.48949,     0.49049,     0.49149,     0.49249,     0.49349,     0.49449,      0.4955,      0.4965,      0.4975,      0.4985,      0.4995,      0.5005,      0.5015,      0.5025,      0.5035,\n",
       "            0.5045,     0.50551,     0.50651,     0.50751,     0.50851,     0.50951,     0.51051,     0.51151,     0.51251,     0.51351,     0.51451,     0.51552,     0.51652,     0.51752,     0.51852,     0.51952,     0.52052,     0.52152,     0.52252,     0.52352,     0.52452,     0.52553,     0.52653,     0.52753,\n",
       "           0.52853,     0.52953,     0.53053,     0.53153,     0.53253,     0.53353,     0.53453,     0.53554,     0.53654,     0.53754,     0.53854,     0.53954,     0.54054,     0.54154,     0.54254,     0.54354,     0.54454,     0.54555,     0.54655,     0.54755,     0.54855,     0.54955,     0.55055,     0.55155,\n",
       "           0.55255,     0.55355,     0.55455,     0.55556,     0.55656,     0.55756,     0.55856,     0.55956,     0.56056,     0.56156,     0.56256,     0.56356,     0.56456,     0.56557,     0.56657,     0.56757,     0.56857,     0.56957,     0.57057,     0.57157,     0.57257,     0.57357,     0.57457,     0.57558,\n",
       "           0.57658,     0.57758,     0.57858,     0.57958,     0.58058,     0.58158,     0.58258,     0.58358,     0.58458,     0.58559,     0.58659,     0.58759,     0.58859,     0.58959,     0.59059,     0.59159,     0.59259,     0.59359,     0.59459,      0.5956,      0.5966,      0.5976,      0.5986,      0.5996,\n",
       "            0.6006,      0.6016,      0.6026,      0.6036,      0.6046,     0.60561,     0.60661,     0.60761,     0.60861,     0.60961,     0.61061,     0.61161,     0.61261,     0.61361,     0.61461,     0.61562,     0.61662,     0.61762,     0.61862,     0.61962,     0.62062,     0.62162,     0.62262,     0.62362,\n",
       "           0.62462,     0.62563,     0.62663,     0.62763,     0.62863,     0.62963,     0.63063,     0.63163,     0.63263,     0.63363,     0.63463,     0.63564,     0.63664,     0.63764,     0.63864,     0.63964,     0.64064,     0.64164,     0.64264,     0.64364,     0.64464,     0.64565,     0.64665,     0.64765,\n",
       "           0.64865,     0.64965,     0.65065,     0.65165,     0.65265,     0.65365,     0.65465,     0.65566,     0.65666,     0.65766,     0.65866,     0.65966,     0.66066,     0.66166,     0.66266,     0.66366,     0.66466,     0.66567,     0.66667,     0.66767,     0.66867,     0.66967,     0.67067,     0.67167,\n",
       "           0.67267,     0.67367,     0.67467,     0.67568,     0.67668,     0.67768,     0.67868,     0.67968,     0.68068,     0.68168,     0.68268,     0.68368,     0.68468,     0.68569,     0.68669,     0.68769,     0.68869,     0.68969,     0.69069,     0.69169,     0.69269,     0.69369,     0.69469,      0.6957,\n",
       "            0.6967,      0.6977,      0.6987,      0.6997,      0.7007,      0.7017,      0.7027,      0.7037,      0.7047,     0.70571,     0.70671,     0.70771,     0.70871,     0.70971,     0.71071,     0.71171,     0.71271,     0.71371,     0.71471,     0.71572,     0.71672,     0.71772,     0.71872,     0.71972,\n",
       "           0.72072,     0.72172,     0.72272,     0.72372,     0.72472,     0.72573,     0.72673,     0.72773,     0.72873,     0.72973,     0.73073,     0.73173,     0.73273,     0.73373,     0.73473,     0.73574,     0.73674,     0.73774,     0.73874,     0.73974,     0.74074,     0.74174,     0.74274,     0.74374,\n",
       "           0.74474,     0.74575,     0.74675,     0.74775,     0.74875,     0.74975,     0.75075,     0.75175,     0.75275,     0.75375,     0.75475,     0.75576,     0.75676,     0.75776,     0.75876,     0.75976,     0.76076,     0.76176,     0.76276,     0.76376,     0.76476,     0.76577,     0.76677,     0.76777,\n",
       "           0.76877,     0.76977,     0.77077,     0.77177,     0.77277,     0.77377,     0.77477,     0.77578,     0.77678,     0.77778,     0.77878,     0.77978,     0.78078,     0.78178,     0.78278,     0.78378,     0.78478,     0.78579,     0.78679,     0.78779,     0.78879,     0.78979,     0.79079,     0.79179,\n",
       "           0.79279,     0.79379,     0.79479,      0.7958,      0.7968,      0.7978,      0.7988,      0.7998,      0.8008,      0.8018,      0.8028,      0.8038,      0.8048,     0.80581,     0.80681,     0.80781,     0.80881,     0.80981,     0.81081,     0.81181,     0.81281,     0.81381,     0.81481,     0.81582,\n",
       "           0.81682,     0.81782,     0.81882,     0.81982,     0.82082,     0.82182,     0.82282,     0.82382,     0.82482,     0.82583,     0.82683,     0.82783,     0.82883,     0.82983,     0.83083,     0.83183,     0.83283,     0.83383,     0.83483,     0.83584,     0.83684,     0.83784,     0.83884,     0.83984,\n",
       "           0.84084,     0.84184,     0.84284,     0.84384,     0.84484,     0.84585,     0.84685,     0.84785,     0.84885,     0.84985,     0.85085,     0.85185,     0.85285,     0.85385,     0.85485,     0.85586,     0.85686,     0.85786,     0.85886,     0.85986,     0.86086,     0.86186,     0.86286,     0.86386,\n",
       "           0.86486,     0.86587,     0.86687,     0.86787,     0.86887,     0.86987,     0.87087,     0.87187,     0.87287,     0.87387,     0.87487,     0.87588,     0.87688,     0.87788,     0.87888,     0.87988,     0.88088,     0.88188,     0.88288,     0.88388,     0.88488,     0.88589,     0.88689,     0.88789,\n",
       "           0.88889,     0.88989,     0.89089,     0.89189,     0.89289,     0.89389,     0.89489,      0.8959,      0.8969,      0.8979,      0.8989,      0.8999,      0.9009,      0.9019,      0.9029,      0.9039,      0.9049,     0.90591,     0.90691,     0.90791,     0.90891,     0.90991,     0.91091,     0.91191,\n",
       "           0.91291,     0.91391,     0.91491,     0.91592,     0.91692,     0.91792,     0.91892,     0.91992,     0.92092,     0.92192,     0.92292,     0.92392,     0.92492,     0.92593,     0.92693,     0.92793,     0.92893,     0.92993,     0.93093,     0.93193,     0.93293,     0.93393,     0.93493,     0.93594,\n",
       "           0.93694,     0.93794,     0.93894,     0.93994,     0.94094,     0.94194,     0.94294,     0.94394,     0.94494,     0.94595,     0.94695,     0.94795,     0.94895,     0.94995,     0.95095,     0.95195,     0.95295,     0.95395,     0.95495,     0.95596,     0.95696,     0.95796,     0.95896,     0.95996,\n",
       "           0.96096,     0.96196,     0.96296,     0.96396,     0.96496,     0.96597,     0.96697,     0.96797,     0.96897,     0.96997,     0.97097,     0.97197,     0.97297,     0.97397,     0.97497,     0.97598,     0.97698,     0.97798,     0.97898,     0.97998,     0.98098,     0.98198,     0.98298,     0.98398,\n",
       "           0.98498,     0.98599,     0.98699,     0.98799,     0.98899,     0.98999,     0.99099,     0.99199,     0.99299,     0.99399,     0.99499,       0.996,       0.997,       0.998,       0.999,           1]), array([[          1,           1,           1, ...,   0.0003581,  0.00017905,           0],\n",
       "       [          1,           1,           1, ...,   0.0045181,    0.002259,           0]]), 'Recall', 'Precision'], [array([          0,    0.001001,    0.002002,    0.003003,    0.004004,    0.005005,    0.006006,    0.007007,    0.008008,    0.009009,     0.01001,    0.011011,    0.012012,    0.013013,    0.014014,    0.015015,    0.016016,    0.017017,    0.018018,    0.019019,     0.02002,    0.021021,    0.022022,    0.023023,\n",
       "          0.024024,    0.025025,    0.026026,    0.027027,    0.028028,    0.029029,     0.03003,    0.031031,    0.032032,    0.033033,    0.034034,    0.035035,    0.036036,    0.037037,    0.038038,    0.039039,     0.04004,    0.041041,    0.042042,    0.043043,    0.044044,    0.045045,    0.046046,    0.047047,\n",
       "          0.048048,    0.049049,     0.05005,    0.051051,    0.052052,    0.053053,    0.054054,    0.055055,    0.056056,    0.057057,    0.058058,    0.059059,     0.06006,    0.061061,    0.062062,    0.063063,    0.064064,    0.065065,    0.066066,    0.067067,    0.068068,    0.069069,     0.07007,    0.071071,\n",
       "          0.072072,    0.073073,    0.074074,    0.075075,    0.076076,    0.077077,    0.078078,    0.079079,     0.08008,    0.081081,    0.082082,    0.083083,    0.084084,    0.085085,    0.086086,    0.087087,    0.088088,    0.089089,     0.09009,    0.091091,    0.092092,    0.093093,    0.094094,    0.095095,\n",
       "          0.096096,    0.097097,    0.098098,    0.099099,      0.1001,      0.1011,      0.1021,      0.1031,      0.1041,     0.10511,     0.10611,     0.10711,     0.10811,     0.10911,     0.11011,     0.11111,     0.11211,     0.11311,     0.11411,     0.11512,     0.11612,     0.11712,     0.11812,     0.11912,\n",
       "           0.12012,     0.12112,     0.12212,     0.12312,     0.12412,     0.12513,     0.12613,     0.12713,     0.12813,     0.12913,     0.13013,     0.13113,     0.13213,     0.13313,     0.13413,     0.13514,     0.13614,     0.13714,     0.13814,     0.13914,     0.14014,     0.14114,     0.14214,     0.14314,\n",
       "           0.14414,     0.14515,     0.14615,     0.14715,     0.14815,     0.14915,     0.15015,     0.15115,     0.15215,     0.15315,     0.15415,     0.15516,     0.15616,     0.15716,     0.15816,     0.15916,     0.16016,     0.16116,     0.16216,     0.16316,     0.16416,     0.16517,     0.16617,     0.16717,\n",
       "           0.16817,     0.16917,     0.17017,     0.17117,     0.17217,     0.17317,     0.17417,     0.17518,     0.17618,     0.17718,     0.17818,     0.17918,     0.18018,     0.18118,     0.18218,     0.18318,     0.18418,     0.18519,     0.18619,     0.18719,     0.18819,     0.18919,     0.19019,     0.19119,\n",
       "           0.19219,     0.19319,     0.19419,      0.1952,      0.1962,      0.1972,      0.1982,      0.1992,      0.2002,      0.2012,      0.2022,      0.2032,      0.2042,     0.20521,     0.20621,     0.20721,     0.20821,     0.20921,     0.21021,     0.21121,     0.21221,     0.21321,     0.21421,     0.21522,\n",
       "           0.21622,     0.21722,     0.21822,     0.21922,     0.22022,     0.22122,     0.22222,     0.22322,     0.22422,     0.22523,     0.22623,     0.22723,     0.22823,     0.22923,     0.23023,     0.23123,     0.23223,     0.23323,     0.23423,     0.23524,     0.23624,     0.23724,     0.23824,     0.23924,\n",
       "           0.24024,     0.24124,     0.24224,     0.24324,     0.24424,     0.24525,     0.24625,     0.24725,     0.24825,     0.24925,     0.25025,     0.25125,     0.25225,     0.25325,     0.25425,     0.25526,     0.25626,     0.25726,     0.25826,     0.25926,     0.26026,     0.26126,     0.26226,     0.26326,\n",
       "           0.26426,     0.26527,     0.26627,     0.26727,     0.26827,     0.26927,     0.27027,     0.27127,     0.27227,     0.27327,     0.27427,     0.27528,     0.27628,     0.27728,     0.27828,     0.27928,     0.28028,     0.28128,     0.28228,     0.28328,     0.28428,     0.28529,     0.28629,     0.28729,\n",
       "           0.28829,     0.28929,     0.29029,     0.29129,     0.29229,     0.29329,     0.29429,      0.2953,      0.2963,      0.2973,      0.2983,      0.2993,      0.3003,      0.3013,      0.3023,      0.3033,      0.3043,     0.30531,     0.30631,     0.30731,     0.30831,     0.30931,     0.31031,     0.31131,\n",
       "           0.31231,     0.31331,     0.31431,     0.31532,     0.31632,     0.31732,     0.31832,     0.31932,     0.32032,     0.32132,     0.32232,     0.32332,     0.32432,     0.32533,     0.32633,     0.32733,     0.32833,     0.32933,     0.33033,     0.33133,     0.33233,     0.33333,     0.33433,     0.33534,\n",
       "           0.33634,     0.33734,     0.33834,     0.33934,     0.34034,     0.34134,     0.34234,     0.34334,     0.34434,     0.34535,     0.34635,     0.34735,     0.34835,     0.34935,     0.35035,     0.35135,     0.35235,     0.35335,     0.35435,     0.35536,     0.35636,     0.35736,     0.35836,     0.35936,\n",
       "           0.36036,     0.36136,     0.36236,     0.36336,     0.36436,     0.36537,     0.36637,     0.36737,     0.36837,     0.36937,     0.37037,     0.37137,     0.37237,     0.37337,     0.37437,     0.37538,     0.37638,     0.37738,     0.37838,     0.37938,     0.38038,     0.38138,     0.38238,     0.38338,\n",
       "           0.38438,     0.38539,     0.38639,     0.38739,     0.38839,     0.38939,     0.39039,     0.39139,     0.39239,     0.39339,     0.39439,      0.3954,      0.3964,      0.3974,      0.3984,      0.3994,      0.4004,      0.4014,      0.4024,      0.4034,      0.4044,     0.40541,     0.40641,     0.40741,\n",
       "           0.40841,     0.40941,     0.41041,     0.41141,     0.41241,     0.41341,     0.41441,     0.41542,     0.41642,     0.41742,     0.41842,     0.41942,     0.42042,     0.42142,     0.42242,     0.42342,     0.42442,     0.42543,     0.42643,     0.42743,     0.42843,     0.42943,     0.43043,     0.43143,\n",
       "           0.43243,     0.43343,     0.43443,     0.43544,     0.43644,     0.43744,     0.43844,     0.43944,     0.44044,     0.44144,     0.44244,     0.44344,     0.44444,     0.44545,     0.44645,     0.44745,     0.44845,     0.44945,     0.45045,     0.45145,     0.45245,     0.45345,     0.45445,     0.45546,\n",
       "           0.45646,     0.45746,     0.45846,     0.45946,     0.46046,     0.46146,     0.46246,     0.46346,     0.46446,     0.46547,     0.46647,     0.46747,     0.46847,     0.46947,     0.47047,     0.47147,     0.47247,     0.47347,     0.47447,     0.47548,     0.47648,     0.47748,     0.47848,     0.47948,\n",
       "           0.48048,     0.48148,     0.48248,     0.48348,     0.48448,     0.48549,     0.48649,     0.48749,     0.48849,     0.48949,     0.49049,     0.49149,     0.49249,     0.49349,     0.49449,      0.4955,      0.4965,      0.4975,      0.4985,      0.4995,      0.5005,      0.5015,      0.5025,      0.5035,\n",
       "            0.5045,     0.50551,     0.50651,     0.50751,     0.50851,     0.50951,     0.51051,     0.51151,     0.51251,     0.51351,     0.51451,     0.51552,     0.51652,     0.51752,     0.51852,     0.51952,     0.52052,     0.52152,     0.52252,     0.52352,     0.52452,     0.52553,     0.52653,     0.52753,\n",
       "           0.52853,     0.52953,     0.53053,     0.53153,     0.53253,     0.53353,     0.53453,     0.53554,     0.53654,     0.53754,     0.53854,     0.53954,     0.54054,     0.54154,     0.54254,     0.54354,     0.54454,     0.54555,     0.54655,     0.54755,     0.54855,     0.54955,     0.55055,     0.55155,\n",
       "           0.55255,     0.55355,     0.55455,     0.55556,     0.55656,     0.55756,     0.55856,     0.55956,     0.56056,     0.56156,     0.56256,     0.56356,     0.56456,     0.56557,     0.56657,     0.56757,     0.56857,     0.56957,     0.57057,     0.57157,     0.57257,     0.57357,     0.57457,     0.57558,\n",
       "           0.57658,     0.57758,     0.57858,     0.57958,     0.58058,     0.58158,     0.58258,     0.58358,     0.58458,     0.58559,     0.58659,     0.58759,     0.58859,     0.58959,     0.59059,     0.59159,     0.59259,     0.59359,     0.59459,      0.5956,      0.5966,      0.5976,      0.5986,      0.5996,\n",
       "            0.6006,      0.6016,      0.6026,      0.6036,      0.6046,     0.60561,     0.60661,     0.60761,     0.60861,     0.60961,     0.61061,     0.61161,     0.61261,     0.61361,     0.61461,     0.61562,     0.61662,     0.61762,     0.61862,     0.61962,     0.62062,     0.62162,     0.62262,     0.62362,\n",
       "           0.62462,     0.62563,     0.62663,     0.62763,     0.62863,     0.62963,     0.63063,     0.63163,     0.63263,     0.63363,     0.63463,     0.63564,     0.63664,     0.63764,     0.63864,     0.63964,     0.64064,     0.64164,     0.64264,     0.64364,     0.64464,     0.64565,     0.64665,     0.64765,\n",
       "           0.64865,     0.64965,     0.65065,     0.65165,     0.65265,     0.65365,     0.65465,     0.65566,     0.65666,     0.65766,     0.65866,     0.65966,     0.66066,     0.66166,     0.66266,     0.66366,     0.66466,     0.66567,     0.66667,     0.66767,     0.66867,     0.66967,     0.67067,     0.67167,\n",
       "           0.67267,     0.67367,     0.67467,     0.67568,     0.67668,     0.67768,     0.67868,     0.67968,     0.68068,     0.68168,     0.68268,     0.68368,     0.68468,     0.68569,     0.68669,     0.68769,     0.68869,     0.68969,     0.69069,     0.69169,     0.69269,     0.69369,     0.69469,      0.6957,\n",
       "            0.6967,      0.6977,      0.6987,      0.6997,      0.7007,      0.7017,      0.7027,      0.7037,      0.7047,     0.70571,     0.70671,     0.70771,     0.70871,     0.70971,     0.71071,     0.71171,     0.71271,     0.71371,     0.71471,     0.71572,     0.71672,     0.71772,     0.71872,     0.71972,\n",
       "           0.72072,     0.72172,     0.72272,     0.72372,     0.72472,     0.72573,     0.72673,     0.72773,     0.72873,     0.72973,     0.73073,     0.73173,     0.73273,     0.73373,     0.73473,     0.73574,     0.73674,     0.73774,     0.73874,     0.73974,     0.74074,     0.74174,     0.74274,     0.74374,\n",
       "           0.74474,     0.74575,     0.74675,     0.74775,     0.74875,     0.74975,     0.75075,     0.75175,     0.75275,     0.75375,     0.75475,     0.75576,     0.75676,     0.75776,     0.75876,     0.75976,     0.76076,     0.76176,     0.76276,     0.76376,     0.76476,     0.76577,     0.76677,     0.76777,\n",
       "           0.76877,     0.76977,     0.77077,     0.77177,     0.77277,     0.77377,     0.77477,     0.77578,     0.77678,     0.77778,     0.77878,     0.77978,     0.78078,     0.78178,     0.78278,     0.78378,     0.78478,     0.78579,     0.78679,     0.78779,     0.78879,     0.78979,     0.79079,     0.79179,\n",
       "           0.79279,     0.79379,     0.79479,      0.7958,      0.7968,      0.7978,      0.7988,      0.7998,      0.8008,      0.8018,      0.8028,      0.8038,      0.8048,     0.80581,     0.80681,     0.80781,     0.80881,     0.80981,     0.81081,     0.81181,     0.81281,     0.81381,     0.81481,     0.81582,\n",
       "           0.81682,     0.81782,     0.81882,     0.81982,     0.82082,     0.82182,     0.82282,     0.82382,     0.82482,     0.82583,     0.82683,     0.82783,     0.82883,     0.82983,     0.83083,     0.83183,     0.83283,     0.83383,     0.83483,     0.83584,     0.83684,     0.83784,     0.83884,     0.83984,\n",
       "           0.84084,     0.84184,     0.84284,     0.84384,     0.84484,     0.84585,     0.84685,     0.84785,     0.84885,     0.84985,     0.85085,     0.85185,     0.85285,     0.85385,     0.85485,     0.85586,     0.85686,     0.85786,     0.85886,     0.85986,     0.86086,     0.86186,     0.86286,     0.86386,\n",
       "           0.86486,     0.86587,     0.86687,     0.86787,     0.86887,     0.86987,     0.87087,     0.87187,     0.87287,     0.87387,     0.87487,     0.87588,     0.87688,     0.87788,     0.87888,     0.87988,     0.88088,     0.88188,     0.88288,     0.88388,     0.88488,     0.88589,     0.88689,     0.88789,\n",
       "           0.88889,     0.88989,     0.89089,     0.89189,     0.89289,     0.89389,     0.89489,      0.8959,      0.8969,      0.8979,      0.8989,      0.8999,      0.9009,      0.9019,      0.9029,      0.9039,      0.9049,     0.90591,     0.90691,     0.90791,     0.90891,     0.90991,     0.91091,     0.91191,\n",
       "           0.91291,     0.91391,     0.91491,     0.91592,     0.91692,     0.91792,     0.91892,     0.91992,     0.92092,     0.92192,     0.92292,     0.92392,     0.92492,     0.92593,     0.92693,     0.92793,     0.92893,     0.92993,     0.93093,     0.93193,     0.93293,     0.93393,     0.93493,     0.93594,\n",
       "           0.93694,     0.93794,     0.93894,     0.93994,     0.94094,     0.94194,     0.94294,     0.94394,     0.94494,     0.94595,     0.94695,     0.94795,     0.94895,     0.94995,     0.95095,     0.95195,     0.95295,     0.95395,     0.95495,     0.95596,     0.95696,     0.95796,     0.95896,     0.95996,\n",
       "           0.96096,     0.96196,     0.96296,     0.96396,     0.96496,     0.96597,     0.96697,     0.96797,     0.96897,     0.96997,     0.97097,     0.97197,     0.97297,     0.97397,     0.97497,     0.97598,     0.97698,     0.97798,     0.97898,     0.97998,     0.98098,     0.98198,     0.98298,     0.98398,\n",
       "           0.98498,     0.98599,     0.98699,     0.98799,     0.98899,     0.98999,     0.99099,     0.99199,     0.99299,     0.99399,     0.99499,       0.996,       0.997,       0.998,       0.999,           1]), array([[   0.055963,    0.056004,    0.086029, ...,           0,           0,           0],\n",
       "       [    0.16563,     0.16569,     0.24659, ...,           0,           0,           0]]), 'Confidence', 'F1'], [array([          0,    0.001001,    0.002002,    0.003003,    0.004004,    0.005005,    0.006006,    0.007007,    0.008008,    0.009009,     0.01001,    0.011011,    0.012012,    0.013013,    0.014014,    0.015015,    0.016016,    0.017017,    0.018018,    0.019019,     0.02002,    0.021021,    0.022022,    0.023023,\n",
       "          0.024024,    0.025025,    0.026026,    0.027027,    0.028028,    0.029029,     0.03003,    0.031031,    0.032032,    0.033033,    0.034034,    0.035035,    0.036036,    0.037037,    0.038038,    0.039039,     0.04004,    0.041041,    0.042042,    0.043043,    0.044044,    0.045045,    0.046046,    0.047047,\n",
       "          0.048048,    0.049049,     0.05005,    0.051051,    0.052052,    0.053053,    0.054054,    0.055055,    0.056056,    0.057057,    0.058058,    0.059059,     0.06006,    0.061061,    0.062062,    0.063063,    0.064064,    0.065065,    0.066066,    0.067067,    0.068068,    0.069069,     0.07007,    0.071071,\n",
       "          0.072072,    0.073073,    0.074074,    0.075075,    0.076076,    0.077077,    0.078078,    0.079079,     0.08008,    0.081081,    0.082082,    0.083083,    0.084084,    0.085085,    0.086086,    0.087087,    0.088088,    0.089089,     0.09009,    0.091091,    0.092092,    0.093093,    0.094094,    0.095095,\n",
       "          0.096096,    0.097097,    0.098098,    0.099099,      0.1001,      0.1011,      0.1021,      0.1031,      0.1041,     0.10511,     0.10611,     0.10711,     0.10811,     0.10911,     0.11011,     0.11111,     0.11211,     0.11311,     0.11411,     0.11512,     0.11612,     0.11712,     0.11812,     0.11912,\n",
       "           0.12012,     0.12112,     0.12212,     0.12312,     0.12412,     0.12513,     0.12613,     0.12713,     0.12813,     0.12913,     0.13013,     0.13113,     0.13213,     0.13313,     0.13413,     0.13514,     0.13614,     0.13714,     0.13814,     0.13914,     0.14014,     0.14114,     0.14214,     0.14314,\n",
       "           0.14414,     0.14515,     0.14615,     0.14715,     0.14815,     0.14915,     0.15015,     0.15115,     0.15215,     0.15315,     0.15415,     0.15516,     0.15616,     0.15716,     0.15816,     0.15916,     0.16016,     0.16116,     0.16216,     0.16316,     0.16416,     0.16517,     0.16617,     0.16717,\n",
       "           0.16817,     0.16917,     0.17017,     0.17117,     0.17217,     0.17317,     0.17417,     0.17518,     0.17618,     0.17718,     0.17818,     0.17918,     0.18018,     0.18118,     0.18218,     0.18318,     0.18418,     0.18519,     0.18619,     0.18719,     0.18819,     0.18919,     0.19019,     0.19119,\n",
       "           0.19219,     0.19319,     0.19419,      0.1952,      0.1962,      0.1972,      0.1982,      0.1992,      0.2002,      0.2012,      0.2022,      0.2032,      0.2042,     0.20521,     0.20621,     0.20721,     0.20821,     0.20921,     0.21021,     0.21121,     0.21221,     0.21321,     0.21421,     0.21522,\n",
       "           0.21622,     0.21722,     0.21822,     0.21922,     0.22022,     0.22122,     0.22222,     0.22322,     0.22422,     0.22523,     0.22623,     0.22723,     0.22823,     0.22923,     0.23023,     0.23123,     0.23223,     0.23323,     0.23423,     0.23524,     0.23624,     0.23724,     0.23824,     0.23924,\n",
       "           0.24024,     0.24124,     0.24224,     0.24324,     0.24424,     0.24525,     0.24625,     0.24725,     0.24825,     0.24925,     0.25025,     0.25125,     0.25225,     0.25325,     0.25425,     0.25526,     0.25626,     0.25726,     0.25826,     0.25926,     0.26026,     0.26126,     0.26226,     0.26326,\n",
       "           0.26426,     0.26527,     0.26627,     0.26727,     0.26827,     0.26927,     0.27027,     0.27127,     0.27227,     0.27327,     0.27427,     0.27528,     0.27628,     0.27728,     0.27828,     0.27928,     0.28028,     0.28128,     0.28228,     0.28328,     0.28428,     0.28529,     0.28629,     0.28729,\n",
       "           0.28829,     0.28929,     0.29029,     0.29129,     0.29229,     0.29329,     0.29429,      0.2953,      0.2963,      0.2973,      0.2983,      0.2993,      0.3003,      0.3013,      0.3023,      0.3033,      0.3043,     0.30531,     0.30631,     0.30731,     0.30831,     0.30931,     0.31031,     0.31131,\n",
       "           0.31231,     0.31331,     0.31431,     0.31532,     0.31632,     0.31732,     0.31832,     0.31932,     0.32032,     0.32132,     0.32232,     0.32332,     0.32432,     0.32533,     0.32633,     0.32733,     0.32833,     0.32933,     0.33033,     0.33133,     0.33233,     0.33333,     0.33433,     0.33534,\n",
       "           0.33634,     0.33734,     0.33834,     0.33934,     0.34034,     0.34134,     0.34234,     0.34334,     0.34434,     0.34535,     0.34635,     0.34735,     0.34835,     0.34935,     0.35035,     0.35135,     0.35235,     0.35335,     0.35435,     0.35536,     0.35636,     0.35736,     0.35836,     0.35936,\n",
       "           0.36036,     0.36136,     0.36236,     0.36336,     0.36436,     0.36537,     0.36637,     0.36737,     0.36837,     0.36937,     0.37037,     0.37137,     0.37237,     0.37337,     0.37437,     0.37538,     0.37638,     0.37738,     0.37838,     0.37938,     0.38038,     0.38138,     0.38238,     0.38338,\n",
       "           0.38438,     0.38539,     0.38639,     0.38739,     0.38839,     0.38939,     0.39039,     0.39139,     0.39239,     0.39339,     0.39439,      0.3954,      0.3964,      0.3974,      0.3984,      0.3994,      0.4004,      0.4014,      0.4024,      0.4034,      0.4044,     0.40541,     0.40641,     0.40741,\n",
       "           0.40841,     0.40941,     0.41041,     0.41141,     0.41241,     0.41341,     0.41441,     0.41542,     0.41642,     0.41742,     0.41842,     0.41942,     0.42042,     0.42142,     0.42242,     0.42342,     0.42442,     0.42543,     0.42643,     0.42743,     0.42843,     0.42943,     0.43043,     0.43143,\n",
       "           0.43243,     0.43343,     0.43443,     0.43544,     0.43644,     0.43744,     0.43844,     0.43944,     0.44044,     0.44144,     0.44244,     0.44344,     0.44444,     0.44545,     0.44645,     0.44745,     0.44845,     0.44945,     0.45045,     0.45145,     0.45245,     0.45345,     0.45445,     0.45546,\n",
       "           0.45646,     0.45746,     0.45846,     0.45946,     0.46046,     0.46146,     0.46246,     0.46346,     0.46446,     0.46547,     0.46647,     0.46747,     0.46847,     0.46947,     0.47047,     0.47147,     0.47247,     0.47347,     0.47447,     0.47548,     0.47648,     0.47748,     0.47848,     0.47948,\n",
       "           0.48048,     0.48148,     0.48248,     0.48348,     0.48448,     0.48549,     0.48649,     0.48749,     0.48849,     0.48949,     0.49049,     0.49149,     0.49249,     0.49349,     0.49449,      0.4955,      0.4965,      0.4975,      0.4985,      0.4995,      0.5005,      0.5015,      0.5025,      0.5035,\n",
       "            0.5045,     0.50551,     0.50651,     0.50751,     0.50851,     0.50951,     0.51051,     0.51151,     0.51251,     0.51351,     0.51451,     0.51552,     0.51652,     0.51752,     0.51852,     0.51952,     0.52052,     0.52152,     0.52252,     0.52352,     0.52452,     0.52553,     0.52653,     0.52753,\n",
       "           0.52853,     0.52953,     0.53053,     0.53153,     0.53253,     0.53353,     0.53453,     0.53554,     0.53654,     0.53754,     0.53854,     0.53954,     0.54054,     0.54154,     0.54254,     0.54354,     0.54454,     0.54555,     0.54655,     0.54755,     0.54855,     0.54955,     0.55055,     0.55155,\n",
       "           0.55255,     0.55355,     0.55455,     0.55556,     0.55656,     0.55756,     0.55856,     0.55956,     0.56056,     0.56156,     0.56256,     0.56356,     0.56456,     0.56557,     0.56657,     0.56757,     0.56857,     0.56957,     0.57057,     0.57157,     0.57257,     0.57357,     0.57457,     0.57558,\n",
       "           0.57658,     0.57758,     0.57858,     0.57958,     0.58058,     0.58158,     0.58258,     0.58358,     0.58458,     0.58559,     0.58659,     0.58759,     0.58859,     0.58959,     0.59059,     0.59159,     0.59259,     0.59359,     0.59459,      0.5956,      0.5966,      0.5976,      0.5986,      0.5996,\n",
       "            0.6006,      0.6016,      0.6026,      0.6036,      0.6046,     0.60561,     0.60661,     0.60761,     0.60861,     0.60961,     0.61061,     0.61161,     0.61261,     0.61361,     0.61461,     0.61562,     0.61662,     0.61762,     0.61862,     0.61962,     0.62062,     0.62162,     0.62262,     0.62362,\n",
       "           0.62462,     0.62563,     0.62663,     0.62763,     0.62863,     0.62963,     0.63063,     0.63163,     0.63263,     0.63363,     0.63463,     0.63564,     0.63664,     0.63764,     0.63864,     0.63964,     0.64064,     0.64164,     0.64264,     0.64364,     0.64464,     0.64565,     0.64665,     0.64765,\n",
       "           0.64865,     0.64965,     0.65065,     0.65165,     0.65265,     0.65365,     0.65465,     0.65566,     0.65666,     0.65766,     0.65866,     0.65966,     0.66066,     0.66166,     0.66266,     0.66366,     0.66466,     0.66567,     0.66667,     0.66767,     0.66867,     0.66967,     0.67067,     0.67167,\n",
       "           0.67267,     0.67367,     0.67467,     0.67568,     0.67668,     0.67768,     0.67868,     0.67968,     0.68068,     0.68168,     0.68268,     0.68368,     0.68468,     0.68569,     0.68669,     0.68769,     0.68869,     0.68969,     0.69069,     0.69169,     0.69269,     0.69369,     0.69469,      0.6957,\n",
       "            0.6967,      0.6977,      0.6987,      0.6997,      0.7007,      0.7017,      0.7027,      0.7037,      0.7047,     0.70571,     0.70671,     0.70771,     0.70871,     0.70971,     0.71071,     0.71171,     0.71271,     0.71371,     0.71471,     0.71572,     0.71672,     0.71772,     0.71872,     0.71972,\n",
       "           0.72072,     0.72172,     0.72272,     0.72372,     0.72472,     0.72573,     0.72673,     0.72773,     0.72873,     0.72973,     0.73073,     0.73173,     0.73273,     0.73373,     0.73473,     0.73574,     0.73674,     0.73774,     0.73874,     0.73974,     0.74074,     0.74174,     0.74274,     0.74374,\n",
       "           0.74474,     0.74575,     0.74675,     0.74775,     0.74875,     0.74975,     0.75075,     0.75175,     0.75275,     0.75375,     0.75475,     0.75576,     0.75676,     0.75776,     0.75876,     0.75976,     0.76076,     0.76176,     0.76276,     0.76376,     0.76476,     0.76577,     0.76677,     0.76777,\n",
       "           0.76877,     0.76977,     0.77077,     0.77177,     0.77277,     0.77377,     0.77477,     0.77578,     0.77678,     0.77778,     0.77878,     0.77978,     0.78078,     0.78178,     0.78278,     0.78378,     0.78478,     0.78579,     0.78679,     0.78779,     0.78879,     0.78979,     0.79079,     0.79179,\n",
       "           0.79279,     0.79379,     0.79479,      0.7958,      0.7968,      0.7978,      0.7988,      0.7998,      0.8008,      0.8018,      0.8028,      0.8038,      0.8048,     0.80581,     0.80681,     0.80781,     0.80881,     0.80981,     0.81081,     0.81181,     0.81281,     0.81381,     0.81481,     0.81582,\n",
       "           0.81682,     0.81782,     0.81882,     0.81982,     0.82082,     0.82182,     0.82282,     0.82382,     0.82482,     0.82583,     0.82683,     0.82783,     0.82883,     0.82983,     0.83083,     0.83183,     0.83283,     0.83383,     0.83483,     0.83584,     0.83684,     0.83784,     0.83884,     0.83984,\n",
       "           0.84084,     0.84184,     0.84284,     0.84384,     0.84484,     0.84585,     0.84685,     0.84785,     0.84885,     0.84985,     0.85085,     0.85185,     0.85285,     0.85385,     0.85485,     0.85586,     0.85686,     0.85786,     0.85886,     0.85986,     0.86086,     0.86186,     0.86286,     0.86386,\n",
       "           0.86486,     0.86587,     0.86687,     0.86787,     0.86887,     0.86987,     0.87087,     0.87187,     0.87287,     0.87387,     0.87487,     0.87588,     0.87688,     0.87788,     0.87888,     0.87988,     0.88088,     0.88188,     0.88288,     0.88388,     0.88488,     0.88589,     0.88689,     0.88789,\n",
       "           0.88889,     0.88989,     0.89089,     0.89189,     0.89289,     0.89389,     0.89489,      0.8959,      0.8969,      0.8979,      0.8989,      0.8999,      0.9009,      0.9019,      0.9029,      0.9039,      0.9049,     0.90591,     0.90691,     0.90791,     0.90891,     0.90991,     0.91091,     0.91191,\n",
       "           0.91291,     0.91391,     0.91491,     0.91592,     0.91692,     0.91792,     0.91892,     0.91992,     0.92092,     0.92192,     0.92292,     0.92392,     0.92492,     0.92593,     0.92693,     0.92793,     0.92893,     0.92993,     0.93093,     0.93193,     0.93293,     0.93393,     0.93493,     0.93594,\n",
       "           0.93694,     0.93794,     0.93894,     0.93994,     0.94094,     0.94194,     0.94294,     0.94394,     0.94494,     0.94595,     0.94695,     0.94795,     0.94895,     0.94995,     0.95095,     0.95195,     0.95295,     0.95395,     0.95495,     0.95596,     0.95696,     0.95796,     0.95896,     0.95996,\n",
       "           0.96096,     0.96196,     0.96296,     0.96396,     0.96496,     0.96597,     0.96697,     0.96797,     0.96897,     0.96997,     0.97097,     0.97197,     0.97297,     0.97397,     0.97497,     0.97598,     0.97698,     0.97798,     0.97898,     0.97998,     0.98098,     0.98198,     0.98298,     0.98398,\n",
       "           0.98498,     0.98599,     0.98699,     0.98799,     0.98899,     0.98999,     0.99099,     0.99199,     0.99299,     0.99399,     0.99499,       0.996,       0.997,       0.998,       0.999,           1]), array([[   0.028948,     0.02897,    0.045445, ...,           1,           1,           1],\n",
       "       [   0.090633,    0.090674,     0.14156, ...,           1,           1,           1]]), 'Confidence', 'Precision'], [array([          0,    0.001001,    0.002002,    0.003003,    0.004004,    0.005005,    0.006006,    0.007007,    0.008008,    0.009009,     0.01001,    0.011011,    0.012012,    0.013013,    0.014014,    0.015015,    0.016016,    0.017017,    0.018018,    0.019019,     0.02002,    0.021021,    0.022022,    0.023023,\n",
       "          0.024024,    0.025025,    0.026026,    0.027027,    0.028028,    0.029029,     0.03003,    0.031031,    0.032032,    0.033033,    0.034034,    0.035035,    0.036036,    0.037037,    0.038038,    0.039039,     0.04004,    0.041041,    0.042042,    0.043043,    0.044044,    0.045045,    0.046046,    0.047047,\n",
       "          0.048048,    0.049049,     0.05005,    0.051051,    0.052052,    0.053053,    0.054054,    0.055055,    0.056056,    0.057057,    0.058058,    0.059059,     0.06006,    0.061061,    0.062062,    0.063063,    0.064064,    0.065065,    0.066066,    0.067067,    0.068068,    0.069069,     0.07007,    0.071071,\n",
       "          0.072072,    0.073073,    0.074074,    0.075075,    0.076076,    0.077077,    0.078078,    0.079079,     0.08008,    0.081081,    0.082082,    0.083083,    0.084084,    0.085085,    0.086086,    0.087087,    0.088088,    0.089089,     0.09009,    0.091091,    0.092092,    0.093093,    0.094094,    0.095095,\n",
       "          0.096096,    0.097097,    0.098098,    0.099099,      0.1001,      0.1011,      0.1021,      0.1031,      0.1041,     0.10511,     0.10611,     0.10711,     0.10811,     0.10911,     0.11011,     0.11111,     0.11211,     0.11311,     0.11411,     0.11512,     0.11612,     0.11712,     0.11812,     0.11912,\n",
       "           0.12012,     0.12112,     0.12212,     0.12312,     0.12412,     0.12513,     0.12613,     0.12713,     0.12813,     0.12913,     0.13013,     0.13113,     0.13213,     0.13313,     0.13413,     0.13514,     0.13614,     0.13714,     0.13814,     0.13914,     0.14014,     0.14114,     0.14214,     0.14314,\n",
       "           0.14414,     0.14515,     0.14615,     0.14715,     0.14815,     0.14915,     0.15015,     0.15115,     0.15215,     0.15315,     0.15415,     0.15516,     0.15616,     0.15716,     0.15816,     0.15916,     0.16016,     0.16116,     0.16216,     0.16316,     0.16416,     0.16517,     0.16617,     0.16717,\n",
       "           0.16817,     0.16917,     0.17017,     0.17117,     0.17217,     0.17317,     0.17417,     0.17518,     0.17618,     0.17718,     0.17818,     0.17918,     0.18018,     0.18118,     0.18218,     0.18318,     0.18418,     0.18519,     0.18619,     0.18719,     0.18819,     0.18919,     0.19019,     0.19119,\n",
       "           0.19219,     0.19319,     0.19419,      0.1952,      0.1962,      0.1972,      0.1982,      0.1992,      0.2002,      0.2012,      0.2022,      0.2032,      0.2042,     0.20521,     0.20621,     0.20721,     0.20821,     0.20921,     0.21021,     0.21121,     0.21221,     0.21321,     0.21421,     0.21522,\n",
       "           0.21622,     0.21722,     0.21822,     0.21922,     0.22022,     0.22122,     0.22222,     0.22322,     0.22422,     0.22523,     0.22623,     0.22723,     0.22823,     0.22923,     0.23023,     0.23123,     0.23223,     0.23323,     0.23423,     0.23524,     0.23624,     0.23724,     0.23824,     0.23924,\n",
       "           0.24024,     0.24124,     0.24224,     0.24324,     0.24424,     0.24525,     0.24625,     0.24725,     0.24825,     0.24925,     0.25025,     0.25125,     0.25225,     0.25325,     0.25425,     0.25526,     0.25626,     0.25726,     0.25826,     0.25926,     0.26026,     0.26126,     0.26226,     0.26326,\n",
       "           0.26426,     0.26527,     0.26627,     0.26727,     0.26827,     0.26927,     0.27027,     0.27127,     0.27227,     0.27327,     0.27427,     0.27528,     0.27628,     0.27728,     0.27828,     0.27928,     0.28028,     0.28128,     0.28228,     0.28328,     0.28428,     0.28529,     0.28629,     0.28729,\n",
       "           0.28829,     0.28929,     0.29029,     0.29129,     0.29229,     0.29329,     0.29429,      0.2953,      0.2963,      0.2973,      0.2983,      0.2993,      0.3003,      0.3013,      0.3023,      0.3033,      0.3043,     0.30531,     0.30631,     0.30731,     0.30831,     0.30931,     0.31031,     0.31131,\n",
       "           0.31231,     0.31331,     0.31431,     0.31532,     0.31632,     0.31732,     0.31832,     0.31932,     0.32032,     0.32132,     0.32232,     0.32332,     0.32432,     0.32533,     0.32633,     0.32733,     0.32833,     0.32933,     0.33033,     0.33133,     0.33233,     0.33333,     0.33433,     0.33534,\n",
       "           0.33634,     0.33734,     0.33834,     0.33934,     0.34034,     0.34134,     0.34234,     0.34334,     0.34434,     0.34535,     0.34635,     0.34735,     0.34835,     0.34935,     0.35035,     0.35135,     0.35235,     0.35335,     0.35435,     0.35536,     0.35636,     0.35736,     0.35836,     0.35936,\n",
       "           0.36036,     0.36136,     0.36236,     0.36336,     0.36436,     0.36537,     0.36637,     0.36737,     0.36837,     0.36937,     0.37037,     0.37137,     0.37237,     0.37337,     0.37437,     0.37538,     0.37638,     0.37738,     0.37838,     0.37938,     0.38038,     0.38138,     0.38238,     0.38338,\n",
       "           0.38438,     0.38539,     0.38639,     0.38739,     0.38839,     0.38939,     0.39039,     0.39139,     0.39239,     0.39339,     0.39439,      0.3954,      0.3964,      0.3974,      0.3984,      0.3994,      0.4004,      0.4014,      0.4024,      0.4034,      0.4044,     0.40541,     0.40641,     0.40741,\n",
       "           0.40841,     0.40941,     0.41041,     0.41141,     0.41241,     0.41341,     0.41441,     0.41542,     0.41642,     0.41742,     0.41842,     0.41942,     0.42042,     0.42142,     0.42242,     0.42342,     0.42442,     0.42543,     0.42643,     0.42743,     0.42843,     0.42943,     0.43043,     0.43143,\n",
       "           0.43243,     0.43343,     0.43443,     0.43544,     0.43644,     0.43744,     0.43844,     0.43944,     0.44044,     0.44144,     0.44244,     0.44344,     0.44444,     0.44545,     0.44645,     0.44745,     0.44845,     0.44945,     0.45045,     0.45145,     0.45245,     0.45345,     0.45445,     0.45546,\n",
       "           0.45646,     0.45746,     0.45846,     0.45946,     0.46046,     0.46146,     0.46246,     0.46346,     0.46446,     0.46547,     0.46647,     0.46747,     0.46847,     0.46947,     0.47047,     0.47147,     0.47247,     0.47347,     0.47447,     0.47548,     0.47648,     0.47748,     0.47848,     0.47948,\n",
       "           0.48048,     0.48148,     0.48248,     0.48348,     0.48448,     0.48549,     0.48649,     0.48749,     0.48849,     0.48949,     0.49049,     0.49149,     0.49249,     0.49349,     0.49449,      0.4955,      0.4965,      0.4975,      0.4985,      0.4995,      0.5005,      0.5015,      0.5025,      0.5035,\n",
       "            0.5045,     0.50551,     0.50651,     0.50751,     0.50851,     0.50951,     0.51051,     0.51151,     0.51251,     0.51351,     0.51451,     0.51552,     0.51652,     0.51752,     0.51852,     0.51952,     0.52052,     0.52152,     0.52252,     0.52352,     0.52452,     0.52553,     0.52653,     0.52753,\n",
       "           0.52853,     0.52953,     0.53053,     0.53153,     0.53253,     0.53353,     0.53453,     0.53554,     0.53654,     0.53754,     0.53854,     0.53954,     0.54054,     0.54154,     0.54254,     0.54354,     0.54454,     0.54555,     0.54655,     0.54755,     0.54855,     0.54955,     0.55055,     0.55155,\n",
       "           0.55255,     0.55355,     0.55455,     0.55556,     0.55656,     0.55756,     0.55856,     0.55956,     0.56056,     0.56156,     0.56256,     0.56356,     0.56456,     0.56557,     0.56657,     0.56757,     0.56857,     0.56957,     0.57057,     0.57157,     0.57257,     0.57357,     0.57457,     0.57558,\n",
       "           0.57658,     0.57758,     0.57858,     0.57958,     0.58058,     0.58158,     0.58258,     0.58358,     0.58458,     0.58559,     0.58659,     0.58759,     0.58859,     0.58959,     0.59059,     0.59159,     0.59259,     0.59359,     0.59459,      0.5956,      0.5966,      0.5976,      0.5986,      0.5996,\n",
       "            0.6006,      0.6016,      0.6026,      0.6036,      0.6046,     0.60561,     0.60661,     0.60761,     0.60861,     0.60961,     0.61061,     0.61161,     0.61261,     0.61361,     0.61461,     0.61562,     0.61662,     0.61762,     0.61862,     0.61962,     0.62062,     0.62162,     0.62262,     0.62362,\n",
       "           0.62462,     0.62563,     0.62663,     0.62763,     0.62863,     0.62963,     0.63063,     0.63163,     0.63263,     0.63363,     0.63463,     0.63564,     0.63664,     0.63764,     0.63864,     0.63964,     0.64064,     0.64164,     0.64264,     0.64364,     0.64464,     0.64565,     0.64665,     0.64765,\n",
       "           0.64865,     0.64965,     0.65065,     0.65165,     0.65265,     0.65365,     0.65465,     0.65566,     0.65666,     0.65766,     0.65866,     0.65966,     0.66066,     0.66166,     0.66266,     0.66366,     0.66466,     0.66567,     0.66667,     0.66767,     0.66867,     0.66967,     0.67067,     0.67167,\n",
       "           0.67267,     0.67367,     0.67467,     0.67568,     0.67668,     0.67768,     0.67868,     0.67968,     0.68068,     0.68168,     0.68268,     0.68368,     0.68468,     0.68569,     0.68669,     0.68769,     0.68869,     0.68969,     0.69069,     0.69169,     0.69269,     0.69369,     0.69469,      0.6957,\n",
       "            0.6967,      0.6977,      0.6987,      0.6997,      0.7007,      0.7017,      0.7027,      0.7037,      0.7047,     0.70571,     0.70671,     0.70771,     0.70871,     0.70971,     0.71071,     0.71171,     0.71271,     0.71371,     0.71471,     0.71572,     0.71672,     0.71772,     0.71872,     0.71972,\n",
       "           0.72072,     0.72172,     0.72272,     0.72372,     0.72472,     0.72573,     0.72673,     0.72773,     0.72873,     0.72973,     0.73073,     0.73173,     0.73273,     0.73373,     0.73473,     0.73574,     0.73674,     0.73774,     0.73874,     0.73974,     0.74074,     0.74174,     0.74274,     0.74374,\n",
       "           0.74474,     0.74575,     0.74675,     0.74775,     0.74875,     0.74975,     0.75075,     0.75175,     0.75275,     0.75375,     0.75475,     0.75576,     0.75676,     0.75776,     0.75876,     0.75976,     0.76076,     0.76176,     0.76276,     0.76376,     0.76476,     0.76577,     0.76677,     0.76777,\n",
       "           0.76877,     0.76977,     0.77077,     0.77177,     0.77277,     0.77377,     0.77477,     0.77578,     0.77678,     0.77778,     0.77878,     0.77978,     0.78078,     0.78178,     0.78278,     0.78378,     0.78478,     0.78579,     0.78679,     0.78779,     0.78879,     0.78979,     0.79079,     0.79179,\n",
       "           0.79279,     0.79379,     0.79479,      0.7958,      0.7968,      0.7978,      0.7988,      0.7998,      0.8008,      0.8018,      0.8028,      0.8038,      0.8048,     0.80581,     0.80681,     0.80781,     0.80881,     0.80981,     0.81081,     0.81181,     0.81281,     0.81381,     0.81481,     0.81582,\n",
       "           0.81682,     0.81782,     0.81882,     0.81982,     0.82082,     0.82182,     0.82282,     0.82382,     0.82482,     0.82583,     0.82683,     0.82783,     0.82883,     0.82983,     0.83083,     0.83183,     0.83283,     0.83383,     0.83483,     0.83584,     0.83684,     0.83784,     0.83884,     0.83984,\n",
       "           0.84084,     0.84184,     0.84284,     0.84384,     0.84484,     0.84585,     0.84685,     0.84785,     0.84885,     0.84985,     0.85085,     0.85185,     0.85285,     0.85385,     0.85485,     0.85586,     0.85686,     0.85786,     0.85886,     0.85986,     0.86086,     0.86186,     0.86286,     0.86386,\n",
       "           0.86486,     0.86587,     0.86687,     0.86787,     0.86887,     0.86987,     0.87087,     0.87187,     0.87287,     0.87387,     0.87487,     0.87588,     0.87688,     0.87788,     0.87888,     0.87988,     0.88088,     0.88188,     0.88288,     0.88388,     0.88488,     0.88589,     0.88689,     0.88789,\n",
       "           0.88889,     0.88989,     0.89089,     0.89189,     0.89289,     0.89389,     0.89489,      0.8959,      0.8969,      0.8979,      0.8989,      0.8999,      0.9009,      0.9019,      0.9029,      0.9039,      0.9049,     0.90591,     0.90691,     0.90791,     0.90891,     0.90991,     0.91091,     0.91191,\n",
       "           0.91291,     0.91391,     0.91491,     0.91592,     0.91692,     0.91792,     0.91892,     0.91992,     0.92092,     0.92192,     0.92292,     0.92392,     0.92492,     0.92593,     0.92693,     0.92793,     0.92893,     0.92993,     0.93093,     0.93193,     0.93293,     0.93393,     0.93493,     0.93594,\n",
       "           0.93694,     0.93794,     0.93894,     0.93994,     0.94094,     0.94194,     0.94294,     0.94394,     0.94494,     0.94595,     0.94695,     0.94795,     0.94895,     0.94995,     0.95095,     0.95195,     0.95295,     0.95395,     0.95495,     0.95596,     0.95696,     0.95796,     0.95896,     0.95996,\n",
       "           0.96096,     0.96196,     0.96296,     0.96396,     0.96496,     0.96597,     0.96697,     0.96797,     0.96897,     0.96997,     0.97097,     0.97197,     0.97297,     0.97397,     0.97497,     0.97598,     0.97698,     0.97798,     0.97898,     0.97998,     0.98098,     0.98198,     0.98298,     0.98398,\n",
       "           0.98498,     0.98599,     0.98699,     0.98799,     0.98899,     0.98999,     0.99099,     0.99199,     0.99299,     0.99399,     0.99499,       0.996,       0.997,       0.998,       0.999,           1]), array([[    0.83816,     0.83816,     0.80435, ...,           0,           0,           0],\n",
       "       [    0.95984,     0.95984,     0.95582, ...,           0,           0,           0]]), 'Confidence', 'Recall']]\n",
       "fitness: 0.4705805805109389\n",
       "keys: ['metrics/precision(B)', 'metrics/recall(B)', 'metrics/mAP50(B)', 'metrics/mAP50-95(B)']\n",
       "maps: array([    0.31363,     0.57496])\n",
       "names: {0: 'Bird', 1: 'drone'}\n",
       "plot: True\n",
       "results_dict: {'metrics/precision(B)': 0.7932744894102461, 'metrics/recall(B)': 0.6708864443280368, 'metrics/mAP50(B)': 0.7071205584135016, 'metrics/mAP50-95(B)': 0.44429836074398743, 'fitness': 0.4705805805109389}\n",
       "save_dir: WindowsPath('runs/yolov8_cpu_training')\n",
       "speed: {'preprocess': 1.2271968381745475, 'inference': 100.7963227374213, 'loss': 0.0022239983081817627, 'postprocess': 0.8455940655299595}\n",
       "task: 'detect'"
      ]
     },
     "execution_count": 5,
     "metadata": {},
     "output_type": "execute_result"
    }
   ],
   "source": [
    "#4. Train the YOLOv8 model.\n",
    "\n",
    "import os\n",
    "\n",
    "model = YOLO(\"yolov8n.pt\")\n",
    "\n",
    "model.train(\n",
    "    data=r\"C:\\Users\\vidya\\Desktop\\Jupyter Notebook\\Aerial Object Classification & Detection\\object_detection_Dataset\\data.yaml\",\n",
    "    epochs=20,         \n",
    "    imgsz=320,          \n",
    "    batch=2,          \n",
    "    device=\"cpu\",       \n",
    "    workers=0,          \n",
    "    project=\"runs\",    \n",
    "    name=\"yolov8_cpu_training\",\n",
    "    patience=10,        \n",
    "    save_period=5      \n",
    ")"
   ]
  },
  {
   "cell_type": "code",
   "execution_count": 7,
   "id": "aa8d2c39-2f99-490b-b11e-99412daaca45",
   "metadata": {
    "scrolled": true
   },
   "outputs": [
    {
     "name": "stdout",
     "output_type": "stream",
     "text": [
      "Ultralytics YOLOv8.0.230 🚀 Python-3.10.11 torch-2.2.0+cpu CPU (Intel Core(TM) i3-6006U 2.00GHz)\n",
      "Model summary (fused): 168 layers, 3006038 parameters, 0 gradients, 8.1 GFLOPs\n"
     ]
    },
    {
     "name": "stderr",
     "output_type": "stream",
     "text": [
      "\u001b[34m\u001b[1mval: \u001b[0mScanning C:\\Users\\vidya\\Desktop\\Jupyter Notebook\\Aerial Object Classification & Detection\\object_detection_Dataset\u001b[0m\n",
      "                 Class     Images  Instances      Box(P          R      mAP50  mAP50-95): 100%|██████████| 28/28 [00:55\n"
     ]
    },
    {
     "name": "stdout",
     "output_type": "stream",
     "text": [
      "                   all        448        663      0.793      0.671      0.707      0.444\n",
      "                  Bird        448        414      0.713      0.502      0.545      0.314\n",
      "                 drone        448        249      0.874      0.839      0.869      0.575\n",
      "Speed: 1.5ms preprocess, 104.0ms inference, 0.0ms loss, 1.2ms postprocess per image\n",
      "Results saved to \u001b[1mruns\\detect\\val\u001b[0m\n",
      "ultralytics.utils.metrics.DetMetrics object with attributes:\n",
      "\n",
      "ap_class_index: array([0, 1])\n",
      "box: ultralytics.utils.metrics.Metric object\n",
      "confusion_matrix: <ultralytics.utils.metrics.ConfusionMatrix object at 0x0000029A83657BB0>\n",
      "curves: ['Precision-Recall(B)', 'F1-Confidence(B)', 'Precision-Confidence(B)', 'Recall-Confidence(B)']\n",
      "curves_results: [[array([          0,    0.001001,    0.002002,    0.003003,    0.004004,    0.005005,    0.006006,    0.007007,    0.008008,    0.009009,     0.01001,    0.011011,    0.012012,    0.013013,    0.014014,    0.015015,    0.016016,    0.017017,    0.018018,    0.019019,     0.02002,    0.021021,    0.022022,    0.023023,\n",
      "          0.024024,    0.025025,    0.026026,    0.027027,    0.028028,    0.029029,     0.03003,    0.031031,    0.032032,    0.033033,    0.034034,    0.035035,    0.036036,    0.037037,    0.038038,    0.039039,     0.04004,    0.041041,    0.042042,    0.043043,    0.044044,    0.045045,    0.046046,    0.047047,\n",
      "          0.048048,    0.049049,     0.05005,    0.051051,    0.052052,    0.053053,    0.054054,    0.055055,    0.056056,    0.057057,    0.058058,    0.059059,     0.06006,    0.061061,    0.062062,    0.063063,    0.064064,    0.065065,    0.066066,    0.067067,    0.068068,    0.069069,     0.07007,    0.071071,\n",
      "          0.072072,    0.073073,    0.074074,    0.075075,    0.076076,    0.077077,    0.078078,    0.079079,     0.08008,    0.081081,    0.082082,    0.083083,    0.084084,    0.085085,    0.086086,    0.087087,    0.088088,    0.089089,     0.09009,    0.091091,    0.092092,    0.093093,    0.094094,    0.095095,\n",
      "          0.096096,    0.097097,    0.098098,    0.099099,      0.1001,      0.1011,      0.1021,      0.1031,      0.1041,     0.10511,     0.10611,     0.10711,     0.10811,     0.10911,     0.11011,     0.11111,     0.11211,     0.11311,     0.11411,     0.11512,     0.11612,     0.11712,     0.11812,     0.11912,\n",
      "           0.12012,     0.12112,     0.12212,     0.12312,     0.12412,     0.12513,     0.12613,     0.12713,     0.12813,     0.12913,     0.13013,     0.13113,     0.13213,     0.13313,     0.13413,     0.13514,     0.13614,     0.13714,     0.13814,     0.13914,     0.14014,     0.14114,     0.14214,     0.14314,\n",
      "           0.14414,     0.14515,     0.14615,     0.14715,     0.14815,     0.14915,     0.15015,     0.15115,     0.15215,     0.15315,     0.15415,     0.15516,     0.15616,     0.15716,     0.15816,     0.15916,     0.16016,     0.16116,     0.16216,     0.16316,     0.16416,     0.16517,     0.16617,     0.16717,\n",
      "           0.16817,     0.16917,     0.17017,     0.17117,     0.17217,     0.17317,     0.17417,     0.17518,     0.17618,     0.17718,     0.17818,     0.17918,     0.18018,     0.18118,     0.18218,     0.18318,     0.18418,     0.18519,     0.18619,     0.18719,     0.18819,     0.18919,     0.19019,     0.19119,\n",
      "           0.19219,     0.19319,     0.19419,      0.1952,      0.1962,      0.1972,      0.1982,      0.1992,      0.2002,      0.2012,      0.2022,      0.2032,      0.2042,     0.20521,     0.20621,     0.20721,     0.20821,     0.20921,     0.21021,     0.21121,     0.21221,     0.21321,     0.21421,     0.21522,\n",
      "           0.21622,     0.21722,     0.21822,     0.21922,     0.22022,     0.22122,     0.22222,     0.22322,     0.22422,     0.22523,     0.22623,     0.22723,     0.22823,     0.22923,     0.23023,     0.23123,     0.23223,     0.23323,     0.23423,     0.23524,     0.23624,     0.23724,     0.23824,     0.23924,\n",
      "           0.24024,     0.24124,     0.24224,     0.24324,     0.24424,     0.24525,     0.24625,     0.24725,     0.24825,     0.24925,     0.25025,     0.25125,     0.25225,     0.25325,     0.25425,     0.25526,     0.25626,     0.25726,     0.25826,     0.25926,     0.26026,     0.26126,     0.26226,     0.26326,\n",
      "           0.26426,     0.26527,     0.26627,     0.26727,     0.26827,     0.26927,     0.27027,     0.27127,     0.27227,     0.27327,     0.27427,     0.27528,     0.27628,     0.27728,     0.27828,     0.27928,     0.28028,     0.28128,     0.28228,     0.28328,     0.28428,     0.28529,     0.28629,     0.28729,\n",
      "           0.28829,     0.28929,     0.29029,     0.29129,     0.29229,     0.29329,     0.29429,      0.2953,      0.2963,      0.2973,      0.2983,      0.2993,      0.3003,      0.3013,      0.3023,      0.3033,      0.3043,     0.30531,     0.30631,     0.30731,     0.30831,     0.30931,     0.31031,     0.31131,\n",
      "           0.31231,     0.31331,     0.31431,     0.31532,     0.31632,     0.31732,     0.31832,     0.31932,     0.32032,     0.32132,     0.32232,     0.32332,     0.32432,     0.32533,     0.32633,     0.32733,     0.32833,     0.32933,     0.33033,     0.33133,     0.33233,     0.33333,     0.33433,     0.33534,\n",
      "           0.33634,     0.33734,     0.33834,     0.33934,     0.34034,     0.34134,     0.34234,     0.34334,     0.34434,     0.34535,     0.34635,     0.34735,     0.34835,     0.34935,     0.35035,     0.35135,     0.35235,     0.35335,     0.35435,     0.35536,     0.35636,     0.35736,     0.35836,     0.35936,\n",
      "           0.36036,     0.36136,     0.36236,     0.36336,     0.36436,     0.36537,     0.36637,     0.36737,     0.36837,     0.36937,     0.37037,     0.37137,     0.37237,     0.37337,     0.37437,     0.37538,     0.37638,     0.37738,     0.37838,     0.37938,     0.38038,     0.38138,     0.38238,     0.38338,\n",
      "           0.38438,     0.38539,     0.38639,     0.38739,     0.38839,     0.38939,     0.39039,     0.39139,     0.39239,     0.39339,     0.39439,      0.3954,      0.3964,      0.3974,      0.3984,      0.3994,      0.4004,      0.4014,      0.4024,      0.4034,      0.4044,     0.40541,     0.40641,     0.40741,\n",
      "           0.40841,     0.40941,     0.41041,     0.41141,     0.41241,     0.41341,     0.41441,     0.41542,     0.41642,     0.41742,     0.41842,     0.41942,     0.42042,     0.42142,     0.42242,     0.42342,     0.42442,     0.42543,     0.42643,     0.42743,     0.42843,     0.42943,     0.43043,     0.43143,\n",
      "           0.43243,     0.43343,     0.43443,     0.43544,     0.43644,     0.43744,     0.43844,     0.43944,     0.44044,     0.44144,     0.44244,     0.44344,     0.44444,     0.44545,     0.44645,     0.44745,     0.44845,     0.44945,     0.45045,     0.45145,     0.45245,     0.45345,     0.45445,     0.45546,\n",
      "           0.45646,     0.45746,     0.45846,     0.45946,     0.46046,     0.46146,     0.46246,     0.46346,     0.46446,     0.46547,     0.46647,     0.46747,     0.46847,     0.46947,     0.47047,     0.47147,     0.47247,     0.47347,     0.47447,     0.47548,     0.47648,     0.47748,     0.47848,     0.47948,\n",
      "           0.48048,     0.48148,     0.48248,     0.48348,     0.48448,     0.48549,     0.48649,     0.48749,     0.48849,     0.48949,     0.49049,     0.49149,     0.49249,     0.49349,     0.49449,      0.4955,      0.4965,      0.4975,      0.4985,      0.4995,      0.5005,      0.5015,      0.5025,      0.5035,\n",
      "            0.5045,     0.50551,     0.50651,     0.50751,     0.50851,     0.50951,     0.51051,     0.51151,     0.51251,     0.51351,     0.51451,     0.51552,     0.51652,     0.51752,     0.51852,     0.51952,     0.52052,     0.52152,     0.52252,     0.52352,     0.52452,     0.52553,     0.52653,     0.52753,\n",
      "           0.52853,     0.52953,     0.53053,     0.53153,     0.53253,     0.53353,     0.53453,     0.53554,     0.53654,     0.53754,     0.53854,     0.53954,     0.54054,     0.54154,     0.54254,     0.54354,     0.54454,     0.54555,     0.54655,     0.54755,     0.54855,     0.54955,     0.55055,     0.55155,\n",
      "           0.55255,     0.55355,     0.55455,     0.55556,     0.55656,     0.55756,     0.55856,     0.55956,     0.56056,     0.56156,     0.56256,     0.56356,     0.56456,     0.56557,     0.56657,     0.56757,     0.56857,     0.56957,     0.57057,     0.57157,     0.57257,     0.57357,     0.57457,     0.57558,\n",
      "           0.57658,     0.57758,     0.57858,     0.57958,     0.58058,     0.58158,     0.58258,     0.58358,     0.58458,     0.58559,     0.58659,     0.58759,     0.58859,     0.58959,     0.59059,     0.59159,     0.59259,     0.59359,     0.59459,      0.5956,      0.5966,      0.5976,      0.5986,      0.5996,\n",
      "            0.6006,      0.6016,      0.6026,      0.6036,      0.6046,     0.60561,     0.60661,     0.60761,     0.60861,     0.60961,     0.61061,     0.61161,     0.61261,     0.61361,     0.61461,     0.61562,     0.61662,     0.61762,     0.61862,     0.61962,     0.62062,     0.62162,     0.62262,     0.62362,\n",
      "           0.62462,     0.62563,     0.62663,     0.62763,     0.62863,     0.62963,     0.63063,     0.63163,     0.63263,     0.63363,     0.63463,     0.63564,     0.63664,     0.63764,     0.63864,     0.63964,     0.64064,     0.64164,     0.64264,     0.64364,     0.64464,     0.64565,     0.64665,     0.64765,\n",
      "           0.64865,     0.64965,     0.65065,     0.65165,     0.65265,     0.65365,     0.65465,     0.65566,     0.65666,     0.65766,     0.65866,     0.65966,     0.66066,     0.66166,     0.66266,     0.66366,     0.66466,     0.66567,     0.66667,     0.66767,     0.66867,     0.66967,     0.67067,     0.67167,\n",
      "           0.67267,     0.67367,     0.67467,     0.67568,     0.67668,     0.67768,     0.67868,     0.67968,     0.68068,     0.68168,     0.68268,     0.68368,     0.68468,     0.68569,     0.68669,     0.68769,     0.68869,     0.68969,     0.69069,     0.69169,     0.69269,     0.69369,     0.69469,      0.6957,\n",
      "            0.6967,      0.6977,      0.6987,      0.6997,      0.7007,      0.7017,      0.7027,      0.7037,      0.7047,     0.70571,     0.70671,     0.70771,     0.70871,     0.70971,     0.71071,     0.71171,     0.71271,     0.71371,     0.71471,     0.71572,     0.71672,     0.71772,     0.71872,     0.71972,\n",
      "           0.72072,     0.72172,     0.72272,     0.72372,     0.72472,     0.72573,     0.72673,     0.72773,     0.72873,     0.72973,     0.73073,     0.73173,     0.73273,     0.73373,     0.73473,     0.73574,     0.73674,     0.73774,     0.73874,     0.73974,     0.74074,     0.74174,     0.74274,     0.74374,\n",
      "           0.74474,     0.74575,     0.74675,     0.74775,     0.74875,     0.74975,     0.75075,     0.75175,     0.75275,     0.75375,     0.75475,     0.75576,     0.75676,     0.75776,     0.75876,     0.75976,     0.76076,     0.76176,     0.76276,     0.76376,     0.76476,     0.76577,     0.76677,     0.76777,\n",
      "           0.76877,     0.76977,     0.77077,     0.77177,     0.77277,     0.77377,     0.77477,     0.77578,     0.77678,     0.77778,     0.77878,     0.77978,     0.78078,     0.78178,     0.78278,     0.78378,     0.78478,     0.78579,     0.78679,     0.78779,     0.78879,     0.78979,     0.79079,     0.79179,\n",
      "           0.79279,     0.79379,     0.79479,      0.7958,      0.7968,      0.7978,      0.7988,      0.7998,      0.8008,      0.8018,      0.8028,      0.8038,      0.8048,     0.80581,     0.80681,     0.80781,     0.80881,     0.80981,     0.81081,     0.81181,     0.81281,     0.81381,     0.81481,     0.81582,\n",
      "           0.81682,     0.81782,     0.81882,     0.81982,     0.82082,     0.82182,     0.82282,     0.82382,     0.82482,     0.82583,     0.82683,     0.82783,     0.82883,     0.82983,     0.83083,     0.83183,     0.83283,     0.83383,     0.83483,     0.83584,     0.83684,     0.83784,     0.83884,     0.83984,\n",
      "           0.84084,     0.84184,     0.84284,     0.84384,     0.84484,     0.84585,     0.84685,     0.84785,     0.84885,     0.84985,     0.85085,     0.85185,     0.85285,     0.85385,     0.85485,     0.85586,     0.85686,     0.85786,     0.85886,     0.85986,     0.86086,     0.86186,     0.86286,     0.86386,\n",
      "           0.86486,     0.86587,     0.86687,     0.86787,     0.86887,     0.86987,     0.87087,     0.87187,     0.87287,     0.87387,     0.87487,     0.87588,     0.87688,     0.87788,     0.87888,     0.87988,     0.88088,     0.88188,     0.88288,     0.88388,     0.88488,     0.88589,     0.88689,     0.88789,\n",
      "           0.88889,     0.88989,     0.89089,     0.89189,     0.89289,     0.89389,     0.89489,      0.8959,      0.8969,      0.8979,      0.8989,      0.8999,      0.9009,      0.9019,      0.9029,      0.9039,      0.9049,     0.90591,     0.90691,     0.90791,     0.90891,     0.90991,     0.91091,     0.91191,\n",
      "           0.91291,     0.91391,     0.91491,     0.91592,     0.91692,     0.91792,     0.91892,     0.91992,     0.92092,     0.92192,     0.92292,     0.92392,     0.92492,     0.92593,     0.92693,     0.92793,     0.92893,     0.92993,     0.93093,     0.93193,     0.93293,     0.93393,     0.93493,     0.93594,\n",
      "           0.93694,     0.93794,     0.93894,     0.93994,     0.94094,     0.94194,     0.94294,     0.94394,     0.94494,     0.94595,     0.94695,     0.94795,     0.94895,     0.94995,     0.95095,     0.95195,     0.95295,     0.95395,     0.95495,     0.95596,     0.95696,     0.95796,     0.95896,     0.95996,\n",
      "           0.96096,     0.96196,     0.96296,     0.96396,     0.96496,     0.96597,     0.96697,     0.96797,     0.96897,     0.96997,     0.97097,     0.97197,     0.97297,     0.97397,     0.97497,     0.97598,     0.97698,     0.97798,     0.97898,     0.97998,     0.98098,     0.98198,     0.98298,     0.98398,\n",
      "           0.98498,     0.98599,     0.98699,     0.98799,     0.98899,     0.98999,     0.99099,     0.99199,     0.99299,     0.99399,     0.99499,       0.996,       0.997,       0.998,       0.999,           1]), array([[          1,           1,           1, ...,   0.0003581,  0.00017905,           0],\n",
      "       [          1,           1,           1, ...,   0.0045181,    0.002259,           0]]), 'Recall', 'Precision'], [array([          0,    0.001001,    0.002002,    0.003003,    0.004004,    0.005005,    0.006006,    0.007007,    0.008008,    0.009009,     0.01001,    0.011011,    0.012012,    0.013013,    0.014014,    0.015015,    0.016016,    0.017017,    0.018018,    0.019019,     0.02002,    0.021021,    0.022022,    0.023023,\n",
      "          0.024024,    0.025025,    0.026026,    0.027027,    0.028028,    0.029029,     0.03003,    0.031031,    0.032032,    0.033033,    0.034034,    0.035035,    0.036036,    0.037037,    0.038038,    0.039039,     0.04004,    0.041041,    0.042042,    0.043043,    0.044044,    0.045045,    0.046046,    0.047047,\n",
      "          0.048048,    0.049049,     0.05005,    0.051051,    0.052052,    0.053053,    0.054054,    0.055055,    0.056056,    0.057057,    0.058058,    0.059059,     0.06006,    0.061061,    0.062062,    0.063063,    0.064064,    0.065065,    0.066066,    0.067067,    0.068068,    0.069069,     0.07007,    0.071071,\n",
      "          0.072072,    0.073073,    0.074074,    0.075075,    0.076076,    0.077077,    0.078078,    0.079079,     0.08008,    0.081081,    0.082082,    0.083083,    0.084084,    0.085085,    0.086086,    0.087087,    0.088088,    0.089089,     0.09009,    0.091091,    0.092092,    0.093093,    0.094094,    0.095095,\n",
      "          0.096096,    0.097097,    0.098098,    0.099099,      0.1001,      0.1011,      0.1021,      0.1031,      0.1041,     0.10511,     0.10611,     0.10711,     0.10811,     0.10911,     0.11011,     0.11111,     0.11211,     0.11311,     0.11411,     0.11512,     0.11612,     0.11712,     0.11812,     0.11912,\n",
      "           0.12012,     0.12112,     0.12212,     0.12312,     0.12412,     0.12513,     0.12613,     0.12713,     0.12813,     0.12913,     0.13013,     0.13113,     0.13213,     0.13313,     0.13413,     0.13514,     0.13614,     0.13714,     0.13814,     0.13914,     0.14014,     0.14114,     0.14214,     0.14314,\n",
      "           0.14414,     0.14515,     0.14615,     0.14715,     0.14815,     0.14915,     0.15015,     0.15115,     0.15215,     0.15315,     0.15415,     0.15516,     0.15616,     0.15716,     0.15816,     0.15916,     0.16016,     0.16116,     0.16216,     0.16316,     0.16416,     0.16517,     0.16617,     0.16717,\n",
      "           0.16817,     0.16917,     0.17017,     0.17117,     0.17217,     0.17317,     0.17417,     0.17518,     0.17618,     0.17718,     0.17818,     0.17918,     0.18018,     0.18118,     0.18218,     0.18318,     0.18418,     0.18519,     0.18619,     0.18719,     0.18819,     0.18919,     0.19019,     0.19119,\n",
      "           0.19219,     0.19319,     0.19419,      0.1952,      0.1962,      0.1972,      0.1982,      0.1992,      0.2002,      0.2012,      0.2022,      0.2032,      0.2042,     0.20521,     0.20621,     0.20721,     0.20821,     0.20921,     0.21021,     0.21121,     0.21221,     0.21321,     0.21421,     0.21522,\n",
      "           0.21622,     0.21722,     0.21822,     0.21922,     0.22022,     0.22122,     0.22222,     0.22322,     0.22422,     0.22523,     0.22623,     0.22723,     0.22823,     0.22923,     0.23023,     0.23123,     0.23223,     0.23323,     0.23423,     0.23524,     0.23624,     0.23724,     0.23824,     0.23924,\n",
      "           0.24024,     0.24124,     0.24224,     0.24324,     0.24424,     0.24525,     0.24625,     0.24725,     0.24825,     0.24925,     0.25025,     0.25125,     0.25225,     0.25325,     0.25425,     0.25526,     0.25626,     0.25726,     0.25826,     0.25926,     0.26026,     0.26126,     0.26226,     0.26326,\n",
      "           0.26426,     0.26527,     0.26627,     0.26727,     0.26827,     0.26927,     0.27027,     0.27127,     0.27227,     0.27327,     0.27427,     0.27528,     0.27628,     0.27728,     0.27828,     0.27928,     0.28028,     0.28128,     0.28228,     0.28328,     0.28428,     0.28529,     0.28629,     0.28729,\n",
      "           0.28829,     0.28929,     0.29029,     0.29129,     0.29229,     0.29329,     0.29429,      0.2953,      0.2963,      0.2973,      0.2983,      0.2993,      0.3003,      0.3013,      0.3023,      0.3033,      0.3043,     0.30531,     0.30631,     0.30731,     0.30831,     0.30931,     0.31031,     0.31131,\n",
      "           0.31231,     0.31331,     0.31431,     0.31532,     0.31632,     0.31732,     0.31832,     0.31932,     0.32032,     0.32132,     0.32232,     0.32332,     0.32432,     0.32533,     0.32633,     0.32733,     0.32833,     0.32933,     0.33033,     0.33133,     0.33233,     0.33333,     0.33433,     0.33534,\n",
      "           0.33634,     0.33734,     0.33834,     0.33934,     0.34034,     0.34134,     0.34234,     0.34334,     0.34434,     0.34535,     0.34635,     0.34735,     0.34835,     0.34935,     0.35035,     0.35135,     0.35235,     0.35335,     0.35435,     0.35536,     0.35636,     0.35736,     0.35836,     0.35936,\n",
      "           0.36036,     0.36136,     0.36236,     0.36336,     0.36436,     0.36537,     0.36637,     0.36737,     0.36837,     0.36937,     0.37037,     0.37137,     0.37237,     0.37337,     0.37437,     0.37538,     0.37638,     0.37738,     0.37838,     0.37938,     0.38038,     0.38138,     0.38238,     0.38338,\n",
      "           0.38438,     0.38539,     0.38639,     0.38739,     0.38839,     0.38939,     0.39039,     0.39139,     0.39239,     0.39339,     0.39439,      0.3954,      0.3964,      0.3974,      0.3984,      0.3994,      0.4004,      0.4014,      0.4024,      0.4034,      0.4044,     0.40541,     0.40641,     0.40741,\n",
      "           0.40841,     0.40941,     0.41041,     0.41141,     0.41241,     0.41341,     0.41441,     0.41542,     0.41642,     0.41742,     0.41842,     0.41942,     0.42042,     0.42142,     0.42242,     0.42342,     0.42442,     0.42543,     0.42643,     0.42743,     0.42843,     0.42943,     0.43043,     0.43143,\n",
      "           0.43243,     0.43343,     0.43443,     0.43544,     0.43644,     0.43744,     0.43844,     0.43944,     0.44044,     0.44144,     0.44244,     0.44344,     0.44444,     0.44545,     0.44645,     0.44745,     0.44845,     0.44945,     0.45045,     0.45145,     0.45245,     0.45345,     0.45445,     0.45546,\n",
      "           0.45646,     0.45746,     0.45846,     0.45946,     0.46046,     0.46146,     0.46246,     0.46346,     0.46446,     0.46547,     0.46647,     0.46747,     0.46847,     0.46947,     0.47047,     0.47147,     0.47247,     0.47347,     0.47447,     0.47548,     0.47648,     0.47748,     0.47848,     0.47948,\n",
      "           0.48048,     0.48148,     0.48248,     0.48348,     0.48448,     0.48549,     0.48649,     0.48749,     0.48849,     0.48949,     0.49049,     0.49149,     0.49249,     0.49349,     0.49449,      0.4955,      0.4965,      0.4975,      0.4985,      0.4995,      0.5005,      0.5015,      0.5025,      0.5035,\n",
      "            0.5045,     0.50551,     0.50651,     0.50751,     0.50851,     0.50951,     0.51051,     0.51151,     0.51251,     0.51351,     0.51451,     0.51552,     0.51652,     0.51752,     0.51852,     0.51952,     0.52052,     0.52152,     0.52252,     0.52352,     0.52452,     0.52553,     0.52653,     0.52753,\n",
      "           0.52853,     0.52953,     0.53053,     0.53153,     0.53253,     0.53353,     0.53453,     0.53554,     0.53654,     0.53754,     0.53854,     0.53954,     0.54054,     0.54154,     0.54254,     0.54354,     0.54454,     0.54555,     0.54655,     0.54755,     0.54855,     0.54955,     0.55055,     0.55155,\n",
      "           0.55255,     0.55355,     0.55455,     0.55556,     0.55656,     0.55756,     0.55856,     0.55956,     0.56056,     0.56156,     0.56256,     0.56356,     0.56456,     0.56557,     0.56657,     0.56757,     0.56857,     0.56957,     0.57057,     0.57157,     0.57257,     0.57357,     0.57457,     0.57558,\n",
      "           0.57658,     0.57758,     0.57858,     0.57958,     0.58058,     0.58158,     0.58258,     0.58358,     0.58458,     0.58559,     0.58659,     0.58759,     0.58859,     0.58959,     0.59059,     0.59159,     0.59259,     0.59359,     0.59459,      0.5956,      0.5966,      0.5976,      0.5986,      0.5996,\n",
      "            0.6006,      0.6016,      0.6026,      0.6036,      0.6046,     0.60561,     0.60661,     0.60761,     0.60861,     0.60961,     0.61061,     0.61161,     0.61261,     0.61361,     0.61461,     0.61562,     0.61662,     0.61762,     0.61862,     0.61962,     0.62062,     0.62162,     0.62262,     0.62362,\n",
      "           0.62462,     0.62563,     0.62663,     0.62763,     0.62863,     0.62963,     0.63063,     0.63163,     0.63263,     0.63363,     0.63463,     0.63564,     0.63664,     0.63764,     0.63864,     0.63964,     0.64064,     0.64164,     0.64264,     0.64364,     0.64464,     0.64565,     0.64665,     0.64765,\n",
      "           0.64865,     0.64965,     0.65065,     0.65165,     0.65265,     0.65365,     0.65465,     0.65566,     0.65666,     0.65766,     0.65866,     0.65966,     0.66066,     0.66166,     0.66266,     0.66366,     0.66466,     0.66567,     0.66667,     0.66767,     0.66867,     0.66967,     0.67067,     0.67167,\n",
      "           0.67267,     0.67367,     0.67467,     0.67568,     0.67668,     0.67768,     0.67868,     0.67968,     0.68068,     0.68168,     0.68268,     0.68368,     0.68468,     0.68569,     0.68669,     0.68769,     0.68869,     0.68969,     0.69069,     0.69169,     0.69269,     0.69369,     0.69469,      0.6957,\n",
      "            0.6967,      0.6977,      0.6987,      0.6997,      0.7007,      0.7017,      0.7027,      0.7037,      0.7047,     0.70571,     0.70671,     0.70771,     0.70871,     0.70971,     0.71071,     0.71171,     0.71271,     0.71371,     0.71471,     0.71572,     0.71672,     0.71772,     0.71872,     0.71972,\n",
      "           0.72072,     0.72172,     0.72272,     0.72372,     0.72472,     0.72573,     0.72673,     0.72773,     0.72873,     0.72973,     0.73073,     0.73173,     0.73273,     0.73373,     0.73473,     0.73574,     0.73674,     0.73774,     0.73874,     0.73974,     0.74074,     0.74174,     0.74274,     0.74374,\n",
      "           0.74474,     0.74575,     0.74675,     0.74775,     0.74875,     0.74975,     0.75075,     0.75175,     0.75275,     0.75375,     0.75475,     0.75576,     0.75676,     0.75776,     0.75876,     0.75976,     0.76076,     0.76176,     0.76276,     0.76376,     0.76476,     0.76577,     0.76677,     0.76777,\n",
      "           0.76877,     0.76977,     0.77077,     0.77177,     0.77277,     0.77377,     0.77477,     0.77578,     0.77678,     0.77778,     0.77878,     0.77978,     0.78078,     0.78178,     0.78278,     0.78378,     0.78478,     0.78579,     0.78679,     0.78779,     0.78879,     0.78979,     0.79079,     0.79179,\n",
      "           0.79279,     0.79379,     0.79479,      0.7958,      0.7968,      0.7978,      0.7988,      0.7998,      0.8008,      0.8018,      0.8028,      0.8038,      0.8048,     0.80581,     0.80681,     0.80781,     0.80881,     0.80981,     0.81081,     0.81181,     0.81281,     0.81381,     0.81481,     0.81582,\n",
      "           0.81682,     0.81782,     0.81882,     0.81982,     0.82082,     0.82182,     0.82282,     0.82382,     0.82482,     0.82583,     0.82683,     0.82783,     0.82883,     0.82983,     0.83083,     0.83183,     0.83283,     0.83383,     0.83483,     0.83584,     0.83684,     0.83784,     0.83884,     0.83984,\n",
      "           0.84084,     0.84184,     0.84284,     0.84384,     0.84484,     0.84585,     0.84685,     0.84785,     0.84885,     0.84985,     0.85085,     0.85185,     0.85285,     0.85385,     0.85485,     0.85586,     0.85686,     0.85786,     0.85886,     0.85986,     0.86086,     0.86186,     0.86286,     0.86386,\n",
      "           0.86486,     0.86587,     0.86687,     0.86787,     0.86887,     0.86987,     0.87087,     0.87187,     0.87287,     0.87387,     0.87487,     0.87588,     0.87688,     0.87788,     0.87888,     0.87988,     0.88088,     0.88188,     0.88288,     0.88388,     0.88488,     0.88589,     0.88689,     0.88789,\n",
      "           0.88889,     0.88989,     0.89089,     0.89189,     0.89289,     0.89389,     0.89489,      0.8959,      0.8969,      0.8979,      0.8989,      0.8999,      0.9009,      0.9019,      0.9029,      0.9039,      0.9049,     0.90591,     0.90691,     0.90791,     0.90891,     0.90991,     0.91091,     0.91191,\n",
      "           0.91291,     0.91391,     0.91491,     0.91592,     0.91692,     0.91792,     0.91892,     0.91992,     0.92092,     0.92192,     0.92292,     0.92392,     0.92492,     0.92593,     0.92693,     0.92793,     0.92893,     0.92993,     0.93093,     0.93193,     0.93293,     0.93393,     0.93493,     0.93594,\n",
      "           0.93694,     0.93794,     0.93894,     0.93994,     0.94094,     0.94194,     0.94294,     0.94394,     0.94494,     0.94595,     0.94695,     0.94795,     0.94895,     0.94995,     0.95095,     0.95195,     0.95295,     0.95395,     0.95495,     0.95596,     0.95696,     0.95796,     0.95896,     0.95996,\n",
      "           0.96096,     0.96196,     0.96296,     0.96396,     0.96496,     0.96597,     0.96697,     0.96797,     0.96897,     0.96997,     0.97097,     0.97197,     0.97297,     0.97397,     0.97497,     0.97598,     0.97698,     0.97798,     0.97898,     0.97998,     0.98098,     0.98198,     0.98298,     0.98398,\n",
      "           0.98498,     0.98599,     0.98699,     0.98799,     0.98899,     0.98999,     0.99099,     0.99199,     0.99299,     0.99399,     0.99499,       0.996,       0.997,       0.998,       0.999,           1]), array([[   0.055963,    0.056004,    0.086029, ...,           0,           0,           0],\n",
      "       [    0.16563,     0.16569,     0.24659, ...,           0,           0,           0]]), 'Confidence', 'F1'], [array([          0,    0.001001,    0.002002,    0.003003,    0.004004,    0.005005,    0.006006,    0.007007,    0.008008,    0.009009,     0.01001,    0.011011,    0.012012,    0.013013,    0.014014,    0.015015,    0.016016,    0.017017,    0.018018,    0.019019,     0.02002,    0.021021,    0.022022,    0.023023,\n",
      "          0.024024,    0.025025,    0.026026,    0.027027,    0.028028,    0.029029,     0.03003,    0.031031,    0.032032,    0.033033,    0.034034,    0.035035,    0.036036,    0.037037,    0.038038,    0.039039,     0.04004,    0.041041,    0.042042,    0.043043,    0.044044,    0.045045,    0.046046,    0.047047,\n",
      "          0.048048,    0.049049,     0.05005,    0.051051,    0.052052,    0.053053,    0.054054,    0.055055,    0.056056,    0.057057,    0.058058,    0.059059,     0.06006,    0.061061,    0.062062,    0.063063,    0.064064,    0.065065,    0.066066,    0.067067,    0.068068,    0.069069,     0.07007,    0.071071,\n",
      "          0.072072,    0.073073,    0.074074,    0.075075,    0.076076,    0.077077,    0.078078,    0.079079,     0.08008,    0.081081,    0.082082,    0.083083,    0.084084,    0.085085,    0.086086,    0.087087,    0.088088,    0.089089,     0.09009,    0.091091,    0.092092,    0.093093,    0.094094,    0.095095,\n",
      "          0.096096,    0.097097,    0.098098,    0.099099,      0.1001,      0.1011,      0.1021,      0.1031,      0.1041,     0.10511,     0.10611,     0.10711,     0.10811,     0.10911,     0.11011,     0.11111,     0.11211,     0.11311,     0.11411,     0.11512,     0.11612,     0.11712,     0.11812,     0.11912,\n",
      "           0.12012,     0.12112,     0.12212,     0.12312,     0.12412,     0.12513,     0.12613,     0.12713,     0.12813,     0.12913,     0.13013,     0.13113,     0.13213,     0.13313,     0.13413,     0.13514,     0.13614,     0.13714,     0.13814,     0.13914,     0.14014,     0.14114,     0.14214,     0.14314,\n",
      "           0.14414,     0.14515,     0.14615,     0.14715,     0.14815,     0.14915,     0.15015,     0.15115,     0.15215,     0.15315,     0.15415,     0.15516,     0.15616,     0.15716,     0.15816,     0.15916,     0.16016,     0.16116,     0.16216,     0.16316,     0.16416,     0.16517,     0.16617,     0.16717,\n",
      "           0.16817,     0.16917,     0.17017,     0.17117,     0.17217,     0.17317,     0.17417,     0.17518,     0.17618,     0.17718,     0.17818,     0.17918,     0.18018,     0.18118,     0.18218,     0.18318,     0.18418,     0.18519,     0.18619,     0.18719,     0.18819,     0.18919,     0.19019,     0.19119,\n",
      "           0.19219,     0.19319,     0.19419,      0.1952,      0.1962,      0.1972,      0.1982,      0.1992,      0.2002,      0.2012,      0.2022,      0.2032,      0.2042,     0.20521,     0.20621,     0.20721,     0.20821,     0.20921,     0.21021,     0.21121,     0.21221,     0.21321,     0.21421,     0.21522,\n",
      "           0.21622,     0.21722,     0.21822,     0.21922,     0.22022,     0.22122,     0.22222,     0.22322,     0.22422,     0.22523,     0.22623,     0.22723,     0.22823,     0.22923,     0.23023,     0.23123,     0.23223,     0.23323,     0.23423,     0.23524,     0.23624,     0.23724,     0.23824,     0.23924,\n",
      "           0.24024,     0.24124,     0.24224,     0.24324,     0.24424,     0.24525,     0.24625,     0.24725,     0.24825,     0.24925,     0.25025,     0.25125,     0.25225,     0.25325,     0.25425,     0.25526,     0.25626,     0.25726,     0.25826,     0.25926,     0.26026,     0.26126,     0.26226,     0.26326,\n",
      "           0.26426,     0.26527,     0.26627,     0.26727,     0.26827,     0.26927,     0.27027,     0.27127,     0.27227,     0.27327,     0.27427,     0.27528,     0.27628,     0.27728,     0.27828,     0.27928,     0.28028,     0.28128,     0.28228,     0.28328,     0.28428,     0.28529,     0.28629,     0.28729,\n",
      "           0.28829,     0.28929,     0.29029,     0.29129,     0.29229,     0.29329,     0.29429,      0.2953,      0.2963,      0.2973,      0.2983,      0.2993,      0.3003,      0.3013,      0.3023,      0.3033,      0.3043,     0.30531,     0.30631,     0.30731,     0.30831,     0.30931,     0.31031,     0.31131,\n",
      "           0.31231,     0.31331,     0.31431,     0.31532,     0.31632,     0.31732,     0.31832,     0.31932,     0.32032,     0.32132,     0.32232,     0.32332,     0.32432,     0.32533,     0.32633,     0.32733,     0.32833,     0.32933,     0.33033,     0.33133,     0.33233,     0.33333,     0.33433,     0.33534,\n",
      "           0.33634,     0.33734,     0.33834,     0.33934,     0.34034,     0.34134,     0.34234,     0.34334,     0.34434,     0.34535,     0.34635,     0.34735,     0.34835,     0.34935,     0.35035,     0.35135,     0.35235,     0.35335,     0.35435,     0.35536,     0.35636,     0.35736,     0.35836,     0.35936,\n",
      "           0.36036,     0.36136,     0.36236,     0.36336,     0.36436,     0.36537,     0.36637,     0.36737,     0.36837,     0.36937,     0.37037,     0.37137,     0.37237,     0.37337,     0.37437,     0.37538,     0.37638,     0.37738,     0.37838,     0.37938,     0.38038,     0.38138,     0.38238,     0.38338,\n",
      "           0.38438,     0.38539,     0.38639,     0.38739,     0.38839,     0.38939,     0.39039,     0.39139,     0.39239,     0.39339,     0.39439,      0.3954,      0.3964,      0.3974,      0.3984,      0.3994,      0.4004,      0.4014,      0.4024,      0.4034,      0.4044,     0.40541,     0.40641,     0.40741,\n",
      "           0.40841,     0.40941,     0.41041,     0.41141,     0.41241,     0.41341,     0.41441,     0.41542,     0.41642,     0.41742,     0.41842,     0.41942,     0.42042,     0.42142,     0.42242,     0.42342,     0.42442,     0.42543,     0.42643,     0.42743,     0.42843,     0.42943,     0.43043,     0.43143,\n",
      "           0.43243,     0.43343,     0.43443,     0.43544,     0.43644,     0.43744,     0.43844,     0.43944,     0.44044,     0.44144,     0.44244,     0.44344,     0.44444,     0.44545,     0.44645,     0.44745,     0.44845,     0.44945,     0.45045,     0.45145,     0.45245,     0.45345,     0.45445,     0.45546,\n",
      "           0.45646,     0.45746,     0.45846,     0.45946,     0.46046,     0.46146,     0.46246,     0.46346,     0.46446,     0.46547,     0.46647,     0.46747,     0.46847,     0.46947,     0.47047,     0.47147,     0.47247,     0.47347,     0.47447,     0.47548,     0.47648,     0.47748,     0.47848,     0.47948,\n",
      "           0.48048,     0.48148,     0.48248,     0.48348,     0.48448,     0.48549,     0.48649,     0.48749,     0.48849,     0.48949,     0.49049,     0.49149,     0.49249,     0.49349,     0.49449,      0.4955,      0.4965,      0.4975,      0.4985,      0.4995,      0.5005,      0.5015,      0.5025,      0.5035,\n",
      "            0.5045,     0.50551,     0.50651,     0.50751,     0.50851,     0.50951,     0.51051,     0.51151,     0.51251,     0.51351,     0.51451,     0.51552,     0.51652,     0.51752,     0.51852,     0.51952,     0.52052,     0.52152,     0.52252,     0.52352,     0.52452,     0.52553,     0.52653,     0.52753,\n",
      "           0.52853,     0.52953,     0.53053,     0.53153,     0.53253,     0.53353,     0.53453,     0.53554,     0.53654,     0.53754,     0.53854,     0.53954,     0.54054,     0.54154,     0.54254,     0.54354,     0.54454,     0.54555,     0.54655,     0.54755,     0.54855,     0.54955,     0.55055,     0.55155,\n",
      "           0.55255,     0.55355,     0.55455,     0.55556,     0.55656,     0.55756,     0.55856,     0.55956,     0.56056,     0.56156,     0.56256,     0.56356,     0.56456,     0.56557,     0.56657,     0.56757,     0.56857,     0.56957,     0.57057,     0.57157,     0.57257,     0.57357,     0.57457,     0.57558,\n",
      "           0.57658,     0.57758,     0.57858,     0.57958,     0.58058,     0.58158,     0.58258,     0.58358,     0.58458,     0.58559,     0.58659,     0.58759,     0.58859,     0.58959,     0.59059,     0.59159,     0.59259,     0.59359,     0.59459,      0.5956,      0.5966,      0.5976,      0.5986,      0.5996,\n",
      "            0.6006,      0.6016,      0.6026,      0.6036,      0.6046,     0.60561,     0.60661,     0.60761,     0.60861,     0.60961,     0.61061,     0.61161,     0.61261,     0.61361,     0.61461,     0.61562,     0.61662,     0.61762,     0.61862,     0.61962,     0.62062,     0.62162,     0.62262,     0.62362,\n",
      "           0.62462,     0.62563,     0.62663,     0.62763,     0.62863,     0.62963,     0.63063,     0.63163,     0.63263,     0.63363,     0.63463,     0.63564,     0.63664,     0.63764,     0.63864,     0.63964,     0.64064,     0.64164,     0.64264,     0.64364,     0.64464,     0.64565,     0.64665,     0.64765,\n",
      "           0.64865,     0.64965,     0.65065,     0.65165,     0.65265,     0.65365,     0.65465,     0.65566,     0.65666,     0.65766,     0.65866,     0.65966,     0.66066,     0.66166,     0.66266,     0.66366,     0.66466,     0.66567,     0.66667,     0.66767,     0.66867,     0.66967,     0.67067,     0.67167,\n",
      "           0.67267,     0.67367,     0.67467,     0.67568,     0.67668,     0.67768,     0.67868,     0.67968,     0.68068,     0.68168,     0.68268,     0.68368,     0.68468,     0.68569,     0.68669,     0.68769,     0.68869,     0.68969,     0.69069,     0.69169,     0.69269,     0.69369,     0.69469,      0.6957,\n",
      "            0.6967,      0.6977,      0.6987,      0.6997,      0.7007,      0.7017,      0.7027,      0.7037,      0.7047,     0.70571,     0.70671,     0.70771,     0.70871,     0.70971,     0.71071,     0.71171,     0.71271,     0.71371,     0.71471,     0.71572,     0.71672,     0.71772,     0.71872,     0.71972,\n",
      "           0.72072,     0.72172,     0.72272,     0.72372,     0.72472,     0.72573,     0.72673,     0.72773,     0.72873,     0.72973,     0.73073,     0.73173,     0.73273,     0.73373,     0.73473,     0.73574,     0.73674,     0.73774,     0.73874,     0.73974,     0.74074,     0.74174,     0.74274,     0.74374,\n",
      "           0.74474,     0.74575,     0.74675,     0.74775,     0.74875,     0.74975,     0.75075,     0.75175,     0.75275,     0.75375,     0.75475,     0.75576,     0.75676,     0.75776,     0.75876,     0.75976,     0.76076,     0.76176,     0.76276,     0.76376,     0.76476,     0.76577,     0.76677,     0.76777,\n",
      "           0.76877,     0.76977,     0.77077,     0.77177,     0.77277,     0.77377,     0.77477,     0.77578,     0.77678,     0.77778,     0.77878,     0.77978,     0.78078,     0.78178,     0.78278,     0.78378,     0.78478,     0.78579,     0.78679,     0.78779,     0.78879,     0.78979,     0.79079,     0.79179,\n",
      "           0.79279,     0.79379,     0.79479,      0.7958,      0.7968,      0.7978,      0.7988,      0.7998,      0.8008,      0.8018,      0.8028,      0.8038,      0.8048,     0.80581,     0.80681,     0.80781,     0.80881,     0.80981,     0.81081,     0.81181,     0.81281,     0.81381,     0.81481,     0.81582,\n",
      "           0.81682,     0.81782,     0.81882,     0.81982,     0.82082,     0.82182,     0.82282,     0.82382,     0.82482,     0.82583,     0.82683,     0.82783,     0.82883,     0.82983,     0.83083,     0.83183,     0.83283,     0.83383,     0.83483,     0.83584,     0.83684,     0.83784,     0.83884,     0.83984,\n",
      "           0.84084,     0.84184,     0.84284,     0.84384,     0.84484,     0.84585,     0.84685,     0.84785,     0.84885,     0.84985,     0.85085,     0.85185,     0.85285,     0.85385,     0.85485,     0.85586,     0.85686,     0.85786,     0.85886,     0.85986,     0.86086,     0.86186,     0.86286,     0.86386,\n",
      "           0.86486,     0.86587,     0.86687,     0.86787,     0.86887,     0.86987,     0.87087,     0.87187,     0.87287,     0.87387,     0.87487,     0.87588,     0.87688,     0.87788,     0.87888,     0.87988,     0.88088,     0.88188,     0.88288,     0.88388,     0.88488,     0.88589,     0.88689,     0.88789,\n",
      "           0.88889,     0.88989,     0.89089,     0.89189,     0.89289,     0.89389,     0.89489,      0.8959,      0.8969,      0.8979,      0.8989,      0.8999,      0.9009,      0.9019,      0.9029,      0.9039,      0.9049,     0.90591,     0.90691,     0.90791,     0.90891,     0.90991,     0.91091,     0.91191,\n",
      "           0.91291,     0.91391,     0.91491,     0.91592,     0.91692,     0.91792,     0.91892,     0.91992,     0.92092,     0.92192,     0.92292,     0.92392,     0.92492,     0.92593,     0.92693,     0.92793,     0.92893,     0.92993,     0.93093,     0.93193,     0.93293,     0.93393,     0.93493,     0.93594,\n",
      "           0.93694,     0.93794,     0.93894,     0.93994,     0.94094,     0.94194,     0.94294,     0.94394,     0.94494,     0.94595,     0.94695,     0.94795,     0.94895,     0.94995,     0.95095,     0.95195,     0.95295,     0.95395,     0.95495,     0.95596,     0.95696,     0.95796,     0.95896,     0.95996,\n",
      "           0.96096,     0.96196,     0.96296,     0.96396,     0.96496,     0.96597,     0.96697,     0.96797,     0.96897,     0.96997,     0.97097,     0.97197,     0.97297,     0.97397,     0.97497,     0.97598,     0.97698,     0.97798,     0.97898,     0.97998,     0.98098,     0.98198,     0.98298,     0.98398,\n",
      "           0.98498,     0.98599,     0.98699,     0.98799,     0.98899,     0.98999,     0.99099,     0.99199,     0.99299,     0.99399,     0.99499,       0.996,       0.997,       0.998,       0.999,           1]), array([[   0.028948,     0.02897,    0.045445, ...,           1,           1,           1],\n",
      "       [   0.090633,    0.090674,     0.14156, ...,           1,           1,           1]]), 'Confidence', 'Precision'], [array([          0,    0.001001,    0.002002,    0.003003,    0.004004,    0.005005,    0.006006,    0.007007,    0.008008,    0.009009,     0.01001,    0.011011,    0.012012,    0.013013,    0.014014,    0.015015,    0.016016,    0.017017,    0.018018,    0.019019,     0.02002,    0.021021,    0.022022,    0.023023,\n",
      "          0.024024,    0.025025,    0.026026,    0.027027,    0.028028,    0.029029,     0.03003,    0.031031,    0.032032,    0.033033,    0.034034,    0.035035,    0.036036,    0.037037,    0.038038,    0.039039,     0.04004,    0.041041,    0.042042,    0.043043,    0.044044,    0.045045,    0.046046,    0.047047,\n",
      "          0.048048,    0.049049,     0.05005,    0.051051,    0.052052,    0.053053,    0.054054,    0.055055,    0.056056,    0.057057,    0.058058,    0.059059,     0.06006,    0.061061,    0.062062,    0.063063,    0.064064,    0.065065,    0.066066,    0.067067,    0.068068,    0.069069,     0.07007,    0.071071,\n",
      "          0.072072,    0.073073,    0.074074,    0.075075,    0.076076,    0.077077,    0.078078,    0.079079,     0.08008,    0.081081,    0.082082,    0.083083,    0.084084,    0.085085,    0.086086,    0.087087,    0.088088,    0.089089,     0.09009,    0.091091,    0.092092,    0.093093,    0.094094,    0.095095,\n",
      "          0.096096,    0.097097,    0.098098,    0.099099,      0.1001,      0.1011,      0.1021,      0.1031,      0.1041,     0.10511,     0.10611,     0.10711,     0.10811,     0.10911,     0.11011,     0.11111,     0.11211,     0.11311,     0.11411,     0.11512,     0.11612,     0.11712,     0.11812,     0.11912,\n",
      "           0.12012,     0.12112,     0.12212,     0.12312,     0.12412,     0.12513,     0.12613,     0.12713,     0.12813,     0.12913,     0.13013,     0.13113,     0.13213,     0.13313,     0.13413,     0.13514,     0.13614,     0.13714,     0.13814,     0.13914,     0.14014,     0.14114,     0.14214,     0.14314,\n",
      "           0.14414,     0.14515,     0.14615,     0.14715,     0.14815,     0.14915,     0.15015,     0.15115,     0.15215,     0.15315,     0.15415,     0.15516,     0.15616,     0.15716,     0.15816,     0.15916,     0.16016,     0.16116,     0.16216,     0.16316,     0.16416,     0.16517,     0.16617,     0.16717,\n",
      "           0.16817,     0.16917,     0.17017,     0.17117,     0.17217,     0.17317,     0.17417,     0.17518,     0.17618,     0.17718,     0.17818,     0.17918,     0.18018,     0.18118,     0.18218,     0.18318,     0.18418,     0.18519,     0.18619,     0.18719,     0.18819,     0.18919,     0.19019,     0.19119,\n",
      "           0.19219,     0.19319,     0.19419,      0.1952,      0.1962,      0.1972,      0.1982,      0.1992,      0.2002,      0.2012,      0.2022,      0.2032,      0.2042,     0.20521,     0.20621,     0.20721,     0.20821,     0.20921,     0.21021,     0.21121,     0.21221,     0.21321,     0.21421,     0.21522,\n",
      "           0.21622,     0.21722,     0.21822,     0.21922,     0.22022,     0.22122,     0.22222,     0.22322,     0.22422,     0.22523,     0.22623,     0.22723,     0.22823,     0.22923,     0.23023,     0.23123,     0.23223,     0.23323,     0.23423,     0.23524,     0.23624,     0.23724,     0.23824,     0.23924,\n",
      "           0.24024,     0.24124,     0.24224,     0.24324,     0.24424,     0.24525,     0.24625,     0.24725,     0.24825,     0.24925,     0.25025,     0.25125,     0.25225,     0.25325,     0.25425,     0.25526,     0.25626,     0.25726,     0.25826,     0.25926,     0.26026,     0.26126,     0.26226,     0.26326,\n",
      "           0.26426,     0.26527,     0.26627,     0.26727,     0.26827,     0.26927,     0.27027,     0.27127,     0.27227,     0.27327,     0.27427,     0.27528,     0.27628,     0.27728,     0.27828,     0.27928,     0.28028,     0.28128,     0.28228,     0.28328,     0.28428,     0.28529,     0.28629,     0.28729,\n",
      "           0.28829,     0.28929,     0.29029,     0.29129,     0.29229,     0.29329,     0.29429,      0.2953,      0.2963,      0.2973,      0.2983,      0.2993,      0.3003,      0.3013,      0.3023,      0.3033,      0.3043,     0.30531,     0.30631,     0.30731,     0.30831,     0.30931,     0.31031,     0.31131,\n",
      "           0.31231,     0.31331,     0.31431,     0.31532,     0.31632,     0.31732,     0.31832,     0.31932,     0.32032,     0.32132,     0.32232,     0.32332,     0.32432,     0.32533,     0.32633,     0.32733,     0.32833,     0.32933,     0.33033,     0.33133,     0.33233,     0.33333,     0.33433,     0.33534,\n",
      "           0.33634,     0.33734,     0.33834,     0.33934,     0.34034,     0.34134,     0.34234,     0.34334,     0.34434,     0.34535,     0.34635,     0.34735,     0.34835,     0.34935,     0.35035,     0.35135,     0.35235,     0.35335,     0.35435,     0.35536,     0.35636,     0.35736,     0.35836,     0.35936,\n",
      "           0.36036,     0.36136,     0.36236,     0.36336,     0.36436,     0.36537,     0.36637,     0.36737,     0.36837,     0.36937,     0.37037,     0.37137,     0.37237,     0.37337,     0.37437,     0.37538,     0.37638,     0.37738,     0.37838,     0.37938,     0.38038,     0.38138,     0.38238,     0.38338,\n",
      "           0.38438,     0.38539,     0.38639,     0.38739,     0.38839,     0.38939,     0.39039,     0.39139,     0.39239,     0.39339,     0.39439,      0.3954,      0.3964,      0.3974,      0.3984,      0.3994,      0.4004,      0.4014,      0.4024,      0.4034,      0.4044,     0.40541,     0.40641,     0.40741,\n",
      "           0.40841,     0.40941,     0.41041,     0.41141,     0.41241,     0.41341,     0.41441,     0.41542,     0.41642,     0.41742,     0.41842,     0.41942,     0.42042,     0.42142,     0.42242,     0.42342,     0.42442,     0.42543,     0.42643,     0.42743,     0.42843,     0.42943,     0.43043,     0.43143,\n",
      "           0.43243,     0.43343,     0.43443,     0.43544,     0.43644,     0.43744,     0.43844,     0.43944,     0.44044,     0.44144,     0.44244,     0.44344,     0.44444,     0.44545,     0.44645,     0.44745,     0.44845,     0.44945,     0.45045,     0.45145,     0.45245,     0.45345,     0.45445,     0.45546,\n",
      "           0.45646,     0.45746,     0.45846,     0.45946,     0.46046,     0.46146,     0.46246,     0.46346,     0.46446,     0.46547,     0.46647,     0.46747,     0.46847,     0.46947,     0.47047,     0.47147,     0.47247,     0.47347,     0.47447,     0.47548,     0.47648,     0.47748,     0.47848,     0.47948,\n",
      "           0.48048,     0.48148,     0.48248,     0.48348,     0.48448,     0.48549,     0.48649,     0.48749,     0.48849,     0.48949,     0.49049,     0.49149,     0.49249,     0.49349,     0.49449,      0.4955,      0.4965,      0.4975,      0.4985,      0.4995,      0.5005,      0.5015,      0.5025,      0.5035,\n",
      "            0.5045,     0.50551,     0.50651,     0.50751,     0.50851,     0.50951,     0.51051,     0.51151,     0.51251,     0.51351,     0.51451,     0.51552,     0.51652,     0.51752,     0.51852,     0.51952,     0.52052,     0.52152,     0.52252,     0.52352,     0.52452,     0.52553,     0.52653,     0.52753,\n",
      "           0.52853,     0.52953,     0.53053,     0.53153,     0.53253,     0.53353,     0.53453,     0.53554,     0.53654,     0.53754,     0.53854,     0.53954,     0.54054,     0.54154,     0.54254,     0.54354,     0.54454,     0.54555,     0.54655,     0.54755,     0.54855,     0.54955,     0.55055,     0.55155,\n",
      "           0.55255,     0.55355,     0.55455,     0.55556,     0.55656,     0.55756,     0.55856,     0.55956,     0.56056,     0.56156,     0.56256,     0.56356,     0.56456,     0.56557,     0.56657,     0.56757,     0.56857,     0.56957,     0.57057,     0.57157,     0.57257,     0.57357,     0.57457,     0.57558,\n",
      "           0.57658,     0.57758,     0.57858,     0.57958,     0.58058,     0.58158,     0.58258,     0.58358,     0.58458,     0.58559,     0.58659,     0.58759,     0.58859,     0.58959,     0.59059,     0.59159,     0.59259,     0.59359,     0.59459,      0.5956,      0.5966,      0.5976,      0.5986,      0.5996,\n",
      "            0.6006,      0.6016,      0.6026,      0.6036,      0.6046,     0.60561,     0.60661,     0.60761,     0.60861,     0.60961,     0.61061,     0.61161,     0.61261,     0.61361,     0.61461,     0.61562,     0.61662,     0.61762,     0.61862,     0.61962,     0.62062,     0.62162,     0.62262,     0.62362,\n",
      "           0.62462,     0.62563,     0.62663,     0.62763,     0.62863,     0.62963,     0.63063,     0.63163,     0.63263,     0.63363,     0.63463,     0.63564,     0.63664,     0.63764,     0.63864,     0.63964,     0.64064,     0.64164,     0.64264,     0.64364,     0.64464,     0.64565,     0.64665,     0.64765,\n",
      "           0.64865,     0.64965,     0.65065,     0.65165,     0.65265,     0.65365,     0.65465,     0.65566,     0.65666,     0.65766,     0.65866,     0.65966,     0.66066,     0.66166,     0.66266,     0.66366,     0.66466,     0.66567,     0.66667,     0.66767,     0.66867,     0.66967,     0.67067,     0.67167,\n",
      "           0.67267,     0.67367,     0.67467,     0.67568,     0.67668,     0.67768,     0.67868,     0.67968,     0.68068,     0.68168,     0.68268,     0.68368,     0.68468,     0.68569,     0.68669,     0.68769,     0.68869,     0.68969,     0.69069,     0.69169,     0.69269,     0.69369,     0.69469,      0.6957,\n",
      "            0.6967,      0.6977,      0.6987,      0.6997,      0.7007,      0.7017,      0.7027,      0.7037,      0.7047,     0.70571,     0.70671,     0.70771,     0.70871,     0.70971,     0.71071,     0.71171,     0.71271,     0.71371,     0.71471,     0.71572,     0.71672,     0.71772,     0.71872,     0.71972,\n",
      "           0.72072,     0.72172,     0.72272,     0.72372,     0.72472,     0.72573,     0.72673,     0.72773,     0.72873,     0.72973,     0.73073,     0.73173,     0.73273,     0.73373,     0.73473,     0.73574,     0.73674,     0.73774,     0.73874,     0.73974,     0.74074,     0.74174,     0.74274,     0.74374,\n",
      "           0.74474,     0.74575,     0.74675,     0.74775,     0.74875,     0.74975,     0.75075,     0.75175,     0.75275,     0.75375,     0.75475,     0.75576,     0.75676,     0.75776,     0.75876,     0.75976,     0.76076,     0.76176,     0.76276,     0.76376,     0.76476,     0.76577,     0.76677,     0.76777,\n",
      "           0.76877,     0.76977,     0.77077,     0.77177,     0.77277,     0.77377,     0.77477,     0.77578,     0.77678,     0.77778,     0.77878,     0.77978,     0.78078,     0.78178,     0.78278,     0.78378,     0.78478,     0.78579,     0.78679,     0.78779,     0.78879,     0.78979,     0.79079,     0.79179,\n",
      "           0.79279,     0.79379,     0.79479,      0.7958,      0.7968,      0.7978,      0.7988,      0.7998,      0.8008,      0.8018,      0.8028,      0.8038,      0.8048,     0.80581,     0.80681,     0.80781,     0.80881,     0.80981,     0.81081,     0.81181,     0.81281,     0.81381,     0.81481,     0.81582,\n",
      "           0.81682,     0.81782,     0.81882,     0.81982,     0.82082,     0.82182,     0.82282,     0.82382,     0.82482,     0.82583,     0.82683,     0.82783,     0.82883,     0.82983,     0.83083,     0.83183,     0.83283,     0.83383,     0.83483,     0.83584,     0.83684,     0.83784,     0.83884,     0.83984,\n",
      "           0.84084,     0.84184,     0.84284,     0.84384,     0.84484,     0.84585,     0.84685,     0.84785,     0.84885,     0.84985,     0.85085,     0.85185,     0.85285,     0.85385,     0.85485,     0.85586,     0.85686,     0.85786,     0.85886,     0.85986,     0.86086,     0.86186,     0.86286,     0.86386,\n",
      "           0.86486,     0.86587,     0.86687,     0.86787,     0.86887,     0.86987,     0.87087,     0.87187,     0.87287,     0.87387,     0.87487,     0.87588,     0.87688,     0.87788,     0.87888,     0.87988,     0.88088,     0.88188,     0.88288,     0.88388,     0.88488,     0.88589,     0.88689,     0.88789,\n",
      "           0.88889,     0.88989,     0.89089,     0.89189,     0.89289,     0.89389,     0.89489,      0.8959,      0.8969,      0.8979,      0.8989,      0.8999,      0.9009,      0.9019,      0.9029,      0.9039,      0.9049,     0.90591,     0.90691,     0.90791,     0.90891,     0.90991,     0.91091,     0.91191,\n",
      "           0.91291,     0.91391,     0.91491,     0.91592,     0.91692,     0.91792,     0.91892,     0.91992,     0.92092,     0.92192,     0.92292,     0.92392,     0.92492,     0.92593,     0.92693,     0.92793,     0.92893,     0.92993,     0.93093,     0.93193,     0.93293,     0.93393,     0.93493,     0.93594,\n",
      "           0.93694,     0.93794,     0.93894,     0.93994,     0.94094,     0.94194,     0.94294,     0.94394,     0.94494,     0.94595,     0.94695,     0.94795,     0.94895,     0.94995,     0.95095,     0.95195,     0.95295,     0.95395,     0.95495,     0.95596,     0.95696,     0.95796,     0.95896,     0.95996,\n",
      "           0.96096,     0.96196,     0.96296,     0.96396,     0.96496,     0.96597,     0.96697,     0.96797,     0.96897,     0.96997,     0.97097,     0.97197,     0.97297,     0.97397,     0.97497,     0.97598,     0.97698,     0.97798,     0.97898,     0.97998,     0.98098,     0.98198,     0.98298,     0.98398,\n",
      "           0.98498,     0.98599,     0.98699,     0.98799,     0.98899,     0.98999,     0.99099,     0.99199,     0.99299,     0.99399,     0.99499,       0.996,       0.997,       0.998,       0.999,           1]), array([[    0.83816,     0.83816,     0.80435, ...,           0,           0,           0],\n",
      "       [    0.95984,     0.95984,     0.95582, ...,           0,           0,           0]]), 'Confidence', 'Recall']]\n",
      "fitness: 0.4705805805109389\n",
      "keys: ['metrics/precision(B)', 'metrics/recall(B)', 'metrics/mAP50(B)', 'metrics/mAP50-95(B)']\n",
      "maps: array([    0.31363,     0.57496])\n",
      "names: {0: 'Bird', 1: 'drone'}\n",
      "plot: True\n",
      "results_dict: {'metrics/precision(B)': 0.7932744894102461, 'metrics/recall(B)': 0.6708864443280368, 'metrics/mAP50(B)': 0.7071205584135016, 'metrics/mAP50-95(B)': 0.44429836074398743, 'fitness': 0.4705805805109389}\n",
      "save_dir: WindowsPath('runs/detect/val')\n",
      "speed: {'preprocess': 1.4981781797749656, 'inference': 104.04991571392331, 'loss': 0.0, 'postprocess': 1.174117305449077}\n",
      "task: 'detect'\n"
     ]
    }
   ],
   "source": [
    "#5. Validate the trained model.\n",
    "    \n",
    "model = YOLO(\"runs/yolov8_cpu_training/weights/best.pt\")\n",
    "\n",
    "metrics = model.val(\n",
    "    data=r\"C:\\Users\\vidya\\Desktop\\Jupyter Notebook\\Aerial Object Classification & Detection\\object_detection_Dataset\\data.yaml\",\n",
    "    device=\"cpu\"\n",
    ")\n",
    "\n",
    "print(metrics)"
   ]
  },
  {
   "cell_type": "code",
   "execution_count": 8,
   "id": "5ab4be69-1e7f-488f-a5b3-36e6764e2fa6",
   "metadata": {
    "scrolled": true
   },
   "outputs": [
    {
     "name": "stdout",
     "output_type": "stream",
     "text": [
      "\n",
      "image 1/224 C:\\Users\\vidya\\Desktop\\Jupyter Notebook\\Aerial Object Classification & Detection\\object_detection_Dataset\\test\\images\\00083b384685315d_jpg.rf.abfd1b2cc8c681777bae66d5327bb9ea.jpg: 320x320 1 Bird, 599.6ms\n",
      "image 2/224 C:\\Users\\vidya\\Desktop\\Jupyter Notebook\\Aerial Object Classification & Detection\\object_detection_Dataset\\test\\images\\00188d7f40a84793_jpg.rf.7f9da2b662dc236fbdcc1f22d8e0983e.jpg: 320x320 1 Bird, 130.8ms\n",
      "image 3/224 C:\\Users\\vidya\\Desktop\\Jupyter Notebook\\Aerial Object Classification & Detection\\object_detection_Dataset\\test\\images\\0028adf0e92c3da2_jpg.rf.48c97d30547a46e83abcbd1bf801c72f.jpg: 320x320 1 Bird, 125.0ms\n",
      "image 4/224 C:\\Users\\vidya\\Desktop\\Jupyter Notebook\\Aerial Object Classification & Detection\\object_detection_Dataset\\test\\images\\00347cbbeed4bedb_jpg.rf.aa19c9a7a22d76f8539ca12ac7cb82d5.jpg: 320x320 (no detections), 124.9ms\n",
      "image 5/224 C:\\Users\\vidya\\Desktop\\Jupyter Notebook\\Aerial Object Classification & Detection\\object_detection_Dataset\\test\\images\\004cc8de466969bc_jpg.rf.ca1ffa31f30a92a3987e689583983973.jpg: 320x320 1 Bird, 156.2ms\n",
      "image 6/224 C:\\Users\\vidya\\Desktop\\Jupyter Notebook\\Aerial Object Classification & Detection\\object_detection_Dataset\\test\\images\\006ce62a72df4dd4_jpg.rf.8f8e7b6e9a26a01be91ea1b7dc4011d2.jpg: 320x320 1 Bird, 140.6ms\n",
      "image 7/224 C:\\Users\\vidya\\Desktop\\Jupyter Notebook\\Aerial Object Classification & Detection\\object_detection_Dataset\\test\\images\\006f6769070fc876_jpg.rf.bda2b07a999cd589936497151e0d009f.jpg: 320x320 2 Birds, 125.0ms\n",
      "image 8/224 C:\\Users\\vidya\\Desktop\\Jupyter Notebook\\Aerial Object Classification & Detection\\object_detection_Dataset\\test\\images\\007321d46c4b8ffe_jpg.rf.bdea1bdbdba77545bc506d5f7a6cd306.jpg: 320x320 2 Birds, 93.7ms\n",
      "image 9/224 C:\\Users\\vidya\\Desktop\\Jupyter Notebook\\Aerial Object Classification & Detection\\object_detection_Dataset\\test\\images\\0078fb03bcd9e384_jpg.rf.66436160110f8810912498e51e53f8ea.jpg: 320x320 2 Birds, 99.7ms\n",
      "image 10/224 C:\\Users\\vidya\\Desktop\\Jupyter Notebook\\Aerial Object Classification & Detection\\object_detection_Dataset\\test\\images\\0085fed0b90de5ba_jpg.rf.ace2ac82f6145bc68aef8c8a9cdd74bb.jpg: 320x320 1 Bird, 116.2ms\n",
      "image 11/224 C:\\Users\\vidya\\Desktop\\Jupyter Notebook\\Aerial Object Classification & Detection\\object_detection_Dataset\\test\\images\\00bbef88f4ee0a65_jpg.rf.fe5638a88671d9eda0175a3810aaa38a.jpg: 320x320 1 Bird, 99.6ms\n",
      "image 12/224 C:\\Users\\vidya\\Desktop\\Jupyter Notebook\\Aerial Object Classification & Detection\\object_detection_Dataset\\test\\images\\00ddd713b6f26a17_jpg.rf.0756de13413d353595f8a65e9300b032.jpg: 320x320 1 Bird, 84.6ms\n",
      "image 13/224 C:\\Users\\vidya\\Desktop\\Jupyter Notebook\\Aerial Object Classification & Detection\\object_detection_Dataset\\test\\images\\010e0f9a46b7c711_jpg.rf.58061cfedac658fb4b47b67caea66a40.jpg: 320x320 (no detections), 100.4ms\n",
      "image 14/224 C:\\Users\\vidya\\Desktop\\Jupyter Notebook\\Aerial Object Classification & Detection\\object_detection_Dataset\\test\\images\\011016400d8e9c2f_jpg.rf.94c6c04498e7bce4b31d093e1d3b0e92.jpg: 320x320 3 Birds, 78.1ms\n",
      "image 15/224 C:\\Users\\vidya\\Desktop\\Jupyter Notebook\\Aerial Object Classification & Detection\\object_detection_Dataset\\test\\images\\01d886ab21630a59_jpg.rf.ee35a5536028b87e8c1daa0e0ae9ed06.jpg: 320x320 1 Bird, 109.4ms\n",
      "image 16/224 C:\\Users\\vidya\\Desktop\\Jupyter Notebook\\Aerial Object Classification & Detection\\object_detection_Dataset\\test\\images\\0228e26f56a4f301_jpg.rf.99d883577d4466fe2e9d94cb690c4f3c.jpg: 320x320 1 Bird, 125.0ms\n",
      "image 17/224 C:\\Users\\vidya\\Desktop\\Jupyter Notebook\\Aerial Object Classification & Detection\\object_detection_Dataset\\test\\images\\02670791de1cb5c2_jpg.rf.36f211192df86c493798834566acb752.jpg: 320x320 1 Bird, 1 drone, 109.4ms\n",
      "image 18/224 C:\\Users\\vidya\\Desktop\\Jupyter Notebook\\Aerial Object Classification & Detection\\object_detection_Dataset\\test\\images\\02920d485acc2e5e_jpg.rf.ed75b6b1a742ac9388c0927b028d6058.jpg: 320x320 1 Bird, 124.9ms\n",
      "image 19/224 C:\\Users\\vidya\\Desktop\\Jupyter Notebook\\Aerial Object Classification & Detection\\object_detection_Dataset\\test\\images\\02adaa4808969cdb_jpg.rf.55cd70dd875a081722f05cf3c92d1604.jpg: 320x320 1 Bird, 109.4ms\n",
      "image 20/224 C:\\Users\\vidya\\Desktop\\Jupyter Notebook\\Aerial Object Classification & Detection\\object_detection_Dataset\\test\\images\\02c190e7c69de307_jpg.rf.91cb97da2d82a32bfe1205aee096e3fa.jpg: 320x320 1 Bird, 109.4ms\n",
      "image 21/224 C:\\Users\\vidya\\Desktop\\Jupyter Notebook\\Aerial Object Classification & Detection\\object_detection_Dataset\\test\\images\\02c778b110d26856_jpg.rf.92116dd3d174027d06064bdc44bb521b.jpg: 320x320 2 Birds, 125.0ms\n",
      "image 22/224 C:\\Users\\vidya\\Desktop\\Jupyter Notebook\\Aerial Object Classification & Detection\\object_detection_Dataset\\test\\images\\03109e9d5e357cb3_jpg.rf.f21707c59f10e141da909fad3f4612df.jpg: 320x320 (no detections), 156.2ms\n",
      "image 23/224 C:\\Users\\vidya\\Desktop\\Jupyter Notebook\\Aerial Object Classification & Detection\\object_detection_Dataset\\test\\images\\0332627ee6c51e95_jpg.rf.a1258b27cf9ece82cdc34738320d6ea9.jpg: 320x320 2 Birds, 203.1ms\n",
      "image 24/224 C:\\Users\\vidya\\Desktop\\Jupyter Notebook\\Aerial Object Classification & Detection\\object_detection_Dataset\\test\\images\\0348c929ccc57ada_jpg.rf.67359fde05abe9009c0539972fb10ade.jpg: 320x320 2 Birds, 109.3ms\n",
      "image 25/224 C:\\Users\\vidya\\Desktop\\Jupyter Notebook\\Aerial Object Classification & Detection\\object_detection_Dataset\\test\\images\\0368f213408a35f4_jpg.rf.8ba996debeb29fcd1f39f974b15dad71.jpg: 320x320 1 Bird, 78.1ms\n",
      "image 26/224 C:\\Users\\vidya\\Desktop\\Jupyter Notebook\\Aerial Object Classification & Detection\\object_detection_Dataset\\test\\images\\03714a0412dcde25_jpg.rf.e42e2293c27aff0ada3abfc92557fc10.jpg: 320x320 2 Birds, 156.2ms\n",
      "image 27/224 C:\\Users\\vidya\\Desktop\\Jupyter Notebook\\Aerial Object Classification & Detection\\object_detection_Dataset\\test\\images\\040f5d12a5574ff3_jpg.rf.0fa0343cf791c88b2888dc48ccaf93d8.jpg: 320x320 3 Birds, 125.0ms\n",
      "image 28/224 C:\\Users\\vidya\\Desktop\\Jupyter Notebook\\Aerial Object Classification & Detection\\object_detection_Dataset\\test\\images\\0454e442f831e848_jpg.rf.d44a08fd48fe6aba84112b0121acdd77.jpg: 320x320 1 Bird, 93.7ms\n",
      "image 29/224 C:\\Users\\vidya\\Desktop\\Jupyter Notebook\\Aerial Object Classification & Detection\\object_detection_Dataset\\test\\images\\0463c301cee2eca1_jpg.rf.95681aebfba2f1c44614d87ab7fcce75.jpg: 320x320 1 Bird, 78.1ms\n",
      "image 30/224 C:\\Users\\vidya\\Desktop\\Jupyter Notebook\\Aerial Object Classification & Detection\\object_detection_Dataset\\test\\images\\049d7c9b14ed19d5_jpg.rf.d36082e3b6c747eca2b58e53b20f5172.jpg: 320x320 (no detections), 78.1ms\n",
      "image 31/224 C:\\Users\\vidya\\Desktop\\Jupyter Notebook\\Aerial Object Classification & Detection\\object_detection_Dataset\\test\\images\\051e12587f4a1035_jpg.rf.e8e047cf0e436f7ed123054f0ace7389.jpg: 320x320 (no detections), 140.6ms\n",
      "image 32/224 C:\\Users\\vidya\\Desktop\\Jupyter Notebook\\Aerial Object Classification & Detection\\object_detection_Dataset\\test\\images\\0575fcf949e14cbe_jpg.rf.056abc006503292027aa7a8cbad8bc0f.jpg: 320x320 1 Bird, 78.1ms\n",
      "image 33/224 C:\\Users\\vidya\\Desktop\\Jupyter Notebook\\Aerial Object Classification & Detection\\object_detection_Dataset\\test\\images\\05d4b9e520abdacb_jpg.rf.8de8bdbc5559d82baf9d90f383194fe2.jpg: 320x320 1 Bird, 93.7ms\n",
      "image 34/224 C:\\Users\\vidya\\Desktop\\Jupyter Notebook\\Aerial Object Classification & Detection\\object_detection_Dataset\\test\\images\\062c02b19aac5914_jpg.rf.985ab01554e4455786414037f191cde4.jpg: 320x320 2 Birds, 109.3ms\n",
      "image 35/224 C:\\Users\\vidya\\Desktop\\Jupyter Notebook\\Aerial Object Classification & Detection\\object_detection_Dataset\\test\\images\\0672a6d2f99b40bd_jpg.rf.a322180b2df2c1f7c651480b6088b48c.jpg: 320x320 1 Bird, 93.8ms\n",
      "image 36/224 C:\\Users\\vidya\\Desktop\\Jupyter Notebook\\Aerial Object Classification & Detection\\object_detection_Dataset\\test\\images\\06b3bc9d00e0bd0c_jpg.rf.db81bbe2cdd9edb36e3405001602520c.jpg: 320x320 1 Bird, 1 drone, 125.0ms\n",
      "image 37/224 C:\\Users\\vidya\\Desktop\\Jupyter Notebook\\Aerial Object Classification & Detection\\object_detection_Dataset\\test\\images\\06c3aa687a4983e0_jpg.rf.87dbd1dda0033298782f9f63b42c5187.jpg: 320x320 2 Birds, 125.0ms\n",
      "image 38/224 C:\\Users\\vidya\\Desktop\\Jupyter Notebook\\Aerial Object Classification & Detection\\object_detection_Dataset\\test\\images\\06c85a56c7076a15_jpg.rf.8f607bbd05e085ecb0bcb8951a025186.jpg: 320x320 1 Bird, 125.0ms\n",
      "image 39/224 C:\\Users\\vidya\\Desktop\\Jupyter Notebook\\Aerial Object Classification & Detection\\object_detection_Dataset\\test\\images\\07187d26e2fccce4_jpg.rf.48af6272671638ebd3e7369f09f13f15.jpg: 320x320 1 Bird, 125.0ms\n",
      "image 40/224 C:\\Users\\vidya\\Desktop\\Jupyter Notebook\\Aerial Object Classification & Detection\\object_detection_Dataset\\test\\images\\074b7340bb5d8b2a_jpg.rf.1fdd5d1a0aea02af3fb55b5f1b360224.jpg: 320x320 2 Birds, 156.2ms\n",
      "image 41/224 C:\\Users\\vidya\\Desktop\\Jupyter Notebook\\Aerial Object Classification & Detection\\object_detection_Dataset\\test\\images\\0771007407c702a3_jpg.rf.73b4404df3a0f827bba8cded342d5f30.jpg: 320x320 (no detections), 140.6ms\n",
      "image 42/224 C:\\Users\\vidya\\Desktop\\Jupyter Notebook\\Aerial Object Classification & Detection\\object_detection_Dataset\\test\\images\\077ad62103625711_jpg.rf.23539d0574284cbca3f145cd9a28ca31.jpg: 320x320 3 Birds, 125.0ms\n",
      "image 43/224 C:\\Users\\vidya\\Desktop\\Jupyter Notebook\\Aerial Object Classification & Detection\\object_detection_Dataset\\test\\images\\07be23e079fe8a02_jpg.rf.bbdc179ac9ea0f13519e5352fe5b7978.jpg: 320x320 1 Bird, 93.7ms\n",
      "image 44/224 C:\\Users\\vidya\\Desktop\\Jupyter Notebook\\Aerial Object Classification & Detection\\object_detection_Dataset\\test\\images\\07d541cf5cebf327_jpg.rf.8879d7df5464c1161f17369a08dd3346.jpg: 320x320 1 Bird, 125.0ms\n",
      "image 45/224 C:\\Users\\vidya\\Desktop\\Jupyter Notebook\\Aerial Object Classification & Detection\\object_detection_Dataset\\test\\images\\07e3467ed5c56bc9_jpg.rf.d3c4cfc9ddee74fa92bb280e8658df8e.jpg: 320x320 1 Bird, 78.1ms\n",
      "image 46/224 C:\\Users\\vidya\\Desktop\\Jupyter Notebook\\Aerial Object Classification & Detection\\object_detection_Dataset\\test\\images\\08192d37a599ba6f_jpg.rf.c076de1443784015e7f0a415ff095991.jpg: 320x320 (no detections), 125.0ms\n",
      "image 47/224 C:\\Users\\vidya\\Desktop\\Jupyter Notebook\\Aerial Object Classification & Detection\\object_detection_Dataset\\test\\images\\08eb4da3a9309c2e_jpg.rf.d39ac19d44f0169752726369a1d87d43.jpg: 320x320 2 Birds, 218.7ms\n",
      "image 48/224 C:\\Users\\vidya\\Desktop\\Jupyter Notebook\\Aerial Object Classification & Detection\\object_detection_Dataset\\test\\images\\09b395597d75a074_jpg.rf.8da47ac29996900653943c0614a21f11.jpg: 320x320 1 Bird, 156.2ms\n",
      "image 49/224 C:\\Users\\vidya\\Desktop\\Jupyter Notebook\\Aerial Object Classification & Detection\\object_detection_Dataset\\test\\images\\09cd527edbe0f273_jpg.rf.512c963cbaf7cb1c305351a4c5783e4b.jpg: 320x320 2 Birds, 109.3ms\n",
      "image 50/224 C:\\Users\\vidya\\Desktop\\Jupyter Notebook\\Aerial Object Classification & Detection\\object_detection_Dataset\\test\\images\\09da0288f18b8e41_jpg.rf.40de709495c2ad882d6386f4007ed126.jpg: 320x320 1 Bird, 140.6ms\n",
      "image 51/224 C:\\Users\\vidya\\Desktop\\Jupyter Notebook\\Aerial Object Classification & Detection\\object_detection_Dataset\\test\\images\\09fb6cb982fd2146_jpg.rf.2d3413455cdbd93bdda81c99e9699f56.jpg: 320x320 (no detections), 93.7ms\n",
      "image 52/224 C:\\Users\\vidya\\Desktop\\Jupyter Notebook\\Aerial Object Classification & Detection\\object_detection_Dataset\\test\\images\\0a7e246b483ed57b_jpg.rf.446903614d856f120545c0fc350c2209.jpg: 320x320 2 Birds, 93.7ms\n",
      "image 53/224 C:\\Users\\vidya\\Desktop\\Jupyter Notebook\\Aerial Object Classification & Detection\\object_detection_Dataset\\test\\images\\0b2724a2e00c883b_jpg.rf.99d78b8b4ce0b31ebc4c6d3ab2efd0fb.jpg: 320x320 1 Bird, 93.7ms\n",
      "image 54/224 C:\\Users\\vidya\\Desktop\\Jupyter Notebook\\Aerial Object Classification & Detection\\object_detection_Dataset\\test\\images\\0b364352aec8d992_jpg.rf.9cfab015a6cfbe228698b0c0588504ef.jpg: 320x320 1 Bird, 109.3ms\n",
      "image 55/224 C:\\Users\\vidya\\Desktop\\Jupyter Notebook\\Aerial Object Classification & Detection\\object_detection_Dataset\\test\\images\\0b8bbe640e518f4d_jpg.rf.6cb1978cf64e71f682580a5829bf800e.jpg: 320x320 1 Bird, 265.5ms\n",
      "image 56/224 C:\\Users\\vidya\\Desktop\\Jupyter Notebook\\Aerial Object Classification & Detection\\object_detection_Dataset\\test\\images\\0bbcb99369618095_jpg.rf.70759a614d1e889ae775e3b8350f9a22.jpg: 320x320 1 Bird, 109.3ms\n",
      "image 57/224 C:\\Users\\vidya\\Desktop\\Jupyter Notebook\\Aerial Object Classification & Detection\\object_detection_Dataset\\test\\images\\0be2066ba7ba8632_jpg.rf.03ba8ce8242a6b5ce143459e5964abcc.jpg: 320x320 1 Bird, 109.3ms\n",
      "image 58/224 C:\\Users\\vidya\\Desktop\\Jupyter Notebook\\Aerial Object Classification & Detection\\object_detection_Dataset\\test\\images\\0c661a278d9be8d3_jpg.rf.88f7c9f44e3bc4705478ee411400b669.jpg: 320x320 1 Bird, 109.4ms\n",
      "image 59/224 C:\\Users\\vidya\\Desktop\\Jupyter Notebook\\Aerial Object Classification & Detection\\object_detection_Dataset\\test\\images\\0cb63a6053136f4c_jpg.rf.ff8ba8f54a7a4de6e933a7688238b0d2.jpg: 320x320 1 Bird, 109.4ms\n",
      "image 60/224 C:\\Users\\vidya\\Desktop\\Jupyter Notebook\\Aerial Object Classification & Detection\\object_detection_Dataset\\test\\images\\0cbc35a533aaf9de_jpg.rf.9aa70358f6ec9d519c6855facb550821.jpg: 320x320 1 Bird, 93.7ms\n",
      "image 61/224 C:\\Users\\vidya\\Desktop\\Jupyter Notebook\\Aerial Object Classification & Detection\\object_detection_Dataset\\test\\images\\0cde35ae80a4577c_jpg.rf.970de1a7405ea72939eb8b9c43668c5e.jpg: 320x320 (no detections), 109.4ms\n",
      "image 62/224 C:\\Users\\vidya\\Desktop\\Jupyter Notebook\\Aerial Object Classification & Detection\\object_detection_Dataset\\test\\images\\0d909532abbdd113_jpg.rf.4ebff3d20901ec79e0e79eab9b597d91.jpg: 320x320 (no detections), 93.7ms\n",
      "image 63/224 C:\\Users\\vidya\\Desktop\\Jupyter Notebook\\Aerial Object Classification & Detection\\object_detection_Dataset\\test\\images\\0d971d5c11906446_jpg.rf.6254f27945e87a76886a3c925fbacd63.jpg: 320x320 1 Bird, 78.1ms\n",
      "image 64/224 C:\\Users\\vidya\\Desktop\\Jupyter Notebook\\Aerial Object Classification & Detection\\object_detection_Dataset\\test\\images\\0dc3be30a8955fcf_jpg.rf.bcf8fe516499a29c835b3b51bc027f52.jpg: 320x320 2 Birds, 109.4ms\n",
      "image 65/224 C:\\Users\\vidya\\Desktop\\Jupyter Notebook\\Aerial Object Classification & Detection\\object_detection_Dataset\\test\\images\\0df304b575cc0852_jpg.rf.60869438d34e69a930ef9cf937fa1d49.jpg: 320x320 1 Bird, 93.7ms\n",
      "image 66/224 C:\\Users\\vidya\\Desktop\\Jupyter Notebook\\Aerial Object Classification & Detection\\object_detection_Dataset\\test\\images\\0df915a3838dd595_jpg.rf.9abc8ca2cc0b641d8af1f1a377b8ed5f.jpg: 320x320 1 Bird, 109.4ms\n",
      "image 67/224 C:\\Users\\vidya\\Desktop\\Jupyter Notebook\\Aerial Object Classification & Detection\\object_detection_Dataset\\test\\images\\0e12887f22b1b5ec_jpg.rf.83ee6c8c7116963e6108be0c8797a497.jpg: 320x320 1 Bird, 93.8ms\n",
      "image 68/224 C:\\Users\\vidya\\Desktop\\Jupyter Notebook\\Aerial Object Classification & Detection\\object_detection_Dataset\\test\\images\\0e7bb9826c7a46a4_jpg.rf.bb40c75ce39d252f19416be292005f2c.jpg: 320x320 1 Bird, 109.4ms\n",
      "image 69/224 C:\\Users\\vidya\\Desktop\\Jupyter Notebook\\Aerial Object Classification & Detection\\object_detection_Dataset\\test\\images\\0e9eced911008ab8_jpg.rf.68af43e037595204654629b206bc1401.jpg: 320x320 2 Birds, 93.7ms\n",
      "image 70/224 C:\\Users\\vidya\\Desktop\\Jupyter Notebook\\Aerial Object Classification & Detection\\object_detection_Dataset\\test\\images\\0f2320dc4b4d00d0_jpg.rf.6d71845942f3e1d5bc0ed9da4ec57983.jpg: 320x320 (no detections), 78.1ms\n",
      "image 71/224 C:\\Users\\vidya\\Desktop\\Jupyter Notebook\\Aerial Object Classification & Detection\\object_detection_Dataset\\test\\images\\0f36d15db40ba17a_jpg.rf.b896905e04643b3f1d41802b59cc0335.jpg: 320x320 1 Bird, 109.4ms\n",
      "image 72/224 C:\\Users\\vidya\\Desktop\\Jupyter Notebook\\Aerial Object Classification & Detection\\object_detection_Dataset\\test\\images\\1021e497a2015a1c_jpg.rf.142ae0fd34f17c5e7d1c6b3471bb39ee.jpg: 320x320 1 Bird, 125.0ms\n",
      "image 73/224 C:\\Users\\vidya\\Desktop\\Jupyter Notebook\\Aerial Object Classification & Detection\\object_detection_Dataset\\test\\images\\104f1bdceabcf7ba_jpg.rf.0b9745f785acd2ddb1dc562b1403efb3.jpg: 320x320 1 Bird, 93.7ms\n",
      "image 74/224 C:\\Users\\vidya\\Desktop\\Jupyter Notebook\\Aerial Object Classification & Detection\\object_detection_Dataset\\test\\images\\10b85be90200a58a_jpg.rf.32f900cada4505148337c33c5a449bb4.jpg: 320x320 1 Bird, 109.4ms\n",
      "image 75/224 C:\\Users\\vidya\\Desktop\\Jupyter Notebook\\Aerial Object Classification & Detection\\object_detection_Dataset\\test\\images\\11c7582f3fbc9f98_jpg.rf.2abb9725ea6d8abb3882ac0d459ebd51.jpg: 320x320 1 Bird, 78.1ms\n",
      "image 76/224 C:\\Users\\vidya\\Desktop\\Jupyter Notebook\\Aerial Object Classification & Detection\\object_detection_Dataset\\test\\images\\12babdd12f75d084_jpg.rf.6fa412166285274262a87d4859d066be.jpg: 320x320 1 Bird, 218.7ms\n",
      "image 77/224 C:\\Users\\vidya\\Desktop\\Jupyter Notebook\\Aerial Object Classification & Detection\\object_detection_Dataset\\test\\images\\12c29100615a16c4_jpg.rf.8aa72d7081144373a4dc1634ecece9a1.jpg: 320x320 1 Bird, 109.3ms\n",
      "image 78/224 C:\\Users\\vidya\\Desktop\\Jupyter Notebook\\Aerial Object Classification & Detection\\object_detection_Dataset\\test\\images\\12cf7143b2d54700_jpg.rf.cd5677fc895dc9871dbbdb773c796bca.jpg: 320x320 1 Bird, 109.3ms\n",
      "image 79/224 C:\\Users\\vidya\\Desktop\\Jupyter Notebook\\Aerial Object Classification & Detection\\object_detection_Dataset\\test\\images\\133da748c6aeeae1_jpg.rf.acd6d2a92db999b3ba4bd1acaf54b6cf.jpg: 320x320 4 Birds, 93.7ms\n",
      "image 80/224 C:\\Users\\vidya\\Desktop\\Jupyter Notebook\\Aerial Object Classification & Detection\\object_detection_Dataset\\test\\images\\13510f9e3475dea0_jpg.rf.224efb3fa2f52b13caa8f11a6f5f9def.jpg: 320x320 1 Bird, 109.4ms\n",
      "image 81/224 C:\\Users\\vidya\\Desktop\\Jupyter Notebook\\Aerial Object Classification & Detection\\object_detection_Dataset\\test\\images\\139ae6a9cacb2d8e_jpg.rf.6317297be4b7a96d96f470dc1e55ad37.jpg: 320x320 1 Bird, 109.3ms\n",
      "image 82/224 C:\\Users\\vidya\\Desktop\\Jupyter Notebook\\Aerial Object Classification & Detection\\object_detection_Dataset\\test\\images\\13b7f275e8373d0d_jpg.rf.2e21a72c905d8b41249e873fe583c80a.jpg: 320x320 1 Bird, 93.7ms\n",
      "image 83/224 C:\\Users\\vidya\\Desktop\\Jupyter Notebook\\Aerial Object Classification & Detection\\object_detection_Dataset\\test\\images\\142b4a79c638bee1_jpg.rf.c30d6e1d4277619d80d6d6c91111e91f.jpg: 320x320 (no detections), 93.7ms\n",
      "image 84/224 C:\\Users\\vidya\\Desktop\\Jupyter Notebook\\Aerial Object Classification & Detection\\object_detection_Dataset\\test\\images\\14befbece1041c7c_jpg.rf.dc8ee6ac5eab134d87b656e478380a1e.jpg: 320x320 2 Birds, 93.7ms\n",
      "image 85/224 C:\\Users\\vidya\\Desktop\\Jupyter Notebook\\Aerial Object Classification & Detection\\object_detection_Dataset\\test\\images\\151046b1f80122c4_jpg.rf.985d60e2349df3f118d9d83afc00b699.jpg: 320x320 1 Bird, 78.1ms\n",
      "image 86/224 C:\\Users\\vidya\\Desktop\\Jupyter Notebook\\Aerial Object Classification & Detection\\object_detection_Dataset\\test\\images\\15c04bbabcab53f8_jpg.rf.58a9106006b2464766fc6ddf1f1f1989.jpg: 320x320 1 Bird, 93.7ms\n",
      "image 87/224 C:\\Users\\vidya\\Desktop\\Jupyter Notebook\\Aerial Object Classification & Detection\\object_detection_Dataset\\test\\images\\1635c925ad4d0ef0_jpg.rf.51670241c892392b554d9144e4b76054.jpg: 320x320 1 Bird, 93.7ms\n",
      "image 88/224 C:\\Users\\vidya\\Desktop\\Jupyter Notebook\\Aerial Object Classification & Detection\\object_detection_Dataset\\test\\images\\16b566cd5f8b1f86_jpg.rf.28453809797d8f133b23f8e993595b16.jpg: 320x320 1 Bird, 109.3ms\n",
      "image 89/224 C:\\Users\\vidya\\Desktop\\Jupyter Notebook\\Aerial Object Classification & Detection\\object_detection_Dataset\\test\\images\\16d4bc0874355c5a_jpg.rf.ba9278dcc9aa9e8a4b07d9b019161ce4.jpg: 320x320 1 Bird, 93.7ms\n",
      "image 90/224 C:\\Users\\vidya\\Desktop\\Jupyter Notebook\\Aerial Object Classification & Detection\\object_detection_Dataset\\test\\images\\1814e34c0c64851e_jpg.rf.1edc8f510acd34d02682403da4d71ab9.jpg: 320x320 1 Bird, 109.3ms\n",
      "image 91/224 C:\\Users\\vidya\\Desktop\\Jupyter Notebook\\Aerial Object Classification & Detection\\object_detection_Dataset\\test\\images\\18ac0b42920f1bda_jpg.rf.1c1bf1d4a6a504ac71b12bea56df2f5a.jpg: 320x320 (no detections), 78.1ms\n",
      "image 92/224 C:\\Users\\vidya\\Desktop\\Jupyter Notebook\\Aerial Object Classification & Detection\\object_detection_Dataset\\test\\images\\192eb6f32d789f00_jpg.rf.2a2d0cd0715638aebd19853750f9fac3.jpg: 320x320 (no detections), 109.4ms\n",
      "image 93/224 C:\\Users\\vidya\\Desktop\\Jupyter Notebook\\Aerial Object Classification & Detection\\object_detection_Dataset\\test\\images\\1952b6934d50fd02_jpg.rf.5f378117becb6708a8fed80658484ccf.jpg: 320x320 1 Bird, 93.7ms\n",
      "image 94/224 C:\\Users\\vidya\\Desktop\\Jupyter Notebook\\Aerial Object Classification & Detection\\object_detection_Dataset\\test\\images\\19766cc94f3b9e19_jpg.rf.52b56f8fba4af69ce0675239dcc7ff50.jpg: 320x320 2 Birds, 109.4ms\n",
      "image 95/224 C:\\Users\\vidya\\Desktop\\Jupyter Notebook\\Aerial Object Classification & Detection\\object_detection_Dataset\\test\\images\\19aac16304784a57_jpg.rf.fe0f2172bbe5b3b84272f55233a9c785.jpg: 320x320 1 Bird, 125.0ms\n",
      "image 96/224 C:\\Users\\vidya\\Desktop\\Jupyter Notebook\\Aerial Object Classification & Detection\\object_detection_Dataset\\test\\images\\19c611e5b5761833_jpg.rf.d3fc3bdb736222998a8f4e10bf110996.jpg: 320x320 1 Bird, 125.0ms\n",
      "image 97/224 C:\\Users\\vidya\\Desktop\\Jupyter Notebook\\Aerial Object Classification & Detection\\object_detection_Dataset\\test\\images\\19d1575dce9ad208_jpg.rf.e7036c91288ba3aa844a479ac367a964.jpg: 320x320 2 Birds, 93.7ms\n",
      "image 98/224 C:\\Users\\vidya\\Desktop\\Jupyter Notebook\\Aerial Object Classification & Detection\\object_detection_Dataset\\test\\images\\19e26062494d4b1c_jpg.rf.3fc7e62bdbc7664c3d9db5a020d9c7da.jpg: 320x320 2 Birds, 109.4ms\n",
      "image 99/224 C:\\Users\\vidya\\Desktop\\Jupyter Notebook\\Aerial Object Classification & Detection\\object_detection_Dataset\\test\\images\\1a40fad9acb77328_jpg.rf.e0064e30574a6b162ade31b1ca5d3be1.jpg: 320x320 (no detections), 140.6ms\n",
      "image 100/224 C:\\Users\\vidya\\Desktop\\Jupyter Notebook\\Aerial Object Classification & Detection\\object_detection_Dataset\\test\\images\\1a4aee8045f28a3e_jpg.rf.55dc05c128b4d5bd9b8240c51f2e873a.jpg: 320x320 2 Birds, 1 drone, 218.7ms\n",
      "image 101/224 C:\\Users\\vidya\\Desktop\\Jupyter Notebook\\Aerial Object Classification & Detection\\object_detection_Dataset\\test\\images\\1a6385f31eb19afb_jpg.rf.9915b2ad214f4d954d22529280e20c6e.jpg: 320x320 1 Bird, 93.7ms\n",
      "image 102/224 C:\\Users\\vidya\\Desktop\\Jupyter Notebook\\Aerial Object Classification & Detection\\object_detection_Dataset\\test\\images\\1a7ee31df5960b05_jpg.rf.a8e519daa2fb787deec5315ecfd3f470.jpg: 320x320 1 Bird, 93.7ms\n",
      "image 103/224 C:\\Users\\vidya\\Desktop\\Jupyter Notebook\\Aerial Object Classification & Detection\\object_detection_Dataset\\test\\images\\1aa915659ab17fe5_jpg.rf.0c1771e6673805da513c2f5e53bd5690.jpg: 320x320 2 Birds, 109.4ms\n",
      "image 104/224 C:\\Users\\vidya\\Desktop\\Jupyter Notebook\\Aerial Object Classification & Detection\\object_detection_Dataset\\test\\images\\1ae6a6bb9a34e16d_jpg.rf.80b2e83ffabccb4d65399289a57a4818.jpg: 320x320 3 Birds, 93.7ms\n",
      "image 105/224 C:\\Users\\vidya\\Desktop\\Jupyter Notebook\\Aerial Object Classification & Detection\\object_detection_Dataset\\test\\images\\1b70966322275c06_jpg.rf.eaee5fe3a14b8c349551df34e47bf2ad.jpg: 320x320 2 Birds, 109.4ms\n",
      "image 106/224 C:\\Users\\vidya\\Desktop\\Jupyter Notebook\\Aerial Object Classification & Detection\\object_detection_Dataset\\test\\images\\1be0f90a8ad18b30_jpg.rf.40d7a4fa611a041a8b3e164574baeb06.jpg: 320x320 1 Bird, 125.0ms\n",
      "image 107/224 C:\\Users\\vidya\\Desktop\\Jupyter Notebook\\Aerial Object Classification & Detection\\object_detection_Dataset\\test\\images\\1c1952447d5d322c_jpg.rf.2c276c0f1c62451a7f8ef7f529e5bd3e.jpg: 320x320 1 Bird, 109.3ms\n",
      "image 108/224 C:\\Users\\vidya\\Desktop\\Jupyter Notebook\\Aerial Object Classification & Detection\\object_detection_Dataset\\test\\images\\1c4da9f05ff6e0c2_jpg.rf.c45bbcd6787c2d2494048655ca93f44d.jpg: 320x320 1 Bird, 78.1ms\n",
      "image 109/224 C:\\Users\\vidya\\Desktop\\Jupyter Notebook\\Aerial Object Classification & Detection\\object_detection_Dataset\\test\\images\\1c7eba1b75e66d26_jpg.rf.6fbda5260774109da48f9b5554023634.jpg: 320x320 (no detections), 93.7ms\n",
      "image 110/224 C:\\Users\\vidya\\Desktop\\Jupyter Notebook\\Aerial Object Classification & Detection\\object_detection_Dataset\\test\\images\\1c9d6d776ebcb5cb_jpg.rf.a002e11d4eb76ab548020ea690b12501.jpg: 320x320 2 Birds, 93.7ms\n",
      "image 111/224 C:\\Users\\vidya\\Desktop\\Jupyter Notebook\\Aerial Object Classification & Detection\\object_detection_Dataset\\test\\images\\1cafe348f5dbe6ab_jpg.rf.5b23fa88932bed555e386c72b9ef9942.jpg: 320x320 3 Birds, 93.8ms\n",
      "image 112/224 C:\\Users\\vidya\\Desktop\\Jupyter Notebook\\Aerial Object Classification & Detection\\object_detection_Dataset\\test\\images\\1cc17448662fe783_jpg.rf.69cb478e64d5c8207f19a1af6f2c39dd.jpg: 320x320 (no detections), 93.8ms\n",
      "image 113/224 C:\\Users\\vidya\\Desktop\\Jupyter Notebook\\Aerial Object Classification & Detection\\object_detection_Dataset\\test\\images\\1cdea8304a2d2c55_jpg.rf.06c38fb0a95cc9565d402433dc944b95.jpg: 320x320 2 Birds, 78.1ms\n",
      "image 114/224 C:\\Users\\vidya\\Desktop\\Jupyter Notebook\\Aerial Object Classification & Detection\\object_detection_Dataset\\test\\images\\1d0008a009d56cb5_jpg.rf.b08f898c90f0e03a0423b9c517b1671d.jpg: 320x320 (no detections), 109.4ms\n",
      "image 115/224 C:\\Users\\vidya\\Desktop\\Jupyter Notebook\\Aerial Object Classification & Detection\\object_detection_Dataset\\test\\images\\1d219e99e1ce1011_jpg.rf.17ac2b8173650e3aadad87d1f9e763ad.jpg: 320x320 1 Bird, 140.6ms\n",
      "image 116/224 C:\\Users\\vidya\\Desktop\\Jupyter Notebook\\Aerial Object Classification & Detection\\object_detection_Dataset\\test\\images\\1d2f913c05774d26_jpg.rf.f155652e89f370389993e8cceaaa4329.jpg: 320x320 1 Bird, 93.7ms\n",
      "image 117/224 C:\\Users\\vidya\\Desktop\\Jupyter Notebook\\Aerial Object Classification & Detection\\object_detection_Dataset\\test\\images\\1d4a5031a0709938_jpg.rf.2fa4e7df8b84a7ce170f22c332713bc9.jpg: 320x320 (no detections), 78.1ms\n",
      "image 118/224 C:\\Users\\vidya\\Desktop\\Jupyter Notebook\\Aerial Object Classification & Detection\\object_detection_Dataset\\test\\images\\1d59f3be2c82d51a_jpg.rf.f18abdccc69dfd0f3bd561338d398c67.jpg: 320x320 1 Bird, 93.7ms\n",
      "image 119/224 C:\\Users\\vidya\\Desktop\\Jupyter Notebook\\Aerial Object Classification & Detection\\object_detection_Dataset\\test\\images\\1d8706f5f2173f99_jpg.rf.100d2aa78fe5f97d3bef0a21f3390f71.jpg: 320x320 2 Birds, 125.0ms\n",
      "image 120/224 C:\\Users\\vidya\\Desktop\\Jupyter Notebook\\Aerial Object Classification & Detection\\object_detection_Dataset\\test\\images\\1dd2728e60cd04ca_jpg.rf.59136f08c80e6dbcca999ed473457259.jpg: 320x320 1 Bird, 93.7ms\n",
      "image 121/224 C:\\Users\\vidya\\Desktop\\Jupyter Notebook\\Aerial Object Classification & Detection\\object_detection_Dataset\\test\\images\\1e5479fa848be57b_jpg.rf.126c4dfb574482a7ff940570206491a3.jpg: 320x320 1 Bird, 93.7ms\n",
      "image 122/224 C:\\Users\\vidya\\Desktop\\Jupyter Notebook\\Aerial Object Classification & Detection\\object_detection_Dataset\\test\\images\\foto01509_png.rf.5f23c36e041f8f98152df63fc6b4e28c.jpg: 320x320 1 drone, 93.7ms\n",
      "image 123/224 C:\\Users\\vidya\\Desktop\\Jupyter Notebook\\Aerial Object Classification & Detection\\object_detection_Dataset\\test\\images\\foto01799_png.rf.7b06ce6abb9f307efa437ed34e863e21.jpg: 320x320 1 drone, 109.4ms\n",
      "image 124/224 C:\\Users\\vidya\\Desktop\\Jupyter Notebook\\Aerial Object Classification & Detection\\object_detection_Dataset\\test\\images\\foto01915_png.rf.7d7cd852392707f519d13e9cf051de3f.jpg: 320x320 1 drone, 78.1ms\n",
      "image 125/224 C:\\Users\\vidya\\Desktop\\Jupyter Notebook\\Aerial Object Classification & Detection\\object_detection_Dataset\\test\\images\\foto02031_png.rf.916b50ae9f69c2467c6f01aa4b82effa.jpg: 320x320 1 drone, 93.8ms\n",
      "image 126/224 C:\\Users\\vidya\\Desktop\\Jupyter Notebook\\Aerial Object Classification & Detection\\object_detection_Dataset\\test\\images\\foto02756_png.rf.accedf811afd3d36b45039c672fbe626.jpg: 320x320 (no detections), 218.7ms\n",
      "image 127/224 C:\\Users\\vidya\\Desktop\\Jupyter Notebook\\Aerial Object Classification & Detection\\object_detection_Dataset\\test\\images\\foto04322_png.rf.0689af2fdc2e8e6b47e83ba9214261e7.jpg: 320x320 1 drone, 109.3ms\n",
      "image 128/224 C:\\Users\\vidya\\Desktop\\Jupyter Notebook\\Aerial Object Classification & Detection\\object_detection_Dataset\\test\\images\\foto04467_png.rf.266b50f45ea47fd2888f5cb1bf2f7e1a.jpg: 320x320 (no detections), 125.0ms\n",
      "image 129/224 C:\\Users\\vidya\\Desktop\\Jupyter Notebook\\Aerial Object Classification & Detection\\object_detection_Dataset\\test\\images\\foto04873_png.rf.c9c8af005ce420c0d6878dcc4d3260e7.jpg: 320x320 1 drone, 93.7ms\n",
      "image 130/224 C:\\Users\\vidya\\Desktop\\Jupyter Notebook\\Aerial Object Classification & Detection\\object_detection_Dataset\\test\\images\\foto05453_png.rf.c2973c0b2cce99243d0e4920da81d611.jpg: 320x320 1 drone, 109.4ms\n",
      "image 131/224 C:\\Users\\vidya\\Desktop\\Jupyter Notebook\\Aerial Object Classification & Detection\\object_detection_Dataset\\test\\images\\foto14849_png.rf.302ae74b19912c6eb00c80fb030c1c0b.jpg: 320x320 1 drone, 93.7ms\n",
      "image 132/224 C:\\Users\\vidya\\Desktop\\Jupyter Notebook\\Aerial Object Classification & Detection\\object_detection_Dataset\\test\\images\\moto00030_png.rf.df7e2125521ec7a709dc9a9825bda9cf.jpg: 320x320 1 drone, 109.4ms\n",
      "image 133/224 C:\\Users\\vidya\\Desktop\\Jupyter Notebook\\Aerial Object Classification & Detection\\object_detection_Dataset\\test\\images\\moto01828_png.rf.6877934b4a3fd1aefabac1072421f05e.jpg: 320x320 1 drone, 109.4ms\n",
      "image 134/224 C:\\Users\\vidya\\Desktop\\Jupyter Notebook\\Aerial Object Classification & Detection\\object_detection_Dataset\\test\\images\\moto04612_png.rf.78eb17f687d78feace2c92ed8bf05458.jpg: 320x320 1 drone, 78.1ms\n",
      "image 135/224 C:\\Users\\vidya\\Desktop\\Jupyter Notebook\\Aerial Object Classification & Detection\\object_detection_Dataset\\test\\images\\moto04641_png.rf.953be9c4119f0ad0392facf8d80de064.jpg: 320x320 (no detections), 109.3ms\n",
      "image 136/224 C:\\Users\\vidya\\Desktop\\Jupyter Notebook\\Aerial Object Classification & Detection\\object_detection_Dataset\\test\\images\\moto05337_png.rf.f9e320767b009d165368fb02906586a3.jpg: 320x320 (no detections), 125.0ms\n",
      "image 137/224 C:\\Users\\vidya\\Desktop\\Jupyter Notebook\\Aerial Object Classification & Detection\\object_detection_Dataset\\test\\images\\moto07425_png.rf.4279164d8375fc2dd36eb7651d0b5aa7.jpg: 320x320 1 drone, 109.3ms\n",
      "image 138/224 C:\\Users\\vidya\\Desktop\\Jupyter Notebook\\Aerial Object Classification & Detection\\object_detection_Dataset\\test\\images\\moto13109_png.rf.f17bd947d2df97748494a4dfb2f231ba.jpg: 320x320 1 drone, 93.8ms\n",
      "image 139/224 C:\\Users\\vidya\\Desktop\\Jupyter Notebook\\Aerial Object Classification & Detection\\object_detection_Dataset\\test\\images\\moto16096_png.rf.ec3e6ed54c4c630358af3e361ac63c12.jpg: 320x320 (no detections), 93.7ms\n",
      "image 140/224 C:\\Users\\vidya\\Desktop\\Jupyter Notebook\\Aerial Object Classification & Detection\\object_detection_Dataset\\test\\images\\moto16183_png.rf.c7e32db76ae0f7a00b4e19111345f776.jpg: 320x320 1 drone, 78.1ms\n",
      "image 141/224 C:\\Users\\vidya\\Desktop\\Jupyter Notebook\\Aerial Object Classification & Detection\\object_detection_Dataset\\test\\images\\pic_001_jpg.rf.3071298dcf17b08d42895e0d803a9a92.jpg: 320x320 1 drone, 93.8ms\n",
      "image 142/224 C:\\Users\\vidya\\Desktop\\Jupyter Notebook\\Aerial Object Classification & Detection\\object_detection_Dataset\\test\\images\\pic_004_jpg.rf.42a31ed3f1437a9eaf9b8905118e5bdf.jpg: 320x320 1 drone, 93.8ms\n",
      "image 143/224 C:\\Users\\vidya\\Desktop\\Jupyter Notebook\\Aerial Object Classification & Detection\\object_detection_Dataset\\test\\images\\pic_037_jpg.rf.8fa935c715fe9d49a88e0b640897f7a9.jpg: 320x320 1 drone, 109.3ms\n",
      "image 144/224 C:\\Users\\vidya\\Desktop\\Jupyter Notebook\\Aerial Object Classification & Detection\\object_detection_Dataset\\test\\images\\pic_038_jpg.rf.c944f6c61065c488ed3ed5400953ec91.jpg: 320x320 1 drone, 109.4ms\n",
      "image 145/224 C:\\Users\\vidya\\Desktop\\Jupyter Notebook\\Aerial Object Classification & Detection\\object_detection_Dataset\\test\\images\\pic_044_jpg.rf.11e848f9b220607ccbb0fc636395b118.jpg: 320x320 1 drone, 93.7ms\n",
      "image 146/224 C:\\Users\\vidya\\Desktop\\Jupyter Notebook\\Aerial Object Classification & Detection\\object_detection_Dataset\\test\\images\\pic_082_jpg.rf.d5e6ee42e0dbe66412b15712e9e47884.jpg: 320x320 1 drone, 93.7ms\n",
      "image 147/224 C:\\Users\\vidya\\Desktop\\Jupyter Notebook\\Aerial Object Classification & Detection\\object_detection_Dataset\\test\\images\\pic_097_jpg.rf.ca5739f382b47b8a4402722c5aa1911e.jpg: 320x320 1 drone, 93.7ms\n",
      "image 148/224 C:\\Users\\vidya\\Desktop\\Jupyter Notebook\\Aerial Object Classification & Detection\\object_detection_Dataset\\test\\images\\pic_099_jpg.rf.23c90e71e5eb465b337c5ebead869bde.jpg: 320x320 1 drone, 218.7ms\n",
      "image 149/224 C:\\Users\\vidya\\Desktop\\Jupyter Notebook\\Aerial Object Classification & Detection\\object_detection_Dataset\\test\\images\\pic_1034_jpg.rf.0d5b83e731a1af85e70c6b5cbe2d59cd.jpg: 320x320 1 drone, 78.1ms\n",
      "image 150/224 C:\\Users\\vidya\\Desktop\\Jupyter Notebook\\Aerial Object Classification & Detection\\object_detection_Dataset\\test\\images\\pic_1036_jpg.rf.6bdf5207fdf4834e782996f027b4a177.jpg: 320x320 1 Bird, 125.0ms\n",
      "image 151/224 C:\\Users\\vidya\\Desktop\\Jupyter Notebook\\Aerial Object Classification & Detection\\object_detection_Dataset\\test\\images\\pic_1044_jpg.rf.eb4fcaf978190d647cd6fbaa4bf605e1.jpg: 320x320 1 drone, 93.7ms\n",
      "image 152/224 C:\\Users\\vidya\\Desktop\\Jupyter Notebook\\Aerial Object Classification & Detection\\object_detection_Dataset\\test\\images\\pic_1049_jpg.rf.07b5ea66d7fda85766d9ad58370b3d6a.jpg: 320x320 (no detections), 109.4ms\n",
      "image 153/224 C:\\Users\\vidya\\Desktop\\Jupyter Notebook\\Aerial Object Classification & Detection\\object_detection_Dataset\\test\\images\\pic_1060_jpg.rf.d00ccddcc08a3f38a736d8a8434aadf6.jpg: 320x320 1 drone, 93.7ms\n",
      "image 154/224 C:\\Users\\vidya\\Desktop\\Jupyter Notebook\\Aerial Object Classification & Detection\\object_detection_Dataset\\test\\images\\pic_1080_jpg.rf.77e752d727bb2a928da6b17328874a72.jpg: 320x320 2 drones, 140.6ms\n",
      "image 155/224 C:\\Users\\vidya\\Desktop\\Jupyter Notebook\\Aerial Object Classification & Detection\\object_detection_Dataset\\test\\images\\pic_1104_jpg.rf.bda9909d4aa09c6b20bbe15e03029334.jpg: 320x320 (no detections), 109.4ms\n",
      "image 156/224 C:\\Users\\vidya\\Desktop\\Jupyter Notebook\\Aerial Object Classification & Detection\\object_detection_Dataset\\test\\images\\pic_1110_jpg.rf.d4d1588d4be70286a2cd0d48146a89c6.jpg: 320x320 1 drone, 93.7ms\n",
      "image 157/224 C:\\Users\\vidya\\Desktop\\Jupyter Notebook\\Aerial Object Classification & Detection\\object_detection_Dataset\\test\\images\\pic_1117_jpg.rf.b0c78e3afe7d15e62781347a8c5ce43f.jpg: 320x320 1 drone, 93.7ms\n",
      "image 158/224 C:\\Users\\vidya\\Desktop\\Jupyter Notebook\\Aerial Object Classification & Detection\\object_detection_Dataset\\test\\images\\pic_1140_jpg.rf.6e64e213b38e7618ebeceb638df26212.jpg: 320x320 (no detections), 109.4ms\n",
      "image 159/224 C:\\Users\\vidya\\Desktop\\Jupyter Notebook\\Aerial Object Classification & Detection\\object_detection_Dataset\\test\\images\\pic_1157_jpg.rf.f6e471c21af608d0dfc91ee9e4f5bc12.jpg: 320x320 (no detections), 93.7ms\n",
      "image 160/224 C:\\Users\\vidya\\Desktop\\Jupyter Notebook\\Aerial Object Classification & Detection\\object_detection_Dataset\\test\\images\\pic_138_jpg.rf.8d5b64f07736e68c5b920d5a7b52916e.jpg: 320x320 1 drone, 109.4ms\n",
      "image 161/224 C:\\Users\\vidya\\Desktop\\Jupyter Notebook\\Aerial Object Classification & Detection\\object_detection_Dataset\\test\\images\\pic_158_jpg.rf.52b5f4ff064c9b7e7c95c55574854f2c.jpg: 320x320 (no detections), 93.7ms\n",
      "image 162/224 C:\\Users\\vidya\\Desktop\\Jupyter Notebook\\Aerial Object Classification & Detection\\object_detection_Dataset\\test\\images\\pic_169_jpg.rf.4116b8891e38c6cbff4eb922d1e7f9af.jpg: 320x320 1 drone, 78.1ms\n",
      "image 163/224 C:\\Users\\vidya\\Desktop\\Jupyter Notebook\\Aerial Object Classification & Detection\\object_detection_Dataset\\test\\images\\pic_176_JPG.rf.8260eed4a50f974fcd228bd162fc060e.jpg: 320x320 1 drone, 125.0ms\n",
      "image 164/224 C:\\Users\\vidya\\Desktop\\Jupyter Notebook\\Aerial Object Classification & Detection\\object_detection_Dataset\\test\\images\\pic_179_jpg.rf.f36cc7baf5c618f9a43fac74eb959125.jpg: 320x320 1 drone, 93.7ms\n",
      "image 165/224 C:\\Users\\vidya\\Desktop\\Jupyter Notebook\\Aerial Object Classification & Detection\\object_detection_Dataset\\test\\images\\pic_182_jpg.rf.f156d61afdebe588c024a7e3368422f1.jpg: 320x320 1 drone, 93.7ms\n",
      "image 166/224 C:\\Users\\vidya\\Desktop\\Jupyter Notebook\\Aerial Object Classification & Detection\\object_detection_Dataset\\test\\images\\pic_183_jpg.rf.652c3d229bf841ce65e500a44e79edbc.jpg: 320x320 1 drone, 93.8ms\n",
      "image 167/224 C:\\Users\\vidya\\Desktop\\Jupyter Notebook\\Aerial Object Classification & Detection\\object_detection_Dataset\\test\\images\\pic_189_jpg.rf.64a6e552dba3c18b135fc5c35a6999b2.jpg: 320x320 1 drone, 109.4ms\n",
      "image 168/224 C:\\Users\\vidya\\Desktop\\Jupyter Notebook\\Aerial Object Classification & Detection\\object_detection_Dataset\\test\\images\\pic_240_jpg.rf.aadd42219eb1f6bb3367f71a723ff132.jpg: 320x320 1 drone, 93.7ms\n",
      "image 169/224 C:\\Users\\vidya\\Desktop\\Jupyter Notebook\\Aerial Object Classification & Detection\\object_detection_Dataset\\test\\images\\pic_244_jpg.rf.593d862025bb6b13769166a9b978cc17.jpg: 320x320 1 drone, 78.1ms\n",
      "image 170/224 C:\\Users\\vidya\\Desktop\\Jupyter Notebook\\Aerial Object Classification & Detection\\object_detection_Dataset\\test\\images\\pic_253_jpg.rf.3313326fd5f2ed631e05238d6b597daf.jpg: 320x320 1 drone, 93.7ms\n",
      "image 171/224 C:\\Users\\vidya\\Desktop\\Jupyter Notebook\\Aerial Object Classification & Detection\\object_detection_Dataset\\test\\images\\pic_254_jpg.rf.75efc4a9e38f6d4d6bd92fb1b222e1ac.jpg: 320x320 1 drone, 109.4ms\n",
      "image 172/224 C:\\Users\\vidya\\Desktop\\Jupyter Notebook\\Aerial Object Classification & Detection\\object_detection_Dataset\\test\\images\\pic_266_jpg.rf.49c05b8b402914fc78b009eb8be6e458.jpg: 320x320 2 drones, 109.4ms\n",
      "image 173/224 C:\\Users\\vidya\\Desktop\\Jupyter Notebook\\Aerial Object Classification & Detection\\object_detection_Dataset\\test\\images\\pic_267_jpg.rf.fbaa366f9a761ab6516a62ca71fd956d.jpg: 320x320 1 drone, 125.0ms\n",
      "image 174/224 C:\\Users\\vidya\\Desktop\\Jupyter Notebook\\Aerial Object Classification & Detection\\object_detection_Dataset\\test\\images\\pic_279_jpg.rf.fd52c33dff13c816b9052f20b9ca8705.jpg: 320x320 1 drone, 234.3ms\n",
      "image 175/224 C:\\Users\\vidya\\Desktop\\Jupyter Notebook\\Aerial Object Classification & Detection\\object_detection_Dataset\\test\\images\\pic_292_jpg.rf.093f6389588afbe07c6810c19e78b048.jpg: 320x320 1 drone, 93.8ms\n",
      "image 176/224 C:\\Users\\vidya\\Desktop\\Jupyter Notebook\\Aerial Object Classification & Detection\\object_detection_Dataset\\test\\images\\pic_312_jpg.rf.1946e6c759a8e946e6edcdda63aed123.jpg: 320x320 1 drone, 78.1ms\n",
      "image 177/224 C:\\Users\\vidya\\Desktop\\Jupyter Notebook\\Aerial Object Classification & Detection\\object_detection_Dataset\\test\\images\\pic_316_jpg.rf.63f1cfcf477c80b853ba1223a58fbf08.jpg: 320x320 1 drone, 78.1ms\n",
      "image 178/224 C:\\Users\\vidya\\Desktop\\Jupyter Notebook\\Aerial Object Classification & Detection\\object_detection_Dataset\\test\\images\\pic_328_jpg.rf.e627f0df75683edd29292d0e6295fac8.jpg: 320x320 1 drone, 109.3ms\n",
      "image 179/224 C:\\Users\\vidya\\Desktop\\Jupyter Notebook\\Aerial Object Classification & Detection\\object_detection_Dataset\\test\\images\\pic_386_jpg.rf.eb0f2fba101c939e290605001b253890.jpg: 320x320 1 drone, 109.3ms\n",
      "image 180/224 C:\\Users\\vidya\\Desktop\\Jupyter Notebook\\Aerial Object Classification & Detection\\object_detection_Dataset\\test\\images\\pic_415_jpg.rf.099a5e6047658e0798a525c963b4f0aa.jpg: 320x320 1 drone, 93.7ms\n",
      "image 181/224 C:\\Users\\vidya\\Desktop\\Jupyter Notebook\\Aerial Object Classification & Detection\\object_detection_Dataset\\test\\images\\pic_421_jpg.rf.2ab51daa79aa245fc95a44086612b409.jpg: 320x320 1 drone, 93.7ms\n",
      "image 182/224 C:\\Users\\vidya\\Desktop\\Jupyter Notebook\\Aerial Object Classification & Detection\\object_detection_Dataset\\test\\images\\pic_436_jpg.rf.f290a8d3cf610cdb378496b958f5ea2f.jpg: 320x320 1 drone, 125.0ms\n",
      "image 183/224 C:\\Users\\vidya\\Desktop\\Jupyter Notebook\\Aerial Object Classification & Detection\\object_detection_Dataset\\test\\images\\pic_443_jpg.rf.9ac4ad3587736f237ef72df16da5199c.jpg: 320x320 1 drone, 78.1ms\n",
      "image 184/224 C:\\Users\\vidya\\Desktop\\Jupyter Notebook\\Aerial Object Classification & Detection\\object_detection_Dataset\\test\\images\\pic_456_jpg.rf.625e1c1b74eeae65846227b0553b6075.jpg: 320x320 1 drone, 93.7ms\n",
      "image 185/224 C:\\Users\\vidya\\Desktop\\Jupyter Notebook\\Aerial Object Classification & Detection\\object_detection_Dataset\\test\\images\\pic_461_jpg.rf.dd6f386dc2bb1ea8067a81c53ade6416.jpg: 320x320 1 drone, 93.7ms\n",
      "image 186/224 C:\\Users\\vidya\\Desktop\\Jupyter Notebook\\Aerial Object Classification & Detection\\object_detection_Dataset\\test\\images\\pic_466_jpg.rf.a9f5cfeacb5477b2d7f1b1d6fc270ab2.jpg: 320x320 1 drone, 109.3ms\n",
      "image 187/224 C:\\Users\\vidya\\Desktop\\Jupyter Notebook\\Aerial Object Classification & Detection\\object_detection_Dataset\\test\\images\\pic_492_jpg.rf.2821bbc65cbbfc61d84a0ef7312ae8d8.jpg: 320x320 1 drone, 78.1ms\n",
      "image 188/224 C:\\Users\\vidya\\Desktop\\Jupyter Notebook\\Aerial Object Classification & Detection\\object_detection_Dataset\\test\\images\\pic_506_jpg.rf.2577d2005679f3dd86e6300869e09e38.jpg: 320x320 1 drone, 109.4ms\n",
      "image 189/224 C:\\Users\\vidya\\Desktop\\Jupyter Notebook\\Aerial Object Classification & Detection\\object_detection_Dataset\\test\\images\\pic_507_jpg.rf.64c53f5121d8ceb838edef96e243acaf.jpg: 320x320 1 drone, 109.3ms\n",
      "image 190/224 C:\\Users\\vidya\\Desktop\\Jupyter Notebook\\Aerial Object Classification & Detection\\object_detection_Dataset\\test\\images\\pic_526_jpg.rf.7b190fcd409839925e1081808751f192.jpg: 320x320 2 drones, 93.7ms\n",
      "image 191/224 C:\\Users\\vidya\\Desktop\\Jupyter Notebook\\Aerial Object Classification & Detection\\object_detection_Dataset\\test\\images\\pic_563_jpg.rf.055798113090cf539508ef4176f8fc47.jpg: 320x320 1 drone, 78.1ms\n",
      "image 192/224 C:\\Users\\vidya\\Desktop\\Jupyter Notebook\\Aerial Object Classification & Detection\\object_detection_Dataset\\test\\images\\pic_653_jpg.rf.285709934373ca3da9c5567337a53804.jpg: 320x320 1 drone, 218.7ms\n",
      "image 193/224 C:\\Users\\vidya\\Desktop\\Jupyter Notebook\\Aerial Object Classification & Detection\\object_detection_Dataset\\test\\images\\pic_668_jpg.rf.a79414363fd6701eab68039036323b2d.jpg: 320x320 1 drone, 93.7ms\n",
      "image 194/224 C:\\Users\\vidya\\Desktop\\Jupyter Notebook\\Aerial Object Classification & Detection\\object_detection_Dataset\\test\\images\\pic_669_jpg.rf.04ceaf480d5110a1b1a0b625a42d7178.jpg: 320x320 1 drone, 140.6ms\n",
      "image 195/224 C:\\Users\\vidya\\Desktop\\Jupyter Notebook\\Aerial Object Classification & Detection\\object_detection_Dataset\\test\\images\\pic_700_jpg.rf.115fee3c97bee2654b795beb0791b91b.jpg: 320x320 (no detections), 93.7ms\n",
      "image 196/224 C:\\Users\\vidya\\Desktop\\Jupyter Notebook\\Aerial Object Classification & Detection\\object_detection_Dataset\\test\\images\\pic_711_jpg.rf.8086c63d9aac78d8446a76a913a52008.jpg: 320x320 1 drone, 93.7ms\n",
      "image 197/224 C:\\Users\\vidya\\Desktop\\Jupyter Notebook\\Aerial Object Classification & Detection\\object_detection_Dataset\\test\\images\\pic_715_jpg.rf.2df1145ee4c9ba741f7c6feed8b63aa1.jpg: 320x320 1 drone, 78.1ms\n",
      "image 198/224 C:\\Users\\vidya\\Desktop\\Jupyter Notebook\\Aerial Object Classification & Detection\\object_detection_Dataset\\test\\images\\pic_723_jpg.rf.b72fed3906875d9babf645fadc6a4d59.jpg: 320x320 (no detections), 109.3ms\n",
      "image 199/224 C:\\Users\\vidya\\Desktop\\Jupyter Notebook\\Aerial Object Classification & Detection\\object_detection_Dataset\\test\\images\\pic_740_jpg.rf.8838c7f191a1496a6c7d264d6265e009.jpg: 320x320 1 drone, 109.3ms\n",
      "image 200/224 C:\\Users\\vidya\\Desktop\\Jupyter Notebook\\Aerial Object Classification & Detection\\object_detection_Dataset\\test\\images\\pic_763_jpg.rf.7a66b2791f9e561dcdb7ee626b9a4c86.jpg: 320x320 1 drone, 125.0ms\n",
      "image 201/224 C:\\Users\\vidya\\Desktop\\Jupyter Notebook\\Aerial Object Classification & Detection\\object_detection_Dataset\\test\\images\\pic_765_jpg.rf.7ade524c9c218723bf9bcf09db930052.jpg: 320x320 1 drone, 93.7ms\n",
      "image 202/224 C:\\Users\\vidya\\Desktop\\Jupyter Notebook\\Aerial Object Classification & Detection\\object_detection_Dataset\\test\\images\\pic_780_jpg.rf.3f87a83ce2dac2cf045e9bf35c47b5c7.jpg: 320x320 1 drone, 93.7ms\n",
      "image 203/224 C:\\Users\\vidya\\Desktop\\Jupyter Notebook\\Aerial Object Classification & Detection\\object_detection_Dataset\\test\\images\\pic_797_jpg.rf.53edd77f199bf6af897ec29238b8b3b8.jpg: 320x320 1 drone, 93.7ms\n",
      "image 204/224 C:\\Users\\vidya\\Desktop\\Jupyter Notebook\\Aerial Object Classification & Detection\\object_detection_Dataset\\test\\images\\pic_802_jpg.rf.3704aad7b2d8f21e0f24d82b175f4fca.jpg: 320x320 1 drone, 109.4ms\n",
      "image 205/224 C:\\Users\\vidya\\Desktop\\Jupyter Notebook\\Aerial Object Classification & Detection\\object_detection_Dataset\\test\\images\\pic_814_jpg.rf.d636aa020e05e4b4ef1fe78dbd642d92.jpg: 320x320 1 drone, 109.4ms\n",
      "image 206/224 C:\\Users\\vidya\\Desktop\\Jupyter Notebook\\Aerial Object Classification & Detection\\object_detection_Dataset\\test\\images\\pic_828_jpg.rf.ff8097295de862adbf603b133707e206.jpg: 320x320 1 drone, 109.3ms\n",
      "image 207/224 C:\\Users\\vidya\\Desktop\\Jupyter Notebook\\Aerial Object Classification & Detection\\object_detection_Dataset\\test\\images\\pic_834_jpg.rf.2f33eef5e0a8058d7d46777a778b5cb0.jpg: 320x320 1 drone, 93.7ms\n",
      "image 208/224 C:\\Users\\vidya\\Desktop\\Jupyter Notebook\\Aerial Object Classification & Detection\\object_detection_Dataset\\test\\images\\pic_861_jpg.rf.f74be56181997c0430cf1edc93e61528.jpg: 320x320 1 drone, 93.7ms\n",
      "image 209/224 C:\\Users\\vidya\\Desktop\\Jupyter Notebook\\Aerial Object Classification & Detection\\object_detection_Dataset\\test\\images\\pic_863_jpg.rf.34800ece9a7b80da21e6122c0d6fe8a6.jpg: 320x320 1 drone, 109.3ms\n",
      "image 210/224 C:\\Users\\vidya\\Desktop\\Jupyter Notebook\\Aerial Object Classification & Detection\\object_detection_Dataset\\test\\images\\pic_878_JPG.rf.fb0729f4e54891a0f5df269d8e0abce7.jpg: 320x320 1 drone, 78.1ms\n",
      "image 211/224 C:\\Users\\vidya\\Desktop\\Jupyter Notebook\\Aerial Object Classification & Detection\\object_detection_Dataset\\test\\images\\pic_885_jpg.rf.8ba6e230f039420d39ad78c04ed40f05.jpg: 320x320 1 drone, 93.7ms\n",
      "image 212/224 C:\\Users\\vidya\\Desktop\\Jupyter Notebook\\Aerial Object Classification & Detection\\object_detection_Dataset\\test\\images\\pic_887_jpg.rf.1761f551a411b85a87257e310e4678fb.jpg: 320x320 (no detections), 78.1ms\n",
      "image 213/224 C:\\Users\\vidya\\Desktop\\Jupyter Notebook\\Aerial Object Classification & Detection\\object_detection_Dataset\\test\\images\\pic_904_jpg.rf.35cb7678508bf522304e5d7e52a90535.jpg: 320x320 (no detections), 125.0ms\n",
      "image 214/224 C:\\Users\\vidya\\Desktop\\Jupyter Notebook\\Aerial Object Classification & Detection\\object_detection_Dataset\\test\\images\\pic_921_jpg.rf.8fce144a7bbd4d926695bb7252caaac7.jpg: 320x320 (no detections), 109.4ms\n",
      "image 215/224 C:\\Users\\vidya\\Desktop\\Jupyter Notebook\\Aerial Object Classification & Detection\\object_detection_Dataset\\test\\images\\pic_930_jpg.rf.506a381ecef136674b2f648fe8b49e5a.jpg: 320x320 1 drone, 93.7ms\n",
      "image 216/224 C:\\Users\\vidya\\Desktop\\Jupyter Notebook\\Aerial Object Classification & Detection\\object_detection_Dataset\\test\\images\\pic_939_jpg.rf.1c3d1fdd273dcbcbf34d3b0f77ef1d22.jpg: 320x320 1 drone, 109.3ms\n",
      "image 217/224 C:\\Users\\vidya\\Desktop\\Jupyter Notebook\\Aerial Object Classification & Detection\\object_detection_Dataset\\test\\images\\pic_940_jpg.rf.9ead68b41e92102a403e350ee7a4d74a.jpg: 320x320 3 drones, 187.5ms\n",
      "image 218/224 C:\\Users\\vidya\\Desktop\\Jupyter Notebook\\Aerial Object Classification & Detection\\object_detection_Dataset\\test\\images\\pic_957_jpg.rf.442136b9dbf8122fc5ce914bb8e43e51.jpg: 320x320 (no detections), 125.0ms\n",
      "image 219/224 C:\\Users\\vidya\\Desktop\\Jupyter Notebook\\Aerial Object Classification & Detection\\object_detection_Dataset\\test\\images\\pic_964_jpg.rf.f1336395791eaaa28d12fd36a01efe3a.jpg: 320x320 1 drone, 93.8ms\n",
      "image 220/224 C:\\Users\\vidya\\Desktop\\Jupyter Notebook\\Aerial Object Classification & Detection\\object_detection_Dataset\\test\\images\\pic_971_jpg.rf.c2cac8b790bc8d67204789d624e29e96.jpg: 320x320 1 Bird, 93.7ms\n",
      "image 221/224 C:\\Users\\vidya\\Desktop\\Jupyter Notebook\\Aerial Object Classification & Detection\\object_detection_Dataset\\test\\images\\yoto00059_png.rf.3e4a6fd6685f307d349333bb3e78fe5c.jpg: 320x320 1 drone, 78.1ms\n",
      "image 222/224 C:\\Users\\vidya\\Desktop\\Jupyter Notebook\\Aerial Object Classification & Detection\\object_detection_Dataset\\test\\images\\yoto00349_png.rf.3b9d30e4b8fc86ce3d72cb591a67780c.jpg: 320x320 1 drone, 93.8ms\n",
      "image 223/224 C:\\Users\\vidya\\Desktop\\Jupyter Notebook\\Aerial Object Classification & Detection\\object_detection_Dataset\\test\\images\\yoto00929_png.rf.4ca040208ee18f9fa6eedd11feb04813.jpg: 320x320 1 drone, 109.4ms\n",
      "image 224/224 C:\\Users\\vidya\\Desktop\\Jupyter Notebook\\Aerial Object Classification & Detection\\object_detection_Dataset\\test\\images\\yoto09716_png.rf.c8d1dc0a6328baa37563d192322690bb.jpg: 320x320 1 drone, 125.0ms\n",
      "Speed: 2.1ms preprocess, 111.3ms inference, 1.9ms postprocess per image at shape (1, 3, 320, 320)\n",
      "Results saved to \u001b[1mruns\\detect\\predict\u001b[0m\n",
      "✅ Inference complete! Check 'runs/detect/predict' folder for results.\n"
     ]
    }
   ],
   "source": [
    "#6. Run inference on test or new images.\n",
    "\n",
    "model = YOLO(\"runs/yolov8_cpu_training/weights/best.pt\")\n",
    "\n",
    "results = model.predict(\n",
    "    source=r\"C:\\Users\\vidya\\Desktop\\Jupyter Notebook\\Aerial Object Classification & Detection\\object_detection_Dataset\\test\\images\",\n",
    "    conf=0.4,         \n",
    "    save=True,        \n",
    "    show=False,       \n",
    "    device=\"cpu\"\n",
    ")\n",
    "\n",
    "print(\"✅ Inference complete! Check 'runs/detect/predict' folder for results.\")"
   ]
  },
  {
   "cell_type": "code",
   "execution_count": null,
   "id": "92d80eb0-e38c-431f-afba-5c93c2d89402",
   "metadata": {},
   "outputs": [],
   "source": []
  }
 ],
 "metadata": {
  "kernelspec": {
   "display_name": "Python 3 (ipykernel)",
   "language": "python",
   "name": "python3"
  },
  "language_info": {
   "codemirror_mode": {
    "name": "ipython",
    "version": 3
   },
   "file_extension": ".py",
   "mimetype": "text/x-python",
   "name": "python",
   "nbconvert_exporter": "python",
   "pygments_lexer": "ipython3",
   "version": "3.10.11"
  }
 },
 "nbformat": 4,
 "nbformat_minor": 5
}
